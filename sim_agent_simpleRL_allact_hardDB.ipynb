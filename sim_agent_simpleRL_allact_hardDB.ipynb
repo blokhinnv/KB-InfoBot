{
 "cells": [
  {
   "cell_type": "code",
   "execution_count": 1,
   "metadata": {},
   "outputs": [],
   "source": [
    "%load_ext autoreload\n",
    "%autoreload 2"
   ]
  },
  {
   "cell_type": "code",
   "execution_count": 2,
   "metadata": {},
   "outputs": [
    {
     "name": "stdout",
     "output_type": "stream",
     "text": [
      "F:\\nvb\\KB-InfoBot\n"
     ]
    }
   ],
   "source": [
    "cd F:\\nvb\\KB-InfoBot"
   ]
  },
  {
   "cell_type": "code",
   "execution_count": 3,
   "metadata": {},
   "outputs": [],
   "source": [
    "from deep_dialog.dialog_system import MovieDict, DictReader, Database\n",
    "from deep_dialog.objects import SlotReader\n",
    "from deep_dialog.agents.agent_simpleRL_allact_hardDB import AgentSimpleRLAllActHardDB\n",
    "from deep_dialog.usersims import RuleSimulator\n",
    "from deep_dialog.usersims.template_nlg import TemplateNLG\n",
    "from deep_dialog.dialog_system.dialog_manager import DialogManager"
   ]
  },
  {
   "cell_type": "code",
   "execution_count": 4,
   "metadata": {},
   "outputs": [],
   "source": [
    "params = {}\n",
    "params['act_set'] = r'F:\\nvb\\KB-InfoBot\\data\\dia_acts.txt'\n",
    "params['dataset'] = 'imdb_S'\n",
    "params['tr'] = 1.0\n",
    "params['ts'] = 1.0\n",
    "params['max_req'] = 1\n",
    "params['frac'] = 0.5\n",
    "params['upd'] = 10\n",
    "params['template_path'] = r'F:\\nvb\\KB-InfoBot\\data\\templates.j'\n",
    "\n",
    "params['ts'] = 0.5\n",
    "params['max_req'] = 2\n",
    "params['frac'] = 0.5\n",
    "params['upd'] = .05\n",
    "params['input'] = 'entropy'\n",
    "params['pol_start'] = 0\n",
    "params['nhid'] = 50\n",
    "params['lr'] = 0.05\n",
    "params['batch'] = 128\n",
    "params['ment'] = 0.\n",
    "\n",
    "\n",
    "max_turn = 20\n",
    "err_prob = .5\n",
    "dk_prob = .5\n",
    "sub_prob = .05\n",
    "nlg_temp = 1\n",
    "max_first_turn = 5\n",
    "\n",
    "\n",
    "slot_path = r'F:\\nvb\\KB-InfoBot\\data\\imdb-S\\slot_set.txt'\n",
    "dict_path = r'F:/nvb/KB-InfoBot/data/imdb-S/dicts_.json'\n",
    "db_full_path = r'F:\\nvb\\KB-InfoBot\\data\\imdb-S\\db.txt'\n",
    "db_inc_path = r'F:\\nvb\\KB-InfoBot\\data\\imdb-S\\incomplete_db_0.20.txt'"
   ]
  },
  {
   "cell_type": "code",
   "execution_count": 5,
   "metadata": {},
   "outputs": [],
   "source": [
    "act_set = DictReader()\n",
    "act_set.load_dict_from_file(params['act_set'])"
   ]
  },
  {
   "cell_type": "code",
   "execution_count": 6,
   "metadata": {},
   "outputs": [],
   "source": [
    "slot_set = SlotReader(slot_path)"
   ]
  },
  {
   "cell_type": "code",
   "execution_count": 7,
   "metadata": {},
   "outputs": [],
   "source": [
    "movie_kb = MovieDict(dict_path)"
   ]
  },
  {
   "cell_type": "code",
   "execution_count": 8,
   "metadata": {},
   "outputs": [],
   "source": [
    "db_full = Database(db_full_path, movie_kb, name=params['dataset'])\n",
    "db_inc = Database(db_inc_path, movie_kb, name='incomplete_db_0.20')"
   ]
  },
  {
   "cell_type": "code",
   "execution_count": 9,
   "metadata": {},
   "outputs": [],
   "source": [
    "nlg = TemplateNLG(params['template_path'])"
   ]
  },
  {
   "cell_type": "code",
   "execution_count": 10,
   "metadata": {},
   "outputs": [],
   "source": [
    "user_sim = RuleSimulator(movie_dict=movie_kb, act_set=act_set, slot_set=slot_set, \n",
    "                         start_set=None, max_turn=max_turn, nlg=nlg, err_prob=err_prob, \n",
    "                         db=db_full, dk_prob=(1.-dk_prob), sub_prob=sub_prob, \n",
    "                         max_first_turn=max_first_turn)"
   ]
  },
  {
   "cell_type": "code",
   "execution_count": 11,
   "metadata": {
    "scrolled": true
   },
   "outputs": [
    {
     "name": "stderr",
     "output_type": "stream",
     "text": [
      "F:\\Anaconda3\\envs\\torch_kbinfo\\lib\\site-packages\\theano\\gpuarray\\dnn.py:184: UserWarning: Your cuDNN version is more recent than Theano. If you encounter problems, try updating Theano or downgrading cuDNN to a version >= v5 and <= v7.\n",
      "  warnings.warn(\"Your cuDNN version is more recent than \"\n",
      "F:\\Anaconda3\\envs\\torch_kbinfo\\lib\\site-packages\\theano\\scan_module\\scan_perform_ext.py:76: UserWarning: The file scan_perform.c is not available. This donot happen normally. You are probably in a strangesetup. This mean Theano can not use the cython code for scan. If youwant to remove this warning, use the Theano flag'cxx=' (set to an empty string) to disable all ccode generation.\n",
      "  \"The file scan_perform.c is not available. This do\"\n",
      "F:\\Anaconda3\\envs\\torch_kbinfo\\lib\\site-packages\\theano\\scan_module\\scan_perform_ext.py:76: UserWarning: The file scan_perform.c is not available. This donot happen normally. You are probably in a strangesetup. This mean Theano can not use the cython code for scan. If youwant to remove this warning, use the Theano flag'cxx=' (set to an empty string) to disable all ccode generation.\n",
      "  \"The file scan_perform.c is not available. This do\"\n",
      "F:\\Anaconda3\\envs\\torch_kbinfo\\lib\\site-packages\\theano\\scan_module\\scan_perform_ext.py:76: UserWarning: The file scan_perform.c is not available. This donot happen normally. You are probably in a strangesetup. This mean Theano can not use the cython code for scan. If youwant to remove this warning, use the Theano flag'cxx=' (set to an empty string) to disable all ccode generation.\n",
      "  \"The file scan_perform.c is not available. This do\"\n",
      "F:\\Anaconda3\\envs\\torch_kbinfo\\lib\\site-packages\\theano\\scan_module\\scan_perform_ext.py:76: UserWarning: The file scan_perform.c is not available. This donot happen normally. You are probably in a strangesetup. This mean Theano can not use the cython code for scan. If youwant to remove this warning, use the Theano flag'cxx=' (set to an empty string) to disable all ccode generation.\n",
      "  \"The file scan_perform.c is not available. This do\"\n",
      "F:\\Anaconda3\\envs\\torch_kbinfo\\lib\\site-packages\\theano\\scan_module\\scan_perform_ext.py:76: UserWarning: The file scan_perform.c is not available. This donot happen normally. You are probably in a strangesetup. This mean Theano can not use the cython code for scan. If youwant to remove this warning, use the Theano flag'cxx=' (set to an empty string) to disable all ccode generation.\n",
      "  \"The file scan_perform.c is not available. This do\"\n",
      "F:\\Anaconda3\\envs\\torch_kbinfo\\lib\\site-packages\\theano\\scan_module\\scan_perform_ext.py:76: UserWarning: The file scan_perform.c is not available. This donot happen normally. You are probably in a strangesetup. This mean Theano can not use the cython code for scan. If youwant to remove this warning, use the Theano flag'cxx=' (set to an empty string) to disable all ccode generation.\n",
      "  \"The file scan_perform.c is not available. This do\"\n",
      "F:\\Anaconda3\\envs\\torch_kbinfo\\lib\\site-packages\\theano\\scan_module\\scan_perform_ext.py:76: UserWarning: The file scan_perform.c is not available. This donot happen normally. You are probably in a strangesetup. This mean Theano can not use the cython code for scan. If youwant to remove this warning, use the Theano flag'cxx=' (set to an empty string) to disable all ccode generation.\n",
      "  \"The file scan_perform.c is not available. This do\"\n"
     ]
    }
   ],
   "source": [
    "agent = AgentSimpleRLAllActHardDB(movie_kb, act_set, slot_set, db_inc, \n",
    "                                  train=True, _reload=False,\n",
    "                                  n_hid=params['nhid'], batch=params['batch'], ment=params['ment'],\n",
    "                                  inputtype=params['input'], pol_start=params['pol_start'], \n",
    "                                  lr=params['lr'], upd=params['upd'],\n",
    "                                  ts=params['ts'], frac=params['frac'], \n",
    "                                  max_req=params['max_req'], name='best_simple-rl-hard_trulala_imdb_p3.pkl')"
   ]
  },
  {
   "cell_type": "code",
   "execution_count": 118,
   "metadata": {},
   "outputs": [
    {
     "data": {
      "text/plain": [
       "(24, 7, 128, 50)"
      ]
     },
     "execution_count": 118,
     "metadata": {},
     "output_type": "execute_result"
    }
   ],
   "source": [
    "agent.in_size, agent.out_size, agent.batch_size, agent.n_hid"
   ]
  },
  {
   "cell_type": "code",
   "execution_count": 119,
   "metadata": {},
   "outputs": [
    {
     "data": {
      "text/plain": [
       "(deque([]), deque([]), deque([]), deque([]))"
      ]
     },
     "execution_count": 119,
     "metadata": {},
     "output_type": "execute_result"
    }
   ],
   "source": [
    "agent.recent_rewards, agent.recent_successes, agent.recent_turns, agent.recent_loss"
   ]
  },
  {
   "cell_type": "code",
   "execution_count": 124,
   "metadata": {},
   "outputs": [
    {
     "data": {
      "text/plain": [
       "1"
      ]
     },
     "execution_count": 124,
     "metadata": {},
     "output_type": "execute_result"
    }
   ],
   "source": [
    "agent.episode_count"
   ]
  },
  {
   "cell_type": "code",
   "execution_count": 27,
   "metadata": {},
   "outputs": [
    {
     "data": {
      "text/plain": [
       "{'database': <deep_dialog.dialog_system.database.Database at 0x16d13dff6c8>,\n",
       " 'prevact': 'begin@begin',\n",
       " 'inform_slots': {'actor': array([0.5092593 , 0.49074075], dtype=float32),\n",
       "  'critic_rating': array([0.10798122, 0.07511737, 0.08450704, 0.16431925, 0.11267605,\n",
       "         0.09859155, 0.08920188, 0.09859155, 0.08450704, 0.08450704],\n",
       "        dtype=float32),\n",
       "  'genre': array([0.09345794, 0.08878504, 0.08878504, 0.08411215, 0.07009346,\n",
       "         0.06542056, 0.03738318, 0.07943925, 0.06074766, 0.07009346,\n",
       "         0.06542056, 0.08411215, 0.11214953], dtype=float32),\n",
       "  'mpaa_rating': array([0.34545454, 0.3272727 , 0.3272727 ], dtype=float32),\n",
       "  'director': array([0.26339287, 0.26339287, 0.20089285, 0.27232143], dtype=float32),\n",
       "  'release_year': array([0.06086956, 0.07391305, 0.07391305, 0.06956521, 0.06086956,\n",
       "         0.08260869, 0.03478261, 0.04347826, 0.07391305, 0.07826087,\n",
       "         0.04347826, 0.06956521, 0.03043478, 0.06086956, 0.07826087,\n",
       "         0.06521739], dtype=float32)},\n",
       " 'turn': 0,\n",
       " 'num_requests': {'actor': 0,\n",
       "  'critic_rating': 0,\n",
       "  'genre': 0,\n",
       "  'mpaa_rating': 0,\n",
       "  'director': 0,\n",
       "  'release_year': 0},\n",
       " 'slot_tracker': set(),\n",
       " 'dont_care': set(),\n",
       " 'init_entropy': {'actor': 0.9997526100334744,\n",
       "  'critic_rating': 3.2841470133855744,\n",
       "  'genre': 3.660058353210298,\n",
       "  'mpaa_rating': 1.5844883898180346,\n",
       "  'director': 1.9901216765729273,\n",
       "  'release_year': 3.9503124872328668},\n",
       " 'inputs': [],\n",
       " 'actions': [],\n",
       " 'rewards': [],\n",
       " 'pol_state': array([[0., 0., 0., 0., 0., 0., 0., 0., 0., 0., 0., 0., 0., 0., 0., 0.,\n",
       "         0., 0., 0., 0., 0., 0., 0., 0., 0., 0., 0., 0., 0., 0., 0., 0.,\n",
       "         0., 0., 0., 0., 0., 0., 0., 0., 0., 0., 0., 0., 0., 0., 0., 0.,\n",
       "         0., 0.]], dtype=float32)}"
      ]
     },
     "execution_count": 27,
     "metadata": {},
     "output_type": "execute_result"
    }
   ],
   "source": [
    "agent.initialize_episode()\n",
    "agent.state"
   ]
  },
  {
   "cell_type": "code",
   "execution_count": 28,
   "metadata": {},
   "outputs": [
    {
     "name": "stdout",
     "output_type": "stream",
     "text": [
      "У искомой сущности есть слоты (в неполной БД) ['critic_rating', 'mpaa_rating', 'release_year']\n",
      "Пользователь уже назвал (?): {'release_year': '2003', 'critic_rating': 'top', 'mpaa_rating': 'pg-13'}\n"
     ]
    },
    {
     "data": {
      "text/plain": [
       "{'diaact': 'request',\n",
       " 'turn': 0,\n",
       " 'inform_slots': {'release_year': '2003',\n",
       "  'critic_rating': 'top',\n",
       "  'mpaa_rating': 'pg-13'},\n",
       " 'request_slots': {'movie': 'UNK'},\n",
       " 'prev_diaact': 'UNK',\n",
       " 'inform_slots_noisy': {'release_year': '2002',\n",
       "  'critic_rating': 'top',\n",
       "  'mpaa_rating': 'pg-13'},\n",
       " 'nl_sentence': 'Can you please tell me a movie whose mpaa_rating is pg-13, critic_rating is top and release_year is 2002?',\n",
       " 'episode_over': False,\n",
       " 'reward': 0}"
      ]
     },
     "execution_count": 28,
     "metadata": {},
     "output_type": "execute_result"
    }
   ],
   "source": [
    "ua = user_sim.initialize_episode()\n",
    "ua "
   ]
  },
  {
   "cell_type": "code",
   "execution_count": 29,
   "metadata": {
    "scrolled": true
   },
   "outputs": [
    {
     "name": "stdout",
     "output_type": "stream",
     "text": [
      "Agent updating state:  begin begin\n",
      "Detected top  update =  1.0\n",
      "Detected top rated  update =  0.5\n",
      "Detected pg-13  update =  1.0\n",
      "Detected 2002  update =  1.0\n",
      "Found 12 entiteis!\n"
     ]
    },
    {
     "data": {
      "text/plain": [
       "{'database': <deep_dialog.dialog_system.database.Database at 0x16d13dff6c8>,\n",
       " 'prevact': 'request@director',\n",
       " 'inform_slots': {'actor': array([0.5092593 , 0.49074075], dtype=float32),\n",
       "  'critic_rating': array([0.10798122, 0.07511737, 0.08450704, 0.26431924, 0.11267605,\n",
       "         0.17359155, 0.08920188, 0.09859155, 0.08450704, 0.08450704],\n",
       "        dtype=float32),\n",
       "  'genre': array([0.09345794, 0.08878504, 0.08878504, 0.08411215, 0.07009346,\n",
       "         0.06542056, 0.03738318, 0.07943925, 0.06074766, 0.07009346,\n",
       "         0.06542056, 0.08411215, 0.11214953], dtype=float32),\n",
       "  'mpaa_rating': array([0.34545454, 0.4272727 , 0.3272727 ], dtype=float32),\n",
       "  'director': array([0.26339287, 0.26339287, 0.20089285, 0.27232143], dtype=float32),\n",
       "  'release_year': array([0.06086956, 0.07391305, 0.17391305, 0.06956521, 0.06086956,\n",
       "         0.08260869, 0.03478261, 0.04347826, 0.07391305, 0.07826087,\n",
       "         0.04347826, 0.06956521, 0.03043478, 0.06086956, 0.07826087,\n",
       "         0.06521739], dtype=float32)},\n",
       " 'turn': 1,\n",
       " 'num_requests': {'actor': 0,\n",
       "  'critic_rating': 0,\n",
       "  'genre': 0,\n",
       "  'mpaa_rating': 0,\n",
       "  'director': 1,\n",
       "  'release_year': 0},\n",
       " 'slot_tracker': {'critic_rating', 'mpaa_rating', 'release_year'},\n",
       " 'dont_care': set(),\n",
       " 'init_entropy': {'actor': 0.9997526100334744,\n",
       "  'critic_rating': 3.2841470133855744,\n",
       "  'genre': 3.660058353210298,\n",
       "  'mpaa_rating': 1.5844883898180346,\n",
       "  'director': 1.9901216765729273,\n",
       "  'release_year': 3.9503124872328668},\n",
       " 'inputs': [array([0.9997526, 3.1879168, 3.6600585, 1.5750268, 1.9901217, 3.875163 ,\n",
       "         0.       , 0.       , 0.       , 0.       , 0.       , 0.       ,\n",
       "         0.       , 0.       , 0.       , 0.       , 0.       , 0.       ,\n",
       "         0.       , 0.       , 0.       , 0.       , 0.       , 1.       ],\n",
       "        dtype=float32)],\n",
       " 'actions': [4],\n",
       " 'rewards': [0],\n",
       " 'pol_state': array([[ 0.05399757,  0.42263826, -0.11459289, -0.28434914,  0.2638869 ,\n",
       "          0.48085717,  0.05398443,  0.08235854,  0.12298063, -0.3579206 ,\n",
       "          0.35468596,  0.38894905,  0.28913034,  0.16736947,  0.27105836,\n",
       "         -0.25831621,  0.08316233, -0.2430176 , -0.04044035, -0.14401802,\n",
       "          0.21358291,  0.40053983, -0.13861697, -0.03652073,  0.09155733,\n",
       "          0.063527  , -0.33668572, -0.08359598, -0.31270046,  0.11026425,\n",
       "          0.31847794,  0.08773325,  0.35284683, -0.03713821,  0.22293074,\n",
       "          0.0526389 ,  0.0327215 , -0.15054599, -0.05584476,  0.09369249,\n",
       "          0.05839632, -0.02431455, -0.51020306, -0.0203533 , -0.37213785,\n",
       "         -0.08899949,  0.04035765, -0.01525526, -0.23651126, -0.1534909 ]])}"
      ]
     },
     "execution_count": 29,
     "metadata": {},
     "output_type": "execute_result"
    }
   ],
   "source": [
    "nxt = agent.next(ua, verbose=True)\n",
    "agent.state"
   ]
  },
  {
   "cell_type": "code",
   "execution_count": 30,
   "metadata": {
    "scrolled": true
   },
   "outputs": [
    {
     "data": {
      "text/plain": [
       "{'diaact': 'request',\n",
       " 'request_slots': {'director': 'UNK'},\n",
       " 'target': [],\n",
       " 'posterior': array([0.        , 0.        , 0.        , 0.        , 0.        ,\n",
       "        0.        , 0.        , 0.        , 0.        , 0.        ,\n",
       "        0.        , 0.        , 0.        , 0.        , 0.        ,\n",
       "        0.        , 0.        , 0.        , 0.        , 0.        ,\n",
       "        0.        , 0.        , 0.        , 0.        , 0.        ,\n",
       "        0.        , 0.        , 0.        , 0.        , 0.08333333,\n",
       "        0.        , 0.        , 0.        , 0.        , 0.        ,\n",
       "        0.        , 0.        , 0.        , 0.        , 0.        ,\n",
       "        0.08333333, 0.        , 0.        , 0.        , 0.        ,\n",
       "        0.        , 0.        , 0.        , 0.        , 0.        ,\n",
       "        0.        , 0.        , 0.        , 0.        , 0.        ,\n",
       "        0.        , 0.        , 0.        , 0.        , 0.        ,\n",
       "        0.        , 0.        , 0.        , 0.        , 0.        ,\n",
       "        0.        , 0.08333333, 0.        , 0.        , 0.        ,\n",
       "        0.        , 0.        , 0.        , 0.        , 0.        ,\n",
       "        0.        , 0.        , 0.        , 0.        , 0.        ,\n",
       "        0.        , 0.        , 0.        , 0.        , 0.        ,\n",
       "        0.        , 0.        , 0.        , 0.        , 0.        ,\n",
       "        0.        , 0.        , 0.        , 0.        , 0.        ,\n",
       "        0.08333333, 0.        , 0.        , 0.        , 0.        ,\n",
       "        0.        , 0.        , 0.08333333, 0.        , 0.        ,\n",
       "        0.        , 0.        , 0.        , 0.        , 0.        ,\n",
       "        0.        , 0.        , 0.        , 0.        , 0.        ,\n",
       "        0.        , 0.        , 0.        , 0.        , 0.        ,\n",
       "        0.        , 0.        , 0.        , 0.08333333, 0.        ,\n",
       "        0.        , 0.        , 0.        , 0.        , 0.        ,\n",
       "        0.        , 0.        , 0.        , 0.        , 0.        ,\n",
       "        0.        , 0.        , 0.        , 0.        , 0.        ,\n",
       "        0.        , 0.        , 0.        , 0.        , 0.        ,\n",
       "        0.        , 0.        , 0.        , 0.        , 0.        ,\n",
       "        0.        , 0.        , 0.        , 0.        , 0.        ,\n",
       "        0.        , 0.        , 0.        , 0.        , 0.        ,\n",
       "        0.        , 0.        , 0.        , 0.        , 0.        ,\n",
       "        0.        , 0.        , 0.        , 0.        , 0.        ,\n",
       "        0.        , 0.        , 0.        , 0.        , 0.        ,\n",
       "        0.        , 0.        , 0.        , 0.        , 0.        ,\n",
       "        0.        , 0.        , 0.        , 0.08333333, 0.        ,\n",
       "        0.        , 0.        , 0.        , 0.        , 0.        ,\n",
       "        0.        , 0.        , 0.        , 0.        , 0.        ,\n",
       "        0.        , 0.        , 0.        , 0.        , 0.        ,\n",
       "        0.08333333, 0.        , 0.        , 0.        , 0.        ,\n",
       "        0.        , 0.        , 0.        , 0.08333333, 0.        ,\n",
       "        0.        , 0.        , 0.        , 0.        , 0.        ,\n",
       "        0.        , 0.08333333, 0.        , 0.        , 0.        ,\n",
       "        0.        , 0.        , 0.        , 0.        , 0.        ,\n",
       "        0.        , 0.        , 0.        , 0.        , 0.        ,\n",
       "        0.        , 0.        , 0.        , 0.        , 0.        ,\n",
       "        0.        , 0.        , 0.        , 0.        , 0.        ,\n",
       "        0.        , 0.        , 0.08333333, 0.        , 0.        ,\n",
       "        0.        , 0.        , 0.        , 0.        , 0.        ,\n",
       "        0.        , 0.        , 0.        , 0.08333333, 0.        ,\n",
       "        0.        , 0.        , 0.        , 0.        , 0.        ,\n",
       "        0.        , 0.        , 0.        , 0.        , 0.        ,\n",
       "        0.        , 0.        , 0.        , 0.        , 0.        ,\n",
       "        0.        , 0.        , 0.        , 0.        , 0.        ,\n",
       "        0.        , 0.        ])}"
      ]
     },
     "execution_count": 30,
     "metadata": {},
     "output_type": "execute_result"
    }
   ],
   "source": [
    "nxt"
   ]
  },
  {
   "cell_type": "code",
   "execution_count": 31,
   "metadata": {},
   "outputs": [],
   "source": [
    "ua, episode_over, reward = user_sim.next(nxt)"
   ]
  },
  {
   "cell_type": "code",
   "execution_count": 32,
   "metadata": {},
   "outputs": [
    {
     "data": {
      "text/plain": [
       "{'diaact': 'inform',\n",
       " 'turn': 1,\n",
       " 'inform_slots': {'director': None},\n",
       " 'request_slots': {},\n",
       " 'prev_diaact': 'request',\n",
       " 'inform_slots_noisy': {'director': None},\n",
       " 'nl_sentence': 'I dont know',\n",
       " 'episode_over': False,\n",
       " 'reward': -0.1}"
      ]
     },
     "execution_count": 32,
     "metadata": {},
     "output_type": "execute_result"
    }
   ],
   "source": [
    "ua"
   ]
  },
  {
   "cell_type": "code",
   "execution_count": 33,
   "metadata": {
    "scrolled": true
   },
   "outputs": [
    {
     "name": "stdout",
     "output_type": "stream",
     "text": [
      "Agent updating state:  request director\n",
      "Removing slot director from db!\n",
      "Found 12 entiteis!\n"
     ]
    },
    {
     "data": {
      "text/plain": [
       "{'database': <deep_dialog.dialog_system.database.Database at 0x16d13dff6c8>,\n",
       " 'prevact': 'request@actor',\n",
       " 'inform_slots': {'actor': array([0.5092593 , 0.49074075], dtype=float32),\n",
       "  'critic_rating': array([0.10798122, 0.07511737, 0.08450704, 0.26431924, 0.11267605,\n",
       "         0.17359155, 0.08920188, 0.09859155, 0.08450704, 0.08450704],\n",
       "        dtype=float32),\n",
       "  'genre': array([0.09345794, 0.08878504, 0.08878504, 0.08411215, 0.07009346,\n",
       "         0.06542056, 0.03738318, 0.07943925, 0.06074766, 0.07009346,\n",
       "         0.06542056, 0.08411215, 0.11214953], dtype=float32),\n",
       "  'mpaa_rating': array([0.34545454, 0.4272727 , 0.3272727 ], dtype=float32),\n",
       "  'director': array([0.26339287, 0.26339287, 0.20089285, 0.27232143], dtype=float32),\n",
       "  'release_year': array([0.06086956, 0.07391305, 0.17391305, 0.06956521, 0.06086956,\n",
       "         0.08260869, 0.03478261, 0.04347826, 0.07391305, 0.07826087,\n",
       "         0.04347826, 0.06956521, 0.03043478, 0.06086956, 0.07826087,\n",
       "         0.06521739], dtype=float32)},\n",
       " 'turn': 2,\n",
       " 'num_requests': {'actor': 1,\n",
       "  'critic_rating': 0,\n",
       "  'genre': 0,\n",
       "  'mpaa_rating': 0,\n",
       "  'director': 1000,\n",
       "  'release_year': 0},\n",
       " 'slot_tracker': {'critic_rating', 'mpaa_rating', 'release_year'},\n",
       " 'dont_care': {'director'},\n",
       " 'init_entropy': {'actor': 0.9997526100334744,\n",
       "  'critic_rating': 3.2841470133855744,\n",
       "  'genre': 3.660058353210298,\n",
       "  'mpaa_rating': 1.5844883898180346,\n",
       "  'director': 1.9901216765729273,\n",
       "  'release_year': 3.9503124872328668},\n",
       " 'inputs': [array([0.9997526, 3.1879168, 3.6600585, 1.5750268, 1.9901217, 3.875163 ,\n",
       "         0.       , 0.       , 0.       , 0.       , 0.       , 0.       ,\n",
       "         0.       , 0.       , 0.       , 0.       , 0.       , 0.       ,\n",
       "         0.       , 0.       , 0.       , 0.       , 0.       , 1.       ],\n",
       "        dtype=float32),\n",
       "  array([0.9997526, 3.1879168, 3.6600585, 1.5750268, 1.9901217, 3.875163 ,\n",
       "         0.       , 0.       , 0.       , 0.       , 1.       , 0.       ,\n",
       "         0.       , 0.       , 0.       , 0.       , 1.       , 0.       ,\n",
       "         0.       , 0.       , 0.       , 0.       , 0.       , 1.       ],\n",
       "        dtype=float32)],\n",
       " 'actions': [4, 0],\n",
       " 'rewards': [0, -0.1],\n",
       " 'pol_state': array([[ 0.04007611,  0.58359201, -0.11276289, -0.44271867,  0.42243745,\n",
       "          0.62150127,  0.10554029, -0.07907691,  0.27175987, -0.50039785,\n",
       "          0.52001881,  0.45400418,  0.53848864,  0.1022969 ,  0.32558043,\n",
       "         -0.40249198,  0.16770048, -0.43717113, -0.00758022, -0.2772338 ,\n",
       "          0.35534657,  0.57268157, -0.16355894, -0.08238923,  0.11112479,\n",
       "          0.03250627, -0.34478106, -0.15189801, -0.24819137,  0.20344457,\n",
       "          0.45201603,  0.18816632,  0.56570184, -0.15884774,  0.3655651 ,\n",
       "         -0.00332531,  0.04002238, -0.23350839,  0.04544881,  0.12051976,\n",
       "          0.02871489, -0.10248632, -0.70547914, -0.20603085, -0.56427017,\n",
       "         -0.11089659,  0.14239745,  0.07535282, -0.33558059, -0.18601449]])}"
      ]
     },
     "execution_count": 33,
     "metadata": {},
     "output_type": "execute_result"
    }
   ],
   "source": [
    "nxt = agent.next(ua, verbose=True)\n",
    "agent.state"
   ]
  },
  {
   "cell_type": "code",
   "execution_count": 34,
   "metadata": {
    "scrolled": true
   },
   "outputs": [
    {
     "data": {
      "text/plain": [
       "{'diaact': 'request',\n",
       " 'request_slots': {'actor': 'UNK'},\n",
       " 'target': [],\n",
       " 'posterior': array([0.        , 0.        , 0.        , 0.        , 0.        ,\n",
       "        0.        , 0.        , 0.        , 0.        , 0.        ,\n",
       "        0.        , 0.        , 0.        , 0.        , 0.        ,\n",
       "        0.        , 0.        , 0.        , 0.        , 0.        ,\n",
       "        0.        , 0.        , 0.        , 0.        , 0.        ,\n",
       "        0.        , 0.        , 0.        , 0.        , 0.08333333,\n",
       "        0.        , 0.        , 0.        , 0.        , 0.        ,\n",
       "        0.        , 0.        , 0.        , 0.        , 0.        ,\n",
       "        0.08333333, 0.        , 0.        , 0.        , 0.        ,\n",
       "        0.        , 0.        , 0.        , 0.        , 0.        ,\n",
       "        0.        , 0.        , 0.        , 0.        , 0.        ,\n",
       "        0.        , 0.        , 0.        , 0.        , 0.        ,\n",
       "        0.        , 0.        , 0.        , 0.        , 0.        ,\n",
       "        0.        , 0.08333333, 0.        , 0.        , 0.        ,\n",
       "        0.        , 0.        , 0.        , 0.        , 0.        ,\n",
       "        0.        , 0.        , 0.        , 0.        , 0.        ,\n",
       "        0.        , 0.        , 0.        , 0.        , 0.        ,\n",
       "        0.        , 0.        , 0.        , 0.        , 0.        ,\n",
       "        0.        , 0.        , 0.        , 0.        , 0.        ,\n",
       "        0.08333333, 0.        , 0.        , 0.        , 0.        ,\n",
       "        0.        , 0.        , 0.08333333, 0.        , 0.        ,\n",
       "        0.        , 0.        , 0.        , 0.        , 0.        ,\n",
       "        0.        , 0.        , 0.        , 0.        , 0.        ,\n",
       "        0.        , 0.        , 0.        , 0.        , 0.        ,\n",
       "        0.        , 0.        , 0.        , 0.08333333, 0.        ,\n",
       "        0.        , 0.        , 0.        , 0.        , 0.        ,\n",
       "        0.        , 0.        , 0.        , 0.        , 0.        ,\n",
       "        0.        , 0.        , 0.        , 0.        , 0.        ,\n",
       "        0.        , 0.        , 0.        , 0.        , 0.        ,\n",
       "        0.        , 0.        , 0.        , 0.        , 0.        ,\n",
       "        0.        , 0.        , 0.        , 0.        , 0.        ,\n",
       "        0.        , 0.        , 0.        , 0.        , 0.        ,\n",
       "        0.        , 0.        , 0.        , 0.        , 0.        ,\n",
       "        0.        , 0.        , 0.        , 0.        , 0.        ,\n",
       "        0.        , 0.        , 0.        , 0.        , 0.        ,\n",
       "        0.        , 0.        , 0.        , 0.        , 0.        ,\n",
       "        0.        , 0.        , 0.        , 0.08333333, 0.        ,\n",
       "        0.        , 0.        , 0.        , 0.        , 0.        ,\n",
       "        0.        , 0.        , 0.        , 0.        , 0.        ,\n",
       "        0.        , 0.        , 0.        , 0.        , 0.        ,\n",
       "        0.08333333, 0.        , 0.        , 0.        , 0.        ,\n",
       "        0.        , 0.        , 0.        , 0.08333333, 0.        ,\n",
       "        0.        , 0.        , 0.        , 0.        , 0.        ,\n",
       "        0.        , 0.08333333, 0.        , 0.        , 0.        ,\n",
       "        0.        , 0.        , 0.        , 0.        , 0.        ,\n",
       "        0.        , 0.        , 0.        , 0.        , 0.        ,\n",
       "        0.        , 0.        , 0.        , 0.        , 0.        ,\n",
       "        0.        , 0.        , 0.        , 0.        , 0.        ,\n",
       "        0.        , 0.        , 0.08333333, 0.        , 0.        ,\n",
       "        0.        , 0.        , 0.        , 0.        , 0.        ,\n",
       "        0.        , 0.        , 0.        , 0.08333333, 0.        ,\n",
       "        0.        , 0.        , 0.        , 0.        , 0.        ,\n",
       "        0.        , 0.        , 0.        , 0.        , 0.        ,\n",
       "        0.        , 0.        , 0.        , 0.        , 0.        ,\n",
       "        0.        , 0.        , 0.        , 0.        , 0.        ,\n",
       "        0.        , 0.        ])}"
      ]
     },
     "execution_count": 34,
     "metadata": {},
     "output_type": "execute_result"
    }
   ],
   "source": [
    "nxt"
   ]
  },
  {
   "cell_type": "code",
   "execution_count": 35,
   "metadata": {},
   "outputs": [],
   "source": [
    "ua, episode_over, reward = user_sim.next(nxt)"
   ]
  },
  {
   "cell_type": "code",
   "execution_count": 36,
   "metadata": {},
   "outputs": [
    {
     "data": {
      "text/plain": [
       "{'diaact': 'inform',\n",
       " 'turn': 2,\n",
       " 'inform_slots': {'actor': None},\n",
       " 'request_slots': {},\n",
       " 'prev_diaact': 'inform',\n",
       " 'inform_slots_noisy': {'actor': None},\n",
       " 'nl_sentence': 'I dont know',\n",
       " 'episode_over': False,\n",
       " 'reward': -0.1}"
      ]
     },
     "execution_count": 36,
     "metadata": {},
     "output_type": "execute_result"
    }
   ],
   "source": [
    "ua"
   ]
  },
  {
   "cell_type": "code",
   "execution_count": 74,
   "metadata": {},
   "outputs": [],
   "source": [
    "agent.terminate_episode(ua)"
   ]
  },
  {
   "cell_type": "code",
   "execution_count": 75,
   "metadata": {
    "scrolled": true
   },
   "outputs": [
    {
     "data": {
      "text/plain": [
       "{'database': <deep_dialog.dialog_system.database.Database at 0x1e92aad0548>,\n",
       " 'prevact': 'inform@inform',\n",
       " 'inform_slots': {'actor': array([0.5092593 , 0.59074074], dtype=float32),\n",
       "  'critic_rating': array([0.10798122, 0.07511737, 0.08450704, 0.16431925, 0.11267605,\n",
       "         0.09859155, 0.08920188, 0.09859155, 0.08450704, 0.08450704],\n",
       "        dtype=float32),\n",
       "  'genre': array([0.09345794, 0.08878504, 0.08878504, 0.08411215, 0.07009346,\n",
       "         0.06542056, 0.03738318, 0.07943925, 0.06074766, 0.07009346,\n",
       "         0.06542056, 0.08411215, 0.11214953], dtype=float32),\n",
       "  'mpaa_rating': array([0.34545454, 0.3272727 , 0.3272727 ], dtype=float32),\n",
       "  'director': array([0.26339287, 0.26339287, 0.20089285, 0.27232143], dtype=float32),\n",
       "  'release_year': array([0.06086956, 0.07391305, 0.07391305, 0.06956521, 0.06086956,\n",
       "         0.08260869, 0.03478261, 0.04347826, 0.07391305, 0.07826087,\n",
       "         0.04347826, 0.06956521, 0.03043478, 0.06086956, 0.07826087,\n",
       "         0.06521739], dtype=float32)},\n",
       " 'turn': 2,\n",
       " 'num_requests': {'actor': 0,\n",
       "  'critic_rating': 1000,\n",
       "  'genre': 0,\n",
       "  'mpaa_rating': 0,\n",
       "  'director': 0,\n",
       "  'release_year': 0},\n",
       " 'slot_tracker': {'actor'},\n",
       " 'dont_care': {'critic_rating'},\n",
       " 'init_entropy': {'actor': 0.9997526100334744,\n",
       "  'critic_rating': 3.2841470133855744,\n",
       "  'genre': 3.660058353210298,\n",
       "  'mpaa_rating': 1.5844883898180346,\n",
       "  'director': 1.9901216765729273,\n",
       "  'release_year': 3.9503124872328668},\n",
       " 'inputs': [array([0.99603844, 3.2841473 , 3.6600585 , 1.5844885 , 1.9901217 ,\n",
       "         3.9503124 , 0.        , 0.        , 0.        , 0.        ,\n",
       "         0.        , 0.        , 0.        , 0.        , 0.        ,\n",
       "         0.        , 0.        , 0.        , 0.        , 0.        ,\n",
       "         0.        , 0.        , 0.        , 1.        ], dtype=float32),\n",
       "  array([0.99603844, 3.2841473 , 3.6600585 , 1.5844885 , 1.9901217 ,\n",
       "         3.9503124 , 0.        , 1.        , 0.        , 0.        ,\n",
       "         0.        , 0.        , 0.        , 1.        , 0.        ,\n",
       "         0.        , 0.        , 0.        , 0.        , 0.        ,\n",
       "         0.        , 0.        , 0.        , 1.        ], dtype=float32)],\n",
       " 'actions': [1, 6],\n",
       " 'rewards': [0, -0.1],\n",
       " 'pol_state': array([[ 0.66146257, -0.68424239, -0.56735487, -0.40563117,  0.43039138,\n",
       "         -0.98828543,  0.49855287, -0.18110935, -0.41670763,  0.07493552,\n",
       "         -0.16416768,  0.31032865,  0.64040357,  0.60216117, -0.58447304,\n",
       "          0.53622424, -0.21251027,  0.06771681,  0.30954395,  0.13564224,\n",
       "         -0.38502826,  0.17300949, -0.99599866, -0.44055144, -0.17157696,\n",
       "         -0.57713598,  0.6274072 ,  0.503331  , -0.75362137, -0.51953888,\n",
       "         -0.27292652, -0.55122845, -0.63246042,  0.31437412,  0.19950598,\n",
       "          0.42911652, -0.28468359,  0.64624985, -0.02888607,  0.0464779 ,\n",
       "          0.2948263 , -0.44141732,  0.47033272,  0.560892  , -0.86324802,\n",
       "          0.75790581,  0.85838593,  0.48886434, -0.58305134, -0.37188907]])}"
      ]
     },
     "execution_count": 75,
     "metadata": {},
     "output_type": "execute_result"
    }
   ],
   "source": [
    "agent.state"
   ]
  },
  {
   "cell_type": "code",
   "execution_count": 77,
   "metadata": {},
   "outputs": [
    {
     "data": {
      "text/plain": [
       "0"
      ]
     },
     "execution_count": 77,
     "metadata": {},
     "output_type": "execute_result"
    }
   ],
   "source": [
    "agent.input_pool"
   ]
  },
  {
   "cell_type": "code",
   "execution_count": 78,
   "metadata": {},
   "outputs": [],
   "source": [
    "i, t, a, r = agent._get_minibatch(2)"
   ]
  },
  {
   "cell_type": "code",
   "execution_count": 87,
   "metadata": {},
   "outputs": [],
   "source": [
    "import numpy as np\n",
    "pi = np.zeros((1, agent.n_hid)).astype('float32')"
   ]
  },
  {
   "cell_type": "code",
   "execution_count": 89,
   "metadata": {},
   "outputs": [
    {
     "data": {
      "text/plain": [
       "(1, 50)"
      ]
     },
     "execution_count": 89,
     "metadata": {},
     "output_type": "execute_result"
    }
   ],
   "source": [
    "pi.shape"
   ]
  },
  {
   "cell_type": "code",
   "execution_count": 98,
   "metadata": {},
   "outputs": [
    {
     "data": {
      "text/plain": [
       "0.0"
      ]
     },
     "execution_count": 98,
     "metadata": {},
     "output_type": "execute_result"
    }
   ],
   "source": [
    "params['ment']"
   ]
  },
  {
   "cell_type": "code",
   "execution_count": 100,
   "metadata": {},
   "outputs": [
    {
     "data": {
      "text/plain": [
       "-20.72326583694641"
      ]
     },
     "execution_count": 100,
     "metadata": {},
     "output_type": "execute_result"
    }
   ],
   "source": [
    "np.log(.00000001)"
   ]
  },
  {
   "cell_type": "code",
   "execution_count": 115,
   "metadata": {},
   "outputs": [
    {
     "data": {
      "text/plain": [
       "1.1717035437571504"
      ]
     },
     "execution_count": 115,
     "metadata": {},
     "output_type": "execute_result"
    }
   ],
   "source": [
    "p = np.array([[1, 1, 1], [.2, .3, .4]])\n",
    "# p = p * .2\n",
    "-np.mean(np.log(p).sum(axis=1))\n"
   ]
  },
  {
   "cell_type": "code",
   "execution_count": 113,
   "metadata": {},
   "outputs": [
    {
     "data": {
      "text/plain": [
       "array([ 0.        , -3.72970145])"
      ]
     },
     "execution_count": 113,
     "metadata": {},
     "output_type": "execute_result"
    }
   ],
   "source": [
    "np.log(p).sum(axis=1)"
   ]
  },
  {
   "cell_type": "code",
   "execution_count": 96,
   "metadata": {},
   "outputs": [
    {
     "name": "stdout",
     "output_type": "stream",
     "text": [
      "[[[0.9997526  3.2841473  3.6600585  1.5750268  1.9901217  3.9503124\n",
      "   0.         0.         0.         0.         0.         0.\n",
      "   0.         0.         0.         0.         0.         0.\n",
      "   0.         0.         0.         0.         0.         1.        ]\n",
      "  [0.9997526  3.2841473  3.6600585  1.5750268  1.9901217  3.9503124\n",
      "   0.         1.         0.         0.         0.         0.\n",
      "   0.         1.         0.         0.         0.         0.\n",
      "   0.         0.         0.         0.         0.         1.        ]\n",
      "  [0.         0.         0.         0.         0.         0.\n",
      "   0.         0.         0.         0.         0.         0.\n",
      "   0.         0.         0.         0.         0.         0.\n",
      "   0.         0.         0.         0.         0.         0.        ]\n",
      "  [0.         0.         0.         0.         0.         0.\n",
      "   0.         0.         0.         0.         0.         0.\n",
      "   0.         0.         0.         0.         0.         0.\n",
      "   0.         0.         0.         0.         0.         0.        ]\n",
      "  [0.         0.         0.         0.         0.         0.\n",
      "   0.         0.         0.         0.         0.         0.\n",
      "   0.         0.         0.         0.         0.         0.\n",
      "   0.         0.         0.         0.         0.         0.        ]\n",
      "  [0.         0.         0.         0.         0.         0.\n",
      "   0.         0.         0.         0.         0.         0.\n",
      "   0.         0.         0.         0.         0.         0.\n",
      "   0.         0.         0.         0.         0.         0.        ]\n",
      "  [0.         0.         0.         0.         0.         0.\n",
      "   0.         0.         0.         0.         0.         0.\n",
      "   0.         0.         0.         0.         0.         0.\n",
      "   0.         0.         0.         0.         0.         0.        ]\n",
      "  [0.         0.         0.         0.         0.         0.\n",
      "   0.         0.         0.         0.         0.         0.\n",
      "   0.         0.         0.         0.         0.         0.\n",
      "   0.         0.         0.         0.         0.         0.        ]\n",
      "  [0.         0.         0.         0.         0.         0.\n",
      "   0.         0.         0.         0.         0.         0.\n",
      "   0.         0.         0.         0.         0.         0.\n",
      "   0.         0.         0.         0.         0.         0.        ]\n",
      "  [0.         0.         0.         0.         0.         0.\n",
      "   0.         0.         0.         0.         0.         0.\n",
      "   0.         0.         0.         0.         0.         0.\n",
      "   0.         0.         0.         0.         0.         0.        ]]\n",
      "\n",
      " [[0.99603844 3.2841473  3.6600585  1.5844885  1.9901217  3.9503124\n",
      "   0.         0.         0.         0.         0.         0.\n",
      "   0.         0.         0.         0.         0.         0.\n",
      "   0.         0.         0.         0.         0.         1.        ]\n",
      "  [0.99603844 3.2841473  3.6600585  1.5844885  1.9901217  3.9503124\n",
      "   0.         1.         0.         0.         0.         0.\n",
      "   0.         1.         0.         0.         0.         0.\n",
      "   0.         0.         0.         0.         0.         1.        ]\n",
      "  [0.         0.         0.         0.         0.         0.\n",
      "   0.         0.         0.         0.         0.         0.\n",
      "   0.         0.         0.         0.         0.         0.\n",
      "   0.         0.         0.         0.         0.         0.        ]\n",
      "  [0.         0.         0.         0.         0.         0.\n",
      "   0.         0.         0.         0.         0.         0.\n",
      "   0.         0.         0.         0.         0.         0.\n",
      "   0.         0.         0.         0.         0.         0.        ]\n",
      "  [0.         0.         0.         0.         0.         0.\n",
      "   0.         0.         0.         0.         0.         0.\n",
      "   0.         0.         0.         0.         0.         0.\n",
      "   0.         0.         0.         0.         0.         0.        ]\n",
      "  [0.         0.         0.         0.         0.         0.\n",
      "   0.         0.         0.         0.         0.         0.\n",
      "   0.         0.         0.         0.         0.         0.\n",
      "   0.         0.         0.         0.         0.         0.        ]\n",
      "  [0.         0.         0.         0.         0.         0.\n",
      "   0.         0.         0.         0.         0.         0.\n",
      "   0.         0.         0.         0.         0.         0.\n",
      "   0.         0.         0.         0.         0.         0.        ]\n",
      "  [0.         0.         0.         0.         0.         0.\n",
      "   0.         0.         0.         0.         0.         0.\n",
      "   0.         0.         0.         0.         0.         0.\n",
      "   0.         0.         0.         0.         0.         0.        ]\n",
      "  [0.         0.         0.         0.         0.         0.\n",
      "   0.         0.         0.         0.         0.         0.\n",
      "   0.         0.         0.         0.         0.         0.\n",
      "   0.         0.         0.         0.         0.         0.        ]\n",
      "  [0.         0.         0.         0.         0.         0.\n",
      "   0.         0.         0.         0.         0.         0.\n",
      "   0.         0.         0.         0.         0.         0.\n",
      "   0.         0.         0.         0.         0.         0.        ]]] [[1 1 0 0 0 0 0 0 0 0]\n",
      " [1 1 0 0 0 0 0 0 0 0]] [[[0 1 0 0 0 0 0]\n",
      "  [0 0 0 0 0 0 1]\n",
      "  [0 0 0 0 0 0 0]\n",
      "  [0 0 0 0 0 0 0]\n",
      "  [0 0 0 0 0 0 0]\n",
      "  [0 0 0 0 0 0 0]\n",
      "  [0 0 0 0 0 0 0]\n",
      "  [0 0 0 0 0 0 0]\n",
      "  [0 0 0 0 0 0 0]\n",
      "  [0 0 0 0 0 0 0]]\n",
      "\n",
      " [[0 1 0 0 0 0 0]\n",
      "  [0 0 0 0 0 0 1]\n",
      "  [0 0 0 0 0 0 0]\n",
      "  [0 0 0 0 0 0 0]\n",
      "  [0 0 0 0 0 0 0]\n",
      "  [0 0 0 0 0 0 0]\n",
      "  [0 0 0 0 0 0 0]\n",
      "  [0 0 0 0 0 0 0]\n",
      "  [0 0 0 0 0 0 0]\n",
      "  [0 0 0 0 0 0 0]]] [-1.09 -1.09]\n"
     ]
    },
    {
     "ename": "ValueError",
     "evalue": "Input dimension mis-match. (input[1].shape[0] = 1, input[2].shape[0] = 2)\nApply node that caused the error: Elemwise{Composite{(((((i0 - Composite{scalar_sigmoid((i0 + i1))}(i1, i2)) * i3) + (Composite{scalar_sigmoid((i0 + i1))}(i1, i2) * tanh((i4 + (scalar_sigmoid((i5 + i6)) * i7))))) * i8) + (i3 * i9))}}(TensorConstant{(1, 1) of 1.0}, Subtensor{::, int64:int64:}.0, Subtensor{::, int64:int64:}.0, pol-h[t-1], Subtensor{::, int64:int64:}.0, Subtensor{::, int64:int64:}.0, Subtensor{::, int64:int64:}.0, Subtensor{::, int64:int64:}.0, <TensorType(int32, col)>, <TensorType(int32, col)>)\nToposort index: 7\nInputs types: [TensorType(float64, (True, True)), TensorType(float64, matrix), TensorType(float64, matrix), TensorType(float64, matrix), TensorType(float64, matrix), TensorType(float64, matrix), TensorType(float64, matrix), TensorType(float64, matrix), TensorType(int32, col), TensorType(int32, col)]\nInputs shapes: [(1, 1), (1, 50), (2, 50), (1, 50), (2, 50), (1, 50), (2, 50), (1, 50), (2, 1), (2, 1)]\nInputs strides: [(8, 8), (1200, 8), (1200, 8), (400, 8), (1200, 8), (1200, 8), (1200, 8), (1200, 8), (40, 4), (40, 80)]\nInputs values: [array([[1.]]), 'not shown', 'not shown', 'not shown', 'not shown', 'not shown', 'not shown', 'not shown', array([[1],\n       [1]]), array([[0],\n       [0]])]\nOutputs clients: [['output']]\n\nHINT: Re-running with most Theano optimization disabled could give you a back-trace of when this node was created. This can be done with by setting the Theano flag 'optimizer=fast_compile'. If that does not work, Theano optimizations can be disabled with 'optimizer=None'.\nHINT: Use the Theano flag 'exception_verbosity=high' for a debugprint and storage map footprint of this apply node.\nApply node that caused the error: forall_inplace,cpu,scan_fn}(Elemwise{minimum,no_inplace}.0, Elemwise{sub,no_inplace}.0, Subtensor{int64:int64:int8}.0, Subtensor{int64:int64:int8}.0, IncSubtensor{InplaceSet;:int64:}.0, Join.0)\nToposort index: 182\nInputs types: [TensorType(int64, scalar), TensorType(int32, (False, False, True)), TensorType(float64, 3D), TensorType(int32, (False, False, True)), TensorType(float64, 3D), TensorType(float64, matrix)]\nInputs shapes: [(), (10, 2, 1), (10, 2, 150), (10, 2, 1), (11, 1, 50), (50, 150)]\nInputs strides: [(), (4, 40, 80), (2400, 1200, 8), (4, 40, 4), (400, 400, 8), (1200, 8)]\nInputs values: [array(10, dtype=int64), 'not shown', 'not shown', 'not shown', 'not shown', 'not shown']\nOutputs clients: [[Subtensor{int64:int64:int8}(forall_inplace,cpu,scan_fn}.0, ScalarFromTensor.0, ScalarFromTensor.0, Constant{1}), Subtensor{int64:int64:int64}(forall_inplace,cpu,scan_fn}.0, ScalarFromTensor.0, ScalarFromTensor.0, Constant{-1})]]\n\nHINT: Re-running with most Theano optimization disabled could give you a back-trace of when this node was created. This can be done with by setting the Theano flag 'optimizer=fast_compile'. If that does not work, Theano optimizations can be disabled with 'optimizer=None'.\nHINT: Use the Theano flag 'exception_verbosity=high' for a debugprint and storage map footprint of this apply node.",
     "output_type": "error",
     "traceback": [
      "\u001b[1;31m---------------------------------------------------------------------------\u001b[0m",
      "\u001b[1;31mValueError\u001b[0m                                Traceback (most recent call last)",
      "\u001b[1;32mF:\\Anaconda3\\envs\\torch_kbinfo\\lib\\site-packages\\theano\\scan_module\\scan_op.py\u001b[0m in \u001b[0;36mexecute\u001b[1;34m(self, node, args, outs)\u001b[0m\n\u001b[0;32m   1334\u001b[0m             \u001b[1;32mtry\u001b[0m\u001b[1;33m:\u001b[0m\u001b[1;33m\u001b[0m\u001b[1;33m\u001b[0m\u001b[0m\n\u001b[1;32m-> 1335\u001b[1;33m                 \u001b[0mfn\u001b[0m\u001b[1;33m(\u001b[0m\u001b[1;33m)\u001b[0m\u001b[1;33m\u001b[0m\u001b[1;33m\u001b[0m\u001b[0m\n\u001b[0m\u001b[0;32m   1336\u001b[0m             \u001b[1;32mexcept\u001b[0m \u001b[0mException\u001b[0m\u001b[1;33m:\u001b[0m\u001b[1;33m\u001b[0m\u001b[1;33m\u001b[0m\u001b[0m\n",
      "\u001b[1;31mValueError\u001b[0m: Input dimension mis-match. (input[1].shape[0] = 1, input[2].shape[0] = 2)",
      "\nDuring handling of the above exception, another exception occurred:\n",
      "\u001b[1;31mValueError\u001b[0m                                Traceback (most recent call last)",
      "\u001b[1;32mF:\\Anaconda3\\envs\\torch_kbinfo\\lib\\site-packages\\theano\\compile\\function_module.py\u001b[0m in \u001b[0;36m__call__\u001b[1;34m(self, *args, **kwargs)\u001b[0m\n\u001b[0;32m    902\u001b[0m             \u001b[0moutputs\u001b[0m \u001b[1;33m=\u001b[0m\u001b[0;31m\\\u001b[0m\u001b[1;33m\u001b[0m\u001b[1;33m\u001b[0m\u001b[0m\n\u001b[1;32m--> 903\u001b[1;33m                 \u001b[0mself\u001b[0m\u001b[1;33m.\u001b[0m\u001b[0mfn\u001b[0m\u001b[1;33m(\u001b[0m\u001b[1;33m)\u001b[0m \u001b[1;32mif\u001b[0m \u001b[0moutput_subset\u001b[0m \u001b[1;32mis\u001b[0m \u001b[1;32mNone\u001b[0m \u001b[1;32melse\u001b[0m\u001b[0;31m\\\u001b[0m\u001b[1;33m\u001b[0m\u001b[1;33m\u001b[0m\u001b[0m\n\u001b[0m\u001b[0;32m    904\u001b[0m                 \u001b[0mself\u001b[0m\u001b[1;33m.\u001b[0m\u001b[0mfn\u001b[0m\u001b[1;33m(\u001b[0m\u001b[0moutput_subset\u001b[0m\u001b[1;33m=\u001b[0m\u001b[0moutput_subset\u001b[0m\u001b[1;33m)\u001b[0m\u001b[1;33m\u001b[0m\u001b[1;33m\u001b[0m\u001b[0m\n",
      "\u001b[1;32mF:\\Anaconda3\\envs\\torch_kbinfo\\lib\\site-packages\\theano\\scan_module\\scan_op.py\u001b[0m in \u001b[0;36mrval\u001b[1;34m(p, i, o, n, allow_gc)\u001b[0m\n\u001b[0;32m    962\u001b[0m                  allow_gc=allow_gc):\n\u001b[1;32m--> 963\u001b[1;33m             \u001b[0mr\u001b[0m \u001b[1;33m=\u001b[0m \u001b[0mp\u001b[0m\u001b[1;33m(\u001b[0m\u001b[0mn\u001b[0m\u001b[1;33m,\u001b[0m \u001b[1;33m[\u001b[0m\u001b[0mx\u001b[0m\u001b[1;33m[\u001b[0m\u001b[1;36m0\u001b[0m\u001b[1;33m]\u001b[0m \u001b[1;32mfor\u001b[0m \u001b[0mx\u001b[0m \u001b[1;32min\u001b[0m \u001b[0mi\u001b[0m\u001b[1;33m]\u001b[0m\u001b[1;33m,\u001b[0m \u001b[0mo\u001b[0m\u001b[1;33m)\u001b[0m\u001b[1;33m\u001b[0m\u001b[1;33m\u001b[0m\u001b[0m\n\u001b[0m\u001b[0;32m    964\u001b[0m             \u001b[1;32mfor\u001b[0m \u001b[0mo\u001b[0m \u001b[1;32min\u001b[0m \u001b[0mnode\u001b[0m\u001b[1;33m.\u001b[0m\u001b[0moutputs\u001b[0m\u001b[1;33m:\u001b[0m\u001b[1;33m\u001b[0m\u001b[1;33m\u001b[0m\u001b[0m\n",
      "\u001b[1;32mF:\\Anaconda3\\envs\\torch_kbinfo\\lib\\site-packages\\theano\\scan_module\\scan_op.py\u001b[0m in \u001b[0;36mexecute\u001b[1;34m(self, node, args, outs)\u001b[0m\n\u001b[0;32m   1343\u001b[0m                         gof.link.raise_with_op(fn.nodes[fn.position_of_error],\n\u001b[1;32m-> 1344\u001b[1;33m                                                fn.thunks[fn.position_of_error])\n\u001b[0m\u001b[0;32m   1345\u001b[0m                     \u001b[1;32melse\u001b[0m\u001b[1;33m:\u001b[0m\u001b[1;33m\u001b[0m\u001b[1;33m\u001b[0m\u001b[0m\n",
      "\u001b[1;32mF:\\Anaconda3\\envs\\torch_kbinfo\\lib\\site-packages\\theano\\gof\\link.py\u001b[0m in \u001b[0;36mraise_with_op\u001b[1;34m(node, thunk, exc_info, storage_map)\u001b[0m\n\u001b[0;32m    324\u001b[0m         \u001b[1;32mpass\u001b[0m\u001b[1;33m\u001b[0m\u001b[1;33m\u001b[0m\u001b[0m\n\u001b[1;32m--> 325\u001b[1;33m     \u001b[0mreraise\u001b[0m\u001b[1;33m(\u001b[0m\u001b[0mexc_type\u001b[0m\u001b[1;33m,\u001b[0m \u001b[0mexc_value\u001b[0m\u001b[1;33m,\u001b[0m \u001b[0mexc_trace\u001b[0m\u001b[1;33m)\u001b[0m\u001b[1;33m\u001b[0m\u001b[1;33m\u001b[0m\u001b[0m\n\u001b[0m\u001b[0;32m    326\u001b[0m \u001b[1;33m\u001b[0m\u001b[0m\n",
      "\u001b[1;32mF:\\Anaconda3\\envs\\torch_kbinfo\\lib\\site-packages\\six.py\u001b[0m in \u001b[0;36mreraise\u001b[1;34m(tp, value, tb)\u001b[0m\n\u001b[0;32m    701\u001b[0m             \u001b[1;32mif\u001b[0m \u001b[0mvalue\u001b[0m\u001b[1;33m.\u001b[0m\u001b[0m__traceback__\u001b[0m \u001b[1;32mis\u001b[0m \u001b[1;32mnot\u001b[0m \u001b[0mtb\u001b[0m\u001b[1;33m:\u001b[0m\u001b[1;33m\u001b[0m\u001b[1;33m\u001b[0m\u001b[0m\n\u001b[1;32m--> 702\u001b[1;33m                 \u001b[1;32mraise\u001b[0m \u001b[0mvalue\u001b[0m\u001b[1;33m.\u001b[0m\u001b[0mwith_traceback\u001b[0m\u001b[1;33m(\u001b[0m\u001b[0mtb\u001b[0m\u001b[1;33m)\u001b[0m\u001b[1;33m\u001b[0m\u001b[1;33m\u001b[0m\u001b[0m\n\u001b[0m\u001b[0;32m    703\u001b[0m             \u001b[1;32mraise\u001b[0m \u001b[0mvalue\u001b[0m\u001b[1;33m\u001b[0m\u001b[1;33m\u001b[0m\u001b[0m\n",
      "\u001b[1;32mF:\\Anaconda3\\envs\\torch_kbinfo\\lib\\site-packages\\theano\\scan_module\\scan_op.py\u001b[0m in \u001b[0;36mexecute\u001b[1;34m(self, node, args, outs)\u001b[0m\n\u001b[0;32m   1334\u001b[0m             \u001b[1;32mtry\u001b[0m\u001b[1;33m:\u001b[0m\u001b[1;33m\u001b[0m\u001b[1;33m\u001b[0m\u001b[0m\n\u001b[1;32m-> 1335\u001b[1;33m                 \u001b[0mfn\u001b[0m\u001b[1;33m(\u001b[0m\u001b[1;33m)\u001b[0m\u001b[1;33m\u001b[0m\u001b[1;33m\u001b[0m\u001b[0m\n\u001b[0m\u001b[0;32m   1336\u001b[0m             \u001b[1;32mexcept\u001b[0m \u001b[0mException\u001b[0m\u001b[1;33m:\u001b[0m\u001b[1;33m\u001b[0m\u001b[1;33m\u001b[0m\u001b[0m\n",
      "\u001b[1;31mValueError\u001b[0m: Input dimension mis-match. (input[1].shape[0] = 1, input[2].shape[0] = 2)\nApply node that caused the error: Elemwise{Composite{(((((i0 - Composite{scalar_sigmoid((i0 + i1))}(i1, i2)) * i3) + (Composite{scalar_sigmoid((i0 + i1))}(i1, i2) * tanh((i4 + (scalar_sigmoid((i5 + i6)) * i7))))) * i8) + (i3 * i9))}}(TensorConstant{(1, 1) of 1.0}, Subtensor{::, int64:int64:}.0, Subtensor{::, int64:int64:}.0, pol-h[t-1], Subtensor{::, int64:int64:}.0, Subtensor{::, int64:int64:}.0, Subtensor{::, int64:int64:}.0, Subtensor{::, int64:int64:}.0, <TensorType(int32, col)>, <TensorType(int32, col)>)\nToposort index: 7\nInputs types: [TensorType(float64, (True, True)), TensorType(float64, matrix), TensorType(float64, matrix), TensorType(float64, matrix), TensorType(float64, matrix), TensorType(float64, matrix), TensorType(float64, matrix), TensorType(float64, matrix), TensorType(int32, col), TensorType(int32, col)]\nInputs shapes: [(1, 1), (1, 50), (2, 50), (1, 50), (2, 50), (1, 50), (2, 50), (1, 50), (2, 1), (2, 1)]\nInputs strides: [(8, 8), (1200, 8), (1200, 8), (400, 8), (1200, 8), (1200, 8), (1200, 8), (1200, 8), (40, 4), (40, 80)]\nInputs values: [array([[1.]]), 'not shown', 'not shown', 'not shown', 'not shown', 'not shown', 'not shown', 'not shown', array([[1],\n       [1]]), array([[0],\n       [0]])]\nOutputs clients: [['output']]\n\nHINT: Re-running with most Theano optimization disabled could give you a back-trace of when this node was created. This can be done with by setting the Theano flag 'optimizer=fast_compile'. If that does not work, Theano optimizations can be disabled with 'optimizer=None'.\nHINT: Use the Theano flag 'exception_verbosity=high' for a debugprint and storage map footprint of this apply node.",
      "\nDuring handling of the above exception, another exception occurred:\n",
      "\u001b[1;31mValueError\u001b[0m                                Traceback (most recent call last)",
      "\u001b[1;32m<ipython-input-96-707857bcd636>\u001b[0m in \u001b[0;36m<module>\u001b[1;34m\u001b[0m\n\u001b[1;32m----> 1\u001b[1;33m \u001b[0magent\u001b[0m\u001b[1;33m.\u001b[0m\u001b[0mupdate\u001b[0m\u001b[1;33m(\u001b[0m\u001b[0mverbose\u001b[0m\u001b[1;33m=\u001b[0m\u001b[1;32mTrue\u001b[0m\u001b[1;33m,\u001b[0m \u001b[0mregime\u001b[0m\u001b[1;33m=\u001b[0m\u001b[1;34m'RL'\u001b[0m\u001b[1;33m)\u001b[0m\u001b[1;33m\u001b[0m\u001b[1;33m\u001b[0m\u001b[0m\n\u001b[0m",
      "\u001b[1;32mF:\\nvb\\KB-InfoBot\\deep_dialog\\agents\\agent_rl.py\u001b[0m in \u001b[0;36mupdate\u001b[1;34m(self, verbose, regime)\u001b[0m\n\u001b[0;32m    181\u001b[0m         \u001b[1;32mif\u001b[0m \u001b[0mregime\u001b[0m\u001b[1;33m==\u001b[0m\u001b[1;34m'RL'\u001b[0m\u001b[1;33m:\u001b[0m\u001b[1;33m\u001b[0m\u001b[1;33m\u001b[0m\u001b[0m\n\u001b[0;32m    182\u001b[0m             \u001b[0mr\u001b[0m \u001b[1;33m-=\u001b[0m \u001b[0mnp\u001b[0m\u001b[1;33m.\u001b[0m\u001b[0mmean\u001b[0m\u001b[1;33m(\u001b[0m\u001b[0mr\u001b[0m\u001b[1;33m)\u001b[0m\u001b[1;33m\u001b[0m\u001b[1;33m\u001b[0m\u001b[0m\n\u001b[1;32m--> 183\u001b[1;33m             \u001b[0mg\u001b[0m \u001b[1;33m=\u001b[0m \u001b[0mself\u001b[0m\u001b[1;33m.\u001b[0m\u001b[0mtrain\u001b[0m\u001b[1;33m(\u001b[0m\u001b[0mi\u001b[0m\u001b[1;33m,\u001b[0m\u001b[0mt\u001b[0m\u001b[1;33m,\u001b[0m\u001b[0ma\u001b[0m\u001b[1;33m,\u001b[0m\u001b[0mr\u001b[0m\u001b[1;33m,\u001b[0m\u001b[0mpi\u001b[0m\u001b[1;33m)\u001b[0m\u001b[1;33m\u001b[0m\u001b[1;33m\u001b[0m\u001b[0m\n\u001b[0m\u001b[0;32m    184\u001b[0m         \u001b[1;32melse\u001b[0m\u001b[1;33m:\u001b[0m\u001b[1;33m\u001b[0m\u001b[1;33m\u001b[0m\u001b[0m\n\u001b[0;32m    185\u001b[0m             \u001b[0mg\u001b[0m \u001b[1;33m=\u001b[0m \u001b[0mself\u001b[0m\u001b[1;33m.\u001b[0m\u001b[0msl_train\u001b[0m\u001b[1;33m(\u001b[0m\u001b[0mi\u001b[0m\u001b[1;33m,\u001b[0m\u001b[0mt\u001b[0m\u001b[1;33m,\u001b[0m\u001b[0ma\u001b[0m\u001b[1;33m,\u001b[0m\u001b[0mpi\u001b[0m\u001b[1;33m)\u001b[0m\u001b[1;33m\u001b[0m\u001b[1;33m\u001b[0m\u001b[0m\n",
      "\u001b[1;32mF:\\nvb\\KB-InfoBot\\deep_dialog\\agents\\agent_rl.py\u001b[0m in \u001b[0;36mtrain\u001b[1;34m(self, inp, tur, act, rew, pin)\u001b[0m\n\u001b[0;32m    108\u001b[0m     \u001b[1;34m'''блок функций train/evalute RL/SL'''\u001b[0m\u001b[1;33m\u001b[0m\u001b[1;33m\u001b[0m\u001b[0m\n\u001b[0;32m    109\u001b[0m     \u001b[1;32mdef\u001b[0m \u001b[0mtrain\u001b[0m\u001b[1;33m(\u001b[0m\u001b[0mself\u001b[0m\u001b[1;33m,\u001b[0m \u001b[0minp\u001b[0m\u001b[1;33m,\u001b[0m \u001b[0mtur\u001b[0m\u001b[1;33m,\u001b[0m \u001b[0mact\u001b[0m\u001b[1;33m,\u001b[0m \u001b[0mrew\u001b[0m\u001b[1;33m,\u001b[0m \u001b[0mpin\u001b[0m\u001b[1;33m)\u001b[0m\u001b[1;33m:\u001b[0m\u001b[1;33m\u001b[0m\u001b[1;33m\u001b[0m\u001b[0m\n\u001b[1;32m--> 110\u001b[1;33m         \u001b[1;32mreturn\u001b[0m \u001b[0mself\u001b[0m\u001b[1;33m.\u001b[0m\u001b[0mtrain_fn\u001b[0m\u001b[1;33m(\u001b[0m\u001b[0minp\u001b[0m\u001b[1;33m,\u001b[0m \u001b[0mtur\u001b[0m\u001b[1;33m,\u001b[0m \u001b[0mact\u001b[0m\u001b[1;33m,\u001b[0m \u001b[0mrew\u001b[0m\u001b[1;33m,\u001b[0m \u001b[0mpin\u001b[0m\u001b[1;33m)\u001b[0m\u001b[1;33m\u001b[0m\u001b[1;33m\u001b[0m\u001b[0m\n\u001b[0m\u001b[0;32m    111\u001b[0m \u001b[1;33m\u001b[0m\u001b[0m\n\u001b[0;32m    112\u001b[0m     \u001b[1;32mdef\u001b[0m \u001b[0mevaluate\u001b[0m\u001b[1;33m(\u001b[0m\u001b[0mself\u001b[0m\u001b[1;33m,\u001b[0m \u001b[0minp\u001b[0m\u001b[1;33m,\u001b[0m \u001b[0mtur\u001b[0m\u001b[1;33m,\u001b[0m \u001b[0mact\u001b[0m\u001b[1;33m,\u001b[0m \u001b[0mrew\u001b[0m\u001b[1;33m,\u001b[0m \u001b[0mpin\u001b[0m\u001b[1;33m)\u001b[0m\u001b[1;33m:\u001b[0m\u001b[1;33m\u001b[0m\u001b[1;33m\u001b[0m\u001b[0m\n",
      "\u001b[1;32mF:\\Anaconda3\\envs\\torch_kbinfo\\lib\\site-packages\\theano\\compile\\function_module.py\u001b[0m in \u001b[0;36m__call__\u001b[1;34m(self, *args, **kwargs)\u001b[0m\n\u001b[0;32m    915\u001b[0m                     \u001b[0mnode\u001b[0m\u001b[1;33m=\u001b[0m\u001b[0mself\u001b[0m\u001b[1;33m.\u001b[0m\u001b[0mfn\u001b[0m\u001b[1;33m.\u001b[0m\u001b[0mnodes\u001b[0m\u001b[1;33m[\u001b[0m\u001b[0mself\u001b[0m\u001b[1;33m.\u001b[0m\u001b[0mfn\u001b[0m\u001b[1;33m.\u001b[0m\u001b[0mposition_of_error\u001b[0m\u001b[1;33m]\u001b[0m\u001b[1;33m,\u001b[0m\u001b[1;33m\u001b[0m\u001b[1;33m\u001b[0m\u001b[0m\n\u001b[0;32m    916\u001b[0m                     \u001b[0mthunk\u001b[0m\u001b[1;33m=\u001b[0m\u001b[0mthunk\u001b[0m\u001b[1;33m,\u001b[0m\u001b[1;33m\u001b[0m\u001b[1;33m\u001b[0m\u001b[0m\n\u001b[1;32m--> 917\u001b[1;33m                     storage_map=getattr(self.fn, 'storage_map', None))\n\u001b[0m\u001b[0;32m    918\u001b[0m             \u001b[1;32melse\u001b[0m\u001b[1;33m:\u001b[0m\u001b[1;33m\u001b[0m\u001b[1;33m\u001b[0m\u001b[0m\n\u001b[0;32m    919\u001b[0m                 \u001b[1;31m# old-style linkers raise their own exceptions\u001b[0m\u001b[1;33m\u001b[0m\u001b[1;33m\u001b[0m\u001b[1;33m\u001b[0m\u001b[0m\n",
      "\u001b[1;32mF:\\Anaconda3\\envs\\torch_kbinfo\\lib\\site-packages\\theano\\gof\\link.py\u001b[0m in \u001b[0;36mraise_with_op\u001b[1;34m(node, thunk, exc_info, storage_map)\u001b[0m\n\u001b[0;32m    323\u001b[0m         \u001b[1;31m# extra long error message in that case.\u001b[0m\u001b[1;33m\u001b[0m\u001b[1;33m\u001b[0m\u001b[1;33m\u001b[0m\u001b[0m\n\u001b[0;32m    324\u001b[0m         \u001b[1;32mpass\u001b[0m\u001b[1;33m\u001b[0m\u001b[1;33m\u001b[0m\u001b[0m\n\u001b[1;32m--> 325\u001b[1;33m     \u001b[0mreraise\u001b[0m\u001b[1;33m(\u001b[0m\u001b[0mexc_type\u001b[0m\u001b[1;33m,\u001b[0m \u001b[0mexc_value\u001b[0m\u001b[1;33m,\u001b[0m \u001b[0mexc_trace\u001b[0m\u001b[1;33m)\u001b[0m\u001b[1;33m\u001b[0m\u001b[1;33m\u001b[0m\u001b[0m\n\u001b[0m\u001b[0;32m    326\u001b[0m \u001b[1;33m\u001b[0m\u001b[0m\n\u001b[0;32m    327\u001b[0m \u001b[1;33m\u001b[0m\u001b[0m\n",
      "\u001b[1;32mF:\\Anaconda3\\envs\\torch_kbinfo\\lib\\site-packages\\six.py\u001b[0m in \u001b[0;36mreraise\u001b[1;34m(tp, value, tb)\u001b[0m\n\u001b[0;32m    700\u001b[0m                 \u001b[0mvalue\u001b[0m \u001b[1;33m=\u001b[0m \u001b[0mtp\u001b[0m\u001b[1;33m(\u001b[0m\u001b[1;33m)\u001b[0m\u001b[1;33m\u001b[0m\u001b[1;33m\u001b[0m\u001b[0m\n\u001b[0;32m    701\u001b[0m             \u001b[1;32mif\u001b[0m \u001b[0mvalue\u001b[0m\u001b[1;33m.\u001b[0m\u001b[0m__traceback__\u001b[0m \u001b[1;32mis\u001b[0m \u001b[1;32mnot\u001b[0m \u001b[0mtb\u001b[0m\u001b[1;33m:\u001b[0m\u001b[1;33m\u001b[0m\u001b[1;33m\u001b[0m\u001b[0m\n\u001b[1;32m--> 702\u001b[1;33m                 \u001b[1;32mraise\u001b[0m \u001b[0mvalue\u001b[0m\u001b[1;33m.\u001b[0m\u001b[0mwith_traceback\u001b[0m\u001b[1;33m(\u001b[0m\u001b[0mtb\u001b[0m\u001b[1;33m)\u001b[0m\u001b[1;33m\u001b[0m\u001b[1;33m\u001b[0m\u001b[0m\n\u001b[0m\u001b[0;32m    703\u001b[0m             \u001b[1;32mraise\u001b[0m \u001b[0mvalue\u001b[0m\u001b[1;33m\u001b[0m\u001b[1;33m\u001b[0m\u001b[0m\n\u001b[0;32m    704\u001b[0m         \u001b[1;32mfinally\u001b[0m\u001b[1;33m:\u001b[0m\u001b[1;33m\u001b[0m\u001b[1;33m\u001b[0m\u001b[0m\n",
      "\u001b[1;32mF:\\Anaconda3\\envs\\torch_kbinfo\\lib\\site-packages\\theano\\compile\\function_module.py\u001b[0m in \u001b[0;36m__call__\u001b[1;34m(self, *args, **kwargs)\u001b[0m\n\u001b[0;32m    901\u001b[0m         \u001b[1;32mtry\u001b[0m\u001b[1;33m:\u001b[0m\u001b[1;33m\u001b[0m\u001b[1;33m\u001b[0m\u001b[0m\n\u001b[0;32m    902\u001b[0m             \u001b[0moutputs\u001b[0m \u001b[1;33m=\u001b[0m\u001b[0;31m\\\u001b[0m\u001b[1;33m\u001b[0m\u001b[1;33m\u001b[0m\u001b[0m\n\u001b[1;32m--> 903\u001b[1;33m                 \u001b[0mself\u001b[0m\u001b[1;33m.\u001b[0m\u001b[0mfn\u001b[0m\u001b[1;33m(\u001b[0m\u001b[1;33m)\u001b[0m \u001b[1;32mif\u001b[0m \u001b[0moutput_subset\u001b[0m \u001b[1;32mis\u001b[0m \u001b[1;32mNone\u001b[0m \u001b[1;32melse\u001b[0m\u001b[0;31m\\\u001b[0m\u001b[1;33m\u001b[0m\u001b[1;33m\u001b[0m\u001b[0m\n\u001b[0m\u001b[0;32m    904\u001b[0m                 \u001b[0mself\u001b[0m\u001b[1;33m.\u001b[0m\u001b[0mfn\u001b[0m\u001b[1;33m(\u001b[0m\u001b[0moutput_subset\u001b[0m\u001b[1;33m=\u001b[0m\u001b[0moutput_subset\u001b[0m\u001b[1;33m)\u001b[0m\u001b[1;33m\u001b[0m\u001b[1;33m\u001b[0m\u001b[0m\n\u001b[0;32m    905\u001b[0m         \u001b[1;32mexcept\u001b[0m \u001b[0mException\u001b[0m\u001b[1;33m:\u001b[0m\u001b[1;33m\u001b[0m\u001b[1;33m\u001b[0m\u001b[0m\n",
      "\u001b[1;32mF:\\Anaconda3\\envs\\torch_kbinfo\\lib\\site-packages\\theano\\scan_module\\scan_op.py\u001b[0m in \u001b[0;36mrval\u001b[1;34m(p, i, o, n, allow_gc)\u001b[0m\n\u001b[0;32m    961\u001b[0m         def rval(p=p, i=node_input_storage, o=node_output_storage, n=node,\n\u001b[0;32m    962\u001b[0m                  allow_gc=allow_gc):\n\u001b[1;32m--> 963\u001b[1;33m             \u001b[0mr\u001b[0m \u001b[1;33m=\u001b[0m \u001b[0mp\u001b[0m\u001b[1;33m(\u001b[0m\u001b[0mn\u001b[0m\u001b[1;33m,\u001b[0m \u001b[1;33m[\u001b[0m\u001b[0mx\u001b[0m\u001b[1;33m[\u001b[0m\u001b[1;36m0\u001b[0m\u001b[1;33m]\u001b[0m \u001b[1;32mfor\u001b[0m \u001b[0mx\u001b[0m \u001b[1;32min\u001b[0m \u001b[0mi\u001b[0m\u001b[1;33m]\u001b[0m\u001b[1;33m,\u001b[0m \u001b[0mo\u001b[0m\u001b[1;33m)\u001b[0m\u001b[1;33m\u001b[0m\u001b[1;33m\u001b[0m\u001b[0m\n\u001b[0m\u001b[0;32m    964\u001b[0m             \u001b[1;32mfor\u001b[0m \u001b[0mo\u001b[0m \u001b[1;32min\u001b[0m \u001b[0mnode\u001b[0m\u001b[1;33m.\u001b[0m\u001b[0moutputs\u001b[0m\u001b[1;33m:\u001b[0m\u001b[1;33m\u001b[0m\u001b[1;33m\u001b[0m\u001b[0m\n\u001b[0;32m    965\u001b[0m                 \u001b[0mcompute_map\u001b[0m\u001b[1;33m[\u001b[0m\u001b[0mo\u001b[0m\u001b[1;33m]\u001b[0m\u001b[1;33m[\u001b[0m\u001b[1;36m0\u001b[0m\u001b[1;33m]\u001b[0m \u001b[1;33m=\u001b[0m \u001b[1;32mTrue\u001b[0m\u001b[1;33m\u001b[0m\u001b[1;33m\u001b[0m\u001b[0m\n",
      "\u001b[1;32mF:\\Anaconda3\\envs\\torch_kbinfo\\lib\\site-packages\\theano\\scan_module\\scan_op.py\u001b[0m in \u001b[0;36mexecute\u001b[1;34m(self, node, args, outs)\u001b[0m\n\u001b[0;32m   1342\u001b[0m                         \u001b[1;31m# For the CVM\u001b[0m\u001b[1;33m\u001b[0m\u001b[1;33m\u001b[0m\u001b[1;33m\u001b[0m\u001b[0m\n\u001b[0;32m   1343\u001b[0m                         gof.link.raise_with_op(fn.nodes[fn.position_of_error],\n\u001b[1;32m-> 1344\u001b[1;33m                                                fn.thunks[fn.position_of_error])\n\u001b[0m\u001b[0;32m   1345\u001b[0m                     \u001b[1;32melse\u001b[0m\u001b[1;33m:\u001b[0m\u001b[1;33m\u001b[0m\u001b[1;33m\u001b[0m\u001b[0m\n\u001b[0;32m   1346\u001b[0m                         \u001b[1;31m# For the c linker\u001b[0m\u001b[1;33m\u001b[0m\u001b[1;33m\u001b[0m\u001b[1;33m\u001b[0m\u001b[0m\n",
      "\u001b[1;32mF:\\Anaconda3\\envs\\torch_kbinfo\\lib\\site-packages\\theano\\gof\\link.py\u001b[0m in \u001b[0;36mraise_with_op\u001b[1;34m(node, thunk, exc_info, storage_map)\u001b[0m\n\u001b[0;32m    323\u001b[0m         \u001b[1;31m# extra long error message in that case.\u001b[0m\u001b[1;33m\u001b[0m\u001b[1;33m\u001b[0m\u001b[1;33m\u001b[0m\u001b[0m\n\u001b[0;32m    324\u001b[0m         \u001b[1;32mpass\u001b[0m\u001b[1;33m\u001b[0m\u001b[1;33m\u001b[0m\u001b[0m\n\u001b[1;32m--> 325\u001b[1;33m     \u001b[0mreraise\u001b[0m\u001b[1;33m(\u001b[0m\u001b[0mexc_type\u001b[0m\u001b[1;33m,\u001b[0m \u001b[0mexc_value\u001b[0m\u001b[1;33m,\u001b[0m \u001b[0mexc_trace\u001b[0m\u001b[1;33m)\u001b[0m\u001b[1;33m\u001b[0m\u001b[1;33m\u001b[0m\u001b[0m\n\u001b[0m\u001b[0;32m    326\u001b[0m \u001b[1;33m\u001b[0m\u001b[0m\n\u001b[0;32m    327\u001b[0m \u001b[1;33m\u001b[0m\u001b[0m\n",
      "\u001b[1;32mF:\\Anaconda3\\envs\\torch_kbinfo\\lib\\site-packages\\six.py\u001b[0m in \u001b[0;36mreraise\u001b[1;34m(tp, value, tb)\u001b[0m\n\u001b[0;32m    700\u001b[0m                 \u001b[0mvalue\u001b[0m \u001b[1;33m=\u001b[0m \u001b[0mtp\u001b[0m\u001b[1;33m(\u001b[0m\u001b[1;33m)\u001b[0m\u001b[1;33m\u001b[0m\u001b[1;33m\u001b[0m\u001b[0m\n\u001b[0;32m    701\u001b[0m             \u001b[1;32mif\u001b[0m \u001b[0mvalue\u001b[0m\u001b[1;33m.\u001b[0m\u001b[0m__traceback__\u001b[0m \u001b[1;32mis\u001b[0m \u001b[1;32mnot\u001b[0m \u001b[0mtb\u001b[0m\u001b[1;33m:\u001b[0m\u001b[1;33m\u001b[0m\u001b[1;33m\u001b[0m\u001b[0m\n\u001b[1;32m--> 702\u001b[1;33m                 \u001b[1;32mraise\u001b[0m \u001b[0mvalue\u001b[0m\u001b[1;33m.\u001b[0m\u001b[0mwith_traceback\u001b[0m\u001b[1;33m(\u001b[0m\u001b[0mtb\u001b[0m\u001b[1;33m)\u001b[0m\u001b[1;33m\u001b[0m\u001b[1;33m\u001b[0m\u001b[0m\n\u001b[0m\u001b[0;32m    703\u001b[0m             \u001b[1;32mraise\u001b[0m \u001b[0mvalue\u001b[0m\u001b[1;33m\u001b[0m\u001b[1;33m\u001b[0m\u001b[0m\n\u001b[0;32m    704\u001b[0m         \u001b[1;32mfinally\u001b[0m\u001b[1;33m:\u001b[0m\u001b[1;33m\u001b[0m\u001b[1;33m\u001b[0m\u001b[0m\n",
      "\u001b[1;32mF:\\Anaconda3\\envs\\torch_kbinfo\\lib\\site-packages\\theano\\scan_module\\scan_op.py\u001b[0m in \u001b[0;36mexecute\u001b[1;34m(self, node, args, outs)\u001b[0m\n\u001b[0;32m   1333\u001b[0m \u001b[1;33m\u001b[0m\u001b[0m\n\u001b[0;32m   1334\u001b[0m             \u001b[1;32mtry\u001b[0m\u001b[1;33m:\u001b[0m\u001b[1;33m\u001b[0m\u001b[1;33m\u001b[0m\u001b[0m\n\u001b[1;32m-> 1335\u001b[1;33m                 \u001b[0mfn\u001b[0m\u001b[1;33m(\u001b[0m\u001b[1;33m)\u001b[0m\u001b[1;33m\u001b[0m\u001b[1;33m\u001b[0m\u001b[0m\n\u001b[0m\u001b[0;32m   1336\u001b[0m             \u001b[1;32mexcept\u001b[0m \u001b[0mException\u001b[0m\u001b[1;33m:\u001b[0m\u001b[1;33m\u001b[0m\u001b[1;33m\u001b[0m\u001b[0m\n\u001b[0;32m   1337\u001b[0m                 \u001b[1;32mif\u001b[0m \u001b[0mhasattr\u001b[0m\u001b[1;33m(\u001b[0m\u001b[0mfn\u001b[0m\u001b[1;33m,\u001b[0m \u001b[1;34m'position_of_error'\u001b[0m\u001b[1;33m)\u001b[0m\u001b[1;33m:\u001b[0m\u001b[1;33m\u001b[0m\u001b[1;33m\u001b[0m\u001b[0m\n",
      "\u001b[1;31mValueError\u001b[0m: Input dimension mis-match. (input[1].shape[0] = 1, input[2].shape[0] = 2)\nApply node that caused the error: Elemwise{Composite{(((((i0 - Composite{scalar_sigmoid((i0 + i1))}(i1, i2)) * i3) + (Composite{scalar_sigmoid((i0 + i1))}(i1, i2) * tanh((i4 + (scalar_sigmoid((i5 + i6)) * i7))))) * i8) + (i3 * i9))}}(TensorConstant{(1, 1) of 1.0}, Subtensor{::, int64:int64:}.0, Subtensor{::, int64:int64:}.0, pol-h[t-1], Subtensor{::, int64:int64:}.0, Subtensor{::, int64:int64:}.0, Subtensor{::, int64:int64:}.0, Subtensor{::, int64:int64:}.0, <TensorType(int32, col)>, <TensorType(int32, col)>)\nToposort index: 7\nInputs types: [TensorType(float64, (True, True)), TensorType(float64, matrix), TensorType(float64, matrix), TensorType(float64, matrix), TensorType(float64, matrix), TensorType(float64, matrix), TensorType(float64, matrix), TensorType(float64, matrix), TensorType(int32, col), TensorType(int32, col)]\nInputs shapes: [(1, 1), (1, 50), (2, 50), (1, 50), (2, 50), (1, 50), (2, 50), (1, 50), (2, 1), (2, 1)]\nInputs strides: [(8, 8), (1200, 8), (1200, 8), (400, 8), (1200, 8), (1200, 8), (1200, 8), (1200, 8), (40, 4), (40, 80)]\nInputs values: [array([[1.]]), 'not shown', 'not shown', 'not shown', 'not shown', 'not shown', 'not shown', 'not shown', array([[1],\n       [1]]), array([[0],\n       [0]])]\nOutputs clients: [['output']]\n\nHINT: Re-running with most Theano optimization disabled could give you a back-trace of when this node was created. This can be done with by setting the Theano flag 'optimizer=fast_compile'. If that does not work, Theano optimizations can be disabled with 'optimizer=None'.\nHINT: Use the Theano flag 'exception_verbosity=high' for a debugprint and storage map footprint of this apply node.\nApply node that caused the error: forall_inplace,cpu,scan_fn}(Elemwise{minimum,no_inplace}.0, Elemwise{sub,no_inplace}.0, Subtensor{int64:int64:int8}.0, Subtensor{int64:int64:int8}.0, IncSubtensor{InplaceSet;:int64:}.0, Join.0)\nToposort index: 182\nInputs types: [TensorType(int64, scalar), TensorType(int32, (False, False, True)), TensorType(float64, 3D), TensorType(int32, (False, False, True)), TensorType(float64, 3D), TensorType(float64, matrix)]\nInputs shapes: [(), (10, 2, 1), (10, 2, 150), (10, 2, 1), (11, 1, 50), (50, 150)]\nInputs strides: [(), (4, 40, 80), (2400, 1200, 8), (4, 40, 4), (400, 400, 8), (1200, 8)]\nInputs values: [array(10, dtype=int64), 'not shown', 'not shown', 'not shown', 'not shown', 'not shown']\nOutputs clients: [[Subtensor{int64:int64:int8}(forall_inplace,cpu,scan_fn}.0, ScalarFromTensor.0, ScalarFromTensor.0, Constant{1}), Subtensor{int64:int64:int64}(forall_inplace,cpu,scan_fn}.0, ScalarFromTensor.0, ScalarFromTensor.0, Constant{-1})]]\n\nHINT: Re-running with most Theano optimization disabled could give you a back-trace of when this node was created. This can be done with by setting the Theano flag 'optimizer=fast_compile'. If that does not work, Theano optimizations can be disabled with 'optimizer=None'.\nHINT: Use the Theano flag 'exception_verbosity=high' for a debugprint and storage map footprint of this apply node."
     ]
    }
   ],
   "source": [
    "agent.update(verbose=True, regime='RL')"
   ]
  },
  {
   "cell_type": "code",
   "execution_count": 93,
   "metadata": {},
   "outputs": [
    {
     "ename": "ValueError",
     "evalue": "Input dimension mis-match. (input[1].shape[0] = 1, input[2].shape[0] = 2)\nApply node that caused the error: Elemwise{Composite{(((((i0 - Composite{scalar_sigmoid((i0 + i1))}(i1, i2)) * i3) + (Composite{scalar_sigmoid((i0 + i1))}(i1, i2) * tanh((i4 + (scalar_sigmoid((i5 + i6)) * i7))))) * i8) + (i3 * i9))}}(TensorConstant{(1, 1) of 1.0}, Subtensor{::, int64:int64:}.0, Subtensor{::, int64:int64:}.0, pol-h[t-1], Subtensor{::, int64:int64:}.0, Subtensor{::, int64:int64:}.0, Subtensor{::, int64:int64:}.0, Subtensor{::, int64:int64:}.0, <TensorType(int32, col)>, <TensorType(int32, col)>)\nToposort index: 7\nInputs types: [TensorType(float64, (True, True)), TensorType(float64, matrix), TensorType(float64, matrix), TensorType(float64, matrix), TensorType(float64, matrix), TensorType(float64, matrix), TensorType(float64, matrix), TensorType(float64, matrix), TensorType(int32, col), TensorType(int32, col)]\nInputs shapes: [(1, 1), (1, 50), (2, 50), (1, 50), (2, 50), (1, 50), (2, 50), (1, 50), (2, 1), (2, 1)]\nInputs strides: [(8, 8), (1200, 8), (1200, 8), (400, 8), (1200, 8), (1200, 8), (1200, 8), (1200, 8), (40, 4), (40, 80)]\nInputs values: [array([[1.]]), 'not shown', 'not shown', 'not shown', 'not shown', 'not shown', 'not shown', 'not shown', array([[1],\n       [1]]), array([[0],\n       [0]])]\nOutputs clients: [['output']]\n\nHINT: Re-running with most Theano optimization disabled could give you a back-trace of when this node was created. This can be done with by setting the Theano flag 'optimizer=fast_compile'. If that does not work, Theano optimizations can be disabled with 'optimizer=None'.\nHINT: Use the Theano flag 'exception_verbosity=high' for a debugprint and storage map footprint of this apply node.\nApply node that caused the error: forall_inplace,cpu,scan_fn}(Elemwise{minimum,no_inplace}.0, Elemwise{sub,no_inplace}.0, Subtensor{int64:int64:int8}.0, Subtensor{int64:int64:int8}.0, IncSubtensor{InplaceSet;:int64:}.0, Join.0)\nToposort index: 180\nInputs types: [TensorType(int64, scalar), TensorType(int32, (False, False, True)), TensorType(float64, 3D), TensorType(int32, (False, False, True)), TensorType(float64, 3D), TensorType(float64, matrix)]\nInputs shapes: [(), (10, 2, 1), (10, 2, 150), (10, 2, 1), (11, 1, 50), (50, 150)]\nInputs strides: [(), (4, 40, 80), (2400, 1200, 8), (4, 40, 4), (400, 400, 8), (1200, 8)]\nInputs values: [array(10, dtype=int64), 'not shown', 'not shown', 'not shown', 'not shown', 'not shown']\nOutputs clients: [[Subtensor{int64:int64:int8}(forall_inplace,cpu,scan_fn}.0, ScalarFromTensor.0, ScalarFromTensor.0, Constant{1}), Subtensor{int64:int64:int64}(forall_inplace,cpu,scan_fn}.0, ScalarFromTensor.0, ScalarFromTensor.0, Constant{-1})]]\n\nHINT: Re-running with most Theano optimization disabled could give you a back-trace of when this node was created. This can be done with by setting the Theano flag 'optimizer=fast_compile'. If that does not work, Theano optimizations can be disabled with 'optimizer=None'.\nHINT: Use the Theano flag 'exception_verbosity=high' for a debugprint and storage map footprint of this apply node.",
     "output_type": "error",
     "traceback": [
      "\u001b[1;31m---------------------------------------------------------------------------\u001b[0m",
      "\u001b[1;31mValueError\u001b[0m                                Traceback (most recent call last)",
      "\u001b[1;32mF:\\Anaconda3\\envs\\torch_kbinfo\\lib\\site-packages\\theano\\scan_module\\scan_op.py\u001b[0m in \u001b[0;36mexecute\u001b[1;34m(self, node, args, outs)\u001b[0m\n\u001b[0;32m   1334\u001b[0m             \u001b[1;32mtry\u001b[0m\u001b[1;33m:\u001b[0m\u001b[1;33m\u001b[0m\u001b[1;33m\u001b[0m\u001b[0m\n\u001b[1;32m-> 1335\u001b[1;33m                 \u001b[0mfn\u001b[0m\u001b[1;33m(\u001b[0m\u001b[1;33m)\u001b[0m\u001b[1;33m\u001b[0m\u001b[1;33m\u001b[0m\u001b[0m\n\u001b[0m\u001b[0;32m   1336\u001b[0m             \u001b[1;32mexcept\u001b[0m \u001b[0mException\u001b[0m\u001b[1;33m:\u001b[0m\u001b[1;33m\u001b[0m\u001b[1;33m\u001b[0m\u001b[0m\n",
      "\u001b[1;31mValueError\u001b[0m: Input dimension mis-match. (input[1].shape[0] = 1, input[2].shape[0] = 2)",
      "\nDuring handling of the above exception, another exception occurred:\n",
      "\u001b[1;31mValueError\u001b[0m                                Traceback (most recent call last)",
      "\u001b[1;32mF:\\Anaconda3\\envs\\torch_kbinfo\\lib\\site-packages\\theano\\compile\\function_module.py\u001b[0m in \u001b[0;36m__call__\u001b[1;34m(self, *args, **kwargs)\u001b[0m\n\u001b[0;32m    902\u001b[0m             \u001b[0moutputs\u001b[0m \u001b[1;33m=\u001b[0m\u001b[0;31m\\\u001b[0m\u001b[1;33m\u001b[0m\u001b[1;33m\u001b[0m\u001b[0m\n\u001b[1;32m--> 903\u001b[1;33m                 \u001b[0mself\u001b[0m\u001b[1;33m.\u001b[0m\u001b[0mfn\u001b[0m\u001b[1;33m(\u001b[0m\u001b[1;33m)\u001b[0m \u001b[1;32mif\u001b[0m \u001b[0moutput_subset\u001b[0m \u001b[1;32mis\u001b[0m \u001b[1;32mNone\u001b[0m \u001b[1;32melse\u001b[0m\u001b[0;31m\\\u001b[0m\u001b[1;33m\u001b[0m\u001b[1;33m\u001b[0m\u001b[0m\n\u001b[0m\u001b[0;32m    904\u001b[0m                 \u001b[0mself\u001b[0m\u001b[1;33m.\u001b[0m\u001b[0mfn\u001b[0m\u001b[1;33m(\u001b[0m\u001b[0moutput_subset\u001b[0m\u001b[1;33m=\u001b[0m\u001b[0moutput_subset\u001b[0m\u001b[1;33m)\u001b[0m\u001b[1;33m\u001b[0m\u001b[1;33m\u001b[0m\u001b[0m\n",
      "\u001b[1;32mF:\\Anaconda3\\envs\\torch_kbinfo\\lib\\site-packages\\theano\\scan_module\\scan_op.py\u001b[0m in \u001b[0;36mrval\u001b[1;34m(p, i, o, n, allow_gc)\u001b[0m\n\u001b[0;32m    962\u001b[0m                  allow_gc=allow_gc):\n\u001b[1;32m--> 963\u001b[1;33m             \u001b[0mr\u001b[0m \u001b[1;33m=\u001b[0m \u001b[0mp\u001b[0m\u001b[1;33m(\u001b[0m\u001b[0mn\u001b[0m\u001b[1;33m,\u001b[0m \u001b[1;33m[\u001b[0m\u001b[0mx\u001b[0m\u001b[1;33m[\u001b[0m\u001b[1;36m0\u001b[0m\u001b[1;33m]\u001b[0m \u001b[1;32mfor\u001b[0m \u001b[0mx\u001b[0m \u001b[1;32min\u001b[0m \u001b[0mi\u001b[0m\u001b[1;33m]\u001b[0m\u001b[1;33m,\u001b[0m \u001b[0mo\u001b[0m\u001b[1;33m)\u001b[0m\u001b[1;33m\u001b[0m\u001b[1;33m\u001b[0m\u001b[0m\n\u001b[0m\u001b[0;32m    964\u001b[0m             \u001b[1;32mfor\u001b[0m \u001b[0mo\u001b[0m \u001b[1;32min\u001b[0m \u001b[0mnode\u001b[0m\u001b[1;33m.\u001b[0m\u001b[0moutputs\u001b[0m\u001b[1;33m:\u001b[0m\u001b[1;33m\u001b[0m\u001b[1;33m\u001b[0m\u001b[0m\n",
      "\u001b[1;32mF:\\Anaconda3\\envs\\torch_kbinfo\\lib\\site-packages\\theano\\scan_module\\scan_op.py\u001b[0m in \u001b[0;36mexecute\u001b[1;34m(self, node, args, outs)\u001b[0m\n\u001b[0;32m   1343\u001b[0m                         gof.link.raise_with_op(fn.nodes[fn.position_of_error],\n\u001b[1;32m-> 1344\u001b[1;33m                                                fn.thunks[fn.position_of_error])\n\u001b[0m\u001b[0;32m   1345\u001b[0m                     \u001b[1;32melse\u001b[0m\u001b[1;33m:\u001b[0m\u001b[1;33m\u001b[0m\u001b[1;33m\u001b[0m\u001b[0m\n",
      "\u001b[1;32mF:\\Anaconda3\\envs\\torch_kbinfo\\lib\\site-packages\\theano\\gof\\link.py\u001b[0m in \u001b[0;36mraise_with_op\u001b[1;34m(node, thunk, exc_info, storage_map)\u001b[0m\n\u001b[0;32m    324\u001b[0m         \u001b[1;32mpass\u001b[0m\u001b[1;33m\u001b[0m\u001b[1;33m\u001b[0m\u001b[0m\n\u001b[1;32m--> 325\u001b[1;33m     \u001b[0mreraise\u001b[0m\u001b[1;33m(\u001b[0m\u001b[0mexc_type\u001b[0m\u001b[1;33m,\u001b[0m \u001b[0mexc_value\u001b[0m\u001b[1;33m,\u001b[0m \u001b[0mexc_trace\u001b[0m\u001b[1;33m)\u001b[0m\u001b[1;33m\u001b[0m\u001b[1;33m\u001b[0m\u001b[0m\n\u001b[0m\u001b[0;32m    326\u001b[0m \u001b[1;33m\u001b[0m\u001b[0m\n",
      "\u001b[1;32mF:\\Anaconda3\\envs\\torch_kbinfo\\lib\\site-packages\\six.py\u001b[0m in \u001b[0;36mreraise\u001b[1;34m(tp, value, tb)\u001b[0m\n\u001b[0;32m    701\u001b[0m             \u001b[1;32mif\u001b[0m \u001b[0mvalue\u001b[0m\u001b[1;33m.\u001b[0m\u001b[0m__traceback__\u001b[0m \u001b[1;32mis\u001b[0m \u001b[1;32mnot\u001b[0m \u001b[0mtb\u001b[0m\u001b[1;33m:\u001b[0m\u001b[1;33m\u001b[0m\u001b[1;33m\u001b[0m\u001b[0m\n\u001b[1;32m--> 702\u001b[1;33m                 \u001b[1;32mraise\u001b[0m \u001b[0mvalue\u001b[0m\u001b[1;33m.\u001b[0m\u001b[0mwith_traceback\u001b[0m\u001b[1;33m(\u001b[0m\u001b[0mtb\u001b[0m\u001b[1;33m)\u001b[0m\u001b[1;33m\u001b[0m\u001b[1;33m\u001b[0m\u001b[0m\n\u001b[0m\u001b[0;32m    703\u001b[0m             \u001b[1;32mraise\u001b[0m \u001b[0mvalue\u001b[0m\u001b[1;33m\u001b[0m\u001b[1;33m\u001b[0m\u001b[0m\n",
      "\u001b[1;32mF:\\Anaconda3\\envs\\torch_kbinfo\\lib\\site-packages\\theano\\scan_module\\scan_op.py\u001b[0m in \u001b[0;36mexecute\u001b[1;34m(self, node, args, outs)\u001b[0m\n\u001b[0;32m   1334\u001b[0m             \u001b[1;32mtry\u001b[0m\u001b[1;33m:\u001b[0m\u001b[1;33m\u001b[0m\u001b[1;33m\u001b[0m\u001b[0m\n\u001b[1;32m-> 1335\u001b[1;33m                 \u001b[0mfn\u001b[0m\u001b[1;33m(\u001b[0m\u001b[1;33m)\u001b[0m\u001b[1;33m\u001b[0m\u001b[1;33m\u001b[0m\u001b[0m\n\u001b[0m\u001b[0;32m   1336\u001b[0m             \u001b[1;32mexcept\u001b[0m \u001b[0mException\u001b[0m\u001b[1;33m:\u001b[0m\u001b[1;33m\u001b[0m\u001b[1;33m\u001b[0m\u001b[0m\n",
      "\u001b[1;31mValueError\u001b[0m: Input dimension mis-match. (input[1].shape[0] = 1, input[2].shape[0] = 2)\nApply node that caused the error: Elemwise{Composite{(((((i0 - Composite{scalar_sigmoid((i0 + i1))}(i1, i2)) * i3) + (Composite{scalar_sigmoid((i0 + i1))}(i1, i2) * tanh((i4 + (scalar_sigmoid((i5 + i6)) * i7))))) * i8) + (i3 * i9))}}(TensorConstant{(1, 1) of 1.0}, Subtensor{::, int64:int64:}.0, Subtensor{::, int64:int64:}.0, pol-h[t-1], Subtensor{::, int64:int64:}.0, Subtensor{::, int64:int64:}.0, Subtensor{::, int64:int64:}.0, Subtensor{::, int64:int64:}.0, <TensorType(int32, col)>, <TensorType(int32, col)>)\nToposort index: 7\nInputs types: [TensorType(float64, (True, True)), TensorType(float64, matrix), TensorType(float64, matrix), TensorType(float64, matrix), TensorType(float64, matrix), TensorType(float64, matrix), TensorType(float64, matrix), TensorType(float64, matrix), TensorType(int32, col), TensorType(int32, col)]\nInputs shapes: [(1, 1), (1, 50), (2, 50), (1, 50), (2, 50), (1, 50), (2, 50), (1, 50), (2, 1), (2, 1)]\nInputs strides: [(8, 8), (1200, 8), (1200, 8), (400, 8), (1200, 8), (1200, 8), (1200, 8), (1200, 8), (40, 4), (40, 80)]\nInputs values: [array([[1.]]), 'not shown', 'not shown', 'not shown', 'not shown', 'not shown', 'not shown', 'not shown', array([[1],\n       [1]]), array([[0],\n       [0]])]\nOutputs clients: [['output']]\n\nHINT: Re-running with most Theano optimization disabled could give you a back-trace of when this node was created. This can be done with by setting the Theano flag 'optimizer=fast_compile'. If that does not work, Theano optimizations can be disabled with 'optimizer=None'.\nHINT: Use the Theano flag 'exception_verbosity=high' for a debugprint and storage map footprint of this apply node.",
      "\nDuring handling of the above exception, another exception occurred:\n",
      "\u001b[1;31mValueError\u001b[0m                                Traceback (most recent call last)",
      "\u001b[1;32m<ipython-input-93-c6e482371ee6>\u001b[0m in \u001b[0;36m<module>\u001b[1;34m\u001b[0m\n\u001b[1;32m----> 1\u001b[1;33m \u001b[0magent\u001b[0m\u001b[1;33m.\u001b[0m\u001b[0msl_train_fn\u001b[0m\u001b[1;33m(\u001b[0m\u001b[0mi\u001b[0m\u001b[1;33m,\u001b[0m \u001b[0mt\u001b[0m\u001b[1;33m,\u001b[0m \u001b[0ma\u001b[0m\u001b[1;33m,\u001b[0m \u001b[0mpi\u001b[0m\u001b[1;33m)\u001b[0m\u001b[1;33m\u001b[0m\u001b[1;33m\u001b[0m\u001b[0m\n\u001b[0m",
      "\u001b[1;32mF:\\Anaconda3\\envs\\torch_kbinfo\\lib\\site-packages\\theano\\compile\\function_module.py\u001b[0m in \u001b[0;36m__call__\u001b[1;34m(self, *args, **kwargs)\u001b[0m\n\u001b[0;32m    915\u001b[0m                     \u001b[0mnode\u001b[0m\u001b[1;33m=\u001b[0m\u001b[0mself\u001b[0m\u001b[1;33m.\u001b[0m\u001b[0mfn\u001b[0m\u001b[1;33m.\u001b[0m\u001b[0mnodes\u001b[0m\u001b[1;33m[\u001b[0m\u001b[0mself\u001b[0m\u001b[1;33m.\u001b[0m\u001b[0mfn\u001b[0m\u001b[1;33m.\u001b[0m\u001b[0mposition_of_error\u001b[0m\u001b[1;33m]\u001b[0m\u001b[1;33m,\u001b[0m\u001b[1;33m\u001b[0m\u001b[1;33m\u001b[0m\u001b[0m\n\u001b[0;32m    916\u001b[0m                     \u001b[0mthunk\u001b[0m\u001b[1;33m=\u001b[0m\u001b[0mthunk\u001b[0m\u001b[1;33m,\u001b[0m\u001b[1;33m\u001b[0m\u001b[1;33m\u001b[0m\u001b[0m\n\u001b[1;32m--> 917\u001b[1;33m                     storage_map=getattr(self.fn, 'storage_map', None))\n\u001b[0m\u001b[0;32m    918\u001b[0m             \u001b[1;32melse\u001b[0m\u001b[1;33m:\u001b[0m\u001b[1;33m\u001b[0m\u001b[1;33m\u001b[0m\u001b[0m\n\u001b[0;32m    919\u001b[0m                 \u001b[1;31m# old-style linkers raise their own exceptions\u001b[0m\u001b[1;33m\u001b[0m\u001b[1;33m\u001b[0m\u001b[1;33m\u001b[0m\u001b[0m\n",
      "\u001b[1;32mF:\\Anaconda3\\envs\\torch_kbinfo\\lib\\site-packages\\theano\\gof\\link.py\u001b[0m in \u001b[0;36mraise_with_op\u001b[1;34m(node, thunk, exc_info, storage_map)\u001b[0m\n\u001b[0;32m    323\u001b[0m         \u001b[1;31m# extra long error message in that case.\u001b[0m\u001b[1;33m\u001b[0m\u001b[1;33m\u001b[0m\u001b[1;33m\u001b[0m\u001b[0m\n\u001b[0;32m    324\u001b[0m         \u001b[1;32mpass\u001b[0m\u001b[1;33m\u001b[0m\u001b[1;33m\u001b[0m\u001b[0m\n\u001b[1;32m--> 325\u001b[1;33m     \u001b[0mreraise\u001b[0m\u001b[1;33m(\u001b[0m\u001b[0mexc_type\u001b[0m\u001b[1;33m,\u001b[0m \u001b[0mexc_value\u001b[0m\u001b[1;33m,\u001b[0m \u001b[0mexc_trace\u001b[0m\u001b[1;33m)\u001b[0m\u001b[1;33m\u001b[0m\u001b[1;33m\u001b[0m\u001b[0m\n\u001b[0m\u001b[0;32m    326\u001b[0m \u001b[1;33m\u001b[0m\u001b[0m\n\u001b[0;32m    327\u001b[0m \u001b[1;33m\u001b[0m\u001b[0m\n",
      "\u001b[1;32mF:\\Anaconda3\\envs\\torch_kbinfo\\lib\\site-packages\\six.py\u001b[0m in \u001b[0;36mreraise\u001b[1;34m(tp, value, tb)\u001b[0m\n\u001b[0;32m    700\u001b[0m                 \u001b[0mvalue\u001b[0m \u001b[1;33m=\u001b[0m \u001b[0mtp\u001b[0m\u001b[1;33m(\u001b[0m\u001b[1;33m)\u001b[0m\u001b[1;33m\u001b[0m\u001b[1;33m\u001b[0m\u001b[0m\n\u001b[0;32m    701\u001b[0m             \u001b[1;32mif\u001b[0m \u001b[0mvalue\u001b[0m\u001b[1;33m.\u001b[0m\u001b[0m__traceback__\u001b[0m \u001b[1;32mis\u001b[0m \u001b[1;32mnot\u001b[0m \u001b[0mtb\u001b[0m\u001b[1;33m:\u001b[0m\u001b[1;33m\u001b[0m\u001b[1;33m\u001b[0m\u001b[0m\n\u001b[1;32m--> 702\u001b[1;33m                 \u001b[1;32mraise\u001b[0m \u001b[0mvalue\u001b[0m\u001b[1;33m.\u001b[0m\u001b[0mwith_traceback\u001b[0m\u001b[1;33m(\u001b[0m\u001b[0mtb\u001b[0m\u001b[1;33m)\u001b[0m\u001b[1;33m\u001b[0m\u001b[1;33m\u001b[0m\u001b[0m\n\u001b[0m\u001b[0;32m    703\u001b[0m             \u001b[1;32mraise\u001b[0m \u001b[0mvalue\u001b[0m\u001b[1;33m\u001b[0m\u001b[1;33m\u001b[0m\u001b[0m\n\u001b[0;32m    704\u001b[0m         \u001b[1;32mfinally\u001b[0m\u001b[1;33m:\u001b[0m\u001b[1;33m\u001b[0m\u001b[1;33m\u001b[0m\u001b[0m\n",
      "\u001b[1;32mF:\\Anaconda3\\envs\\torch_kbinfo\\lib\\site-packages\\theano\\compile\\function_module.py\u001b[0m in \u001b[0;36m__call__\u001b[1;34m(self, *args, **kwargs)\u001b[0m\n\u001b[0;32m    901\u001b[0m         \u001b[1;32mtry\u001b[0m\u001b[1;33m:\u001b[0m\u001b[1;33m\u001b[0m\u001b[1;33m\u001b[0m\u001b[0m\n\u001b[0;32m    902\u001b[0m             \u001b[0moutputs\u001b[0m \u001b[1;33m=\u001b[0m\u001b[0;31m\\\u001b[0m\u001b[1;33m\u001b[0m\u001b[1;33m\u001b[0m\u001b[0m\n\u001b[1;32m--> 903\u001b[1;33m                 \u001b[0mself\u001b[0m\u001b[1;33m.\u001b[0m\u001b[0mfn\u001b[0m\u001b[1;33m(\u001b[0m\u001b[1;33m)\u001b[0m \u001b[1;32mif\u001b[0m \u001b[0moutput_subset\u001b[0m \u001b[1;32mis\u001b[0m \u001b[1;32mNone\u001b[0m \u001b[1;32melse\u001b[0m\u001b[0;31m\\\u001b[0m\u001b[1;33m\u001b[0m\u001b[1;33m\u001b[0m\u001b[0m\n\u001b[0m\u001b[0;32m    904\u001b[0m                 \u001b[0mself\u001b[0m\u001b[1;33m.\u001b[0m\u001b[0mfn\u001b[0m\u001b[1;33m(\u001b[0m\u001b[0moutput_subset\u001b[0m\u001b[1;33m=\u001b[0m\u001b[0moutput_subset\u001b[0m\u001b[1;33m)\u001b[0m\u001b[1;33m\u001b[0m\u001b[1;33m\u001b[0m\u001b[0m\n\u001b[0;32m    905\u001b[0m         \u001b[1;32mexcept\u001b[0m \u001b[0mException\u001b[0m\u001b[1;33m:\u001b[0m\u001b[1;33m\u001b[0m\u001b[1;33m\u001b[0m\u001b[0m\n",
      "\u001b[1;32mF:\\Anaconda3\\envs\\torch_kbinfo\\lib\\site-packages\\theano\\scan_module\\scan_op.py\u001b[0m in \u001b[0;36mrval\u001b[1;34m(p, i, o, n, allow_gc)\u001b[0m\n\u001b[0;32m    961\u001b[0m         def rval(p=p, i=node_input_storage, o=node_output_storage, n=node,\n\u001b[0;32m    962\u001b[0m                  allow_gc=allow_gc):\n\u001b[1;32m--> 963\u001b[1;33m             \u001b[0mr\u001b[0m \u001b[1;33m=\u001b[0m \u001b[0mp\u001b[0m\u001b[1;33m(\u001b[0m\u001b[0mn\u001b[0m\u001b[1;33m,\u001b[0m \u001b[1;33m[\u001b[0m\u001b[0mx\u001b[0m\u001b[1;33m[\u001b[0m\u001b[1;36m0\u001b[0m\u001b[1;33m]\u001b[0m \u001b[1;32mfor\u001b[0m \u001b[0mx\u001b[0m \u001b[1;32min\u001b[0m \u001b[0mi\u001b[0m\u001b[1;33m]\u001b[0m\u001b[1;33m,\u001b[0m \u001b[0mo\u001b[0m\u001b[1;33m)\u001b[0m\u001b[1;33m\u001b[0m\u001b[1;33m\u001b[0m\u001b[0m\n\u001b[0m\u001b[0;32m    964\u001b[0m             \u001b[1;32mfor\u001b[0m \u001b[0mo\u001b[0m \u001b[1;32min\u001b[0m \u001b[0mnode\u001b[0m\u001b[1;33m.\u001b[0m\u001b[0moutputs\u001b[0m\u001b[1;33m:\u001b[0m\u001b[1;33m\u001b[0m\u001b[1;33m\u001b[0m\u001b[0m\n\u001b[0;32m    965\u001b[0m                 \u001b[0mcompute_map\u001b[0m\u001b[1;33m[\u001b[0m\u001b[0mo\u001b[0m\u001b[1;33m]\u001b[0m\u001b[1;33m[\u001b[0m\u001b[1;36m0\u001b[0m\u001b[1;33m]\u001b[0m \u001b[1;33m=\u001b[0m \u001b[1;32mTrue\u001b[0m\u001b[1;33m\u001b[0m\u001b[1;33m\u001b[0m\u001b[0m\n",
      "\u001b[1;32mF:\\Anaconda3\\envs\\torch_kbinfo\\lib\\site-packages\\theano\\scan_module\\scan_op.py\u001b[0m in \u001b[0;36mexecute\u001b[1;34m(self, node, args, outs)\u001b[0m\n\u001b[0;32m   1342\u001b[0m                         \u001b[1;31m# For the CVM\u001b[0m\u001b[1;33m\u001b[0m\u001b[1;33m\u001b[0m\u001b[1;33m\u001b[0m\u001b[0m\n\u001b[0;32m   1343\u001b[0m                         gof.link.raise_with_op(fn.nodes[fn.position_of_error],\n\u001b[1;32m-> 1344\u001b[1;33m                                                fn.thunks[fn.position_of_error])\n\u001b[0m\u001b[0;32m   1345\u001b[0m                     \u001b[1;32melse\u001b[0m\u001b[1;33m:\u001b[0m\u001b[1;33m\u001b[0m\u001b[1;33m\u001b[0m\u001b[0m\n\u001b[0;32m   1346\u001b[0m                         \u001b[1;31m# For the c linker\u001b[0m\u001b[1;33m\u001b[0m\u001b[1;33m\u001b[0m\u001b[1;33m\u001b[0m\u001b[0m\n",
      "\u001b[1;32mF:\\Anaconda3\\envs\\torch_kbinfo\\lib\\site-packages\\theano\\gof\\link.py\u001b[0m in \u001b[0;36mraise_with_op\u001b[1;34m(node, thunk, exc_info, storage_map)\u001b[0m\n\u001b[0;32m    323\u001b[0m         \u001b[1;31m# extra long error message in that case.\u001b[0m\u001b[1;33m\u001b[0m\u001b[1;33m\u001b[0m\u001b[1;33m\u001b[0m\u001b[0m\n\u001b[0;32m    324\u001b[0m         \u001b[1;32mpass\u001b[0m\u001b[1;33m\u001b[0m\u001b[1;33m\u001b[0m\u001b[0m\n\u001b[1;32m--> 325\u001b[1;33m     \u001b[0mreraise\u001b[0m\u001b[1;33m(\u001b[0m\u001b[0mexc_type\u001b[0m\u001b[1;33m,\u001b[0m \u001b[0mexc_value\u001b[0m\u001b[1;33m,\u001b[0m \u001b[0mexc_trace\u001b[0m\u001b[1;33m)\u001b[0m\u001b[1;33m\u001b[0m\u001b[1;33m\u001b[0m\u001b[0m\n\u001b[0m\u001b[0;32m    326\u001b[0m \u001b[1;33m\u001b[0m\u001b[0m\n\u001b[0;32m    327\u001b[0m \u001b[1;33m\u001b[0m\u001b[0m\n",
      "\u001b[1;32mF:\\Anaconda3\\envs\\torch_kbinfo\\lib\\site-packages\\six.py\u001b[0m in \u001b[0;36mreraise\u001b[1;34m(tp, value, tb)\u001b[0m\n\u001b[0;32m    700\u001b[0m                 \u001b[0mvalue\u001b[0m \u001b[1;33m=\u001b[0m \u001b[0mtp\u001b[0m\u001b[1;33m(\u001b[0m\u001b[1;33m)\u001b[0m\u001b[1;33m\u001b[0m\u001b[1;33m\u001b[0m\u001b[0m\n\u001b[0;32m    701\u001b[0m             \u001b[1;32mif\u001b[0m \u001b[0mvalue\u001b[0m\u001b[1;33m.\u001b[0m\u001b[0m__traceback__\u001b[0m \u001b[1;32mis\u001b[0m \u001b[1;32mnot\u001b[0m \u001b[0mtb\u001b[0m\u001b[1;33m:\u001b[0m\u001b[1;33m\u001b[0m\u001b[1;33m\u001b[0m\u001b[0m\n\u001b[1;32m--> 702\u001b[1;33m                 \u001b[1;32mraise\u001b[0m \u001b[0mvalue\u001b[0m\u001b[1;33m.\u001b[0m\u001b[0mwith_traceback\u001b[0m\u001b[1;33m(\u001b[0m\u001b[0mtb\u001b[0m\u001b[1;33m)\u001b[0m\u001b[1;33m\u001b[0m\u001b[1;33m\u001b[0m\u001b[0m\n\u001b[0m\u001b[0;32m    703\u001b[0m             \u001b[1;32mraise\u001b[0m \u001b[0mvalue\u001b[0m\u001b[1;33m\u001b[0m\u001b[1;33m\u001b[0m\u001b[0m\n\u001b[0;32m    704\u001b[0m         \u001b[1;32mfinally\u001b[0m\u001b[1;33m:\u001b[0m\u001b[1;33m\u001b[0m\u001b[1;33m\u001b[0m\u001b[0m\n",
      "\u001b[1;32mF:\\Anaconda3\\envs\\torch_kbinfo\\lib\\site-packages\\theano\\scan_module\\scan_op.py\u001b[0m in \u001b[0;36mexecute\u001b[1;34m(self, node, args, outs)\u001b[0m\n\u001b[0;32m   1333\u001b[0m \u001b[1;33m\u001b[0m\u001b[0m\n\u001b[0;32m   1334\u001b[0m             \u001b[1;32mtry\u001b[0m\u001b[1;33m:\u001b[0m\u001b[1;33m\u001b[0m\u001b[1;33m\u001b[0m\u001b[0m\n\u001b[1;32m-> 1335\u001b[1;33m                 \u001b[0mfn\u001b[0m\u001b[1;33m(\u001b[0m\u001b[1;33m)\u001b[0m\u001b[1;33m\u001b[0m\u001b[1;33m\u001b[0m\u001b[0m\n\u001b[0m\u001b[0;32m   1336\u001b[0m             \u001b[1;32mexcept\u001b[0m \u001b[0mException\u001b[0m\u001b[1;33m:\u001b[0m\u001b[1;33m\u001b[0m\u001b[1;33m\u001b[0m\u001b[0m\n\u001b[0;32m   1337\u001b[0m                 \u001b[1;32mif\u001b[0m \u001b[0mhasattr\u001b[0m\u001b[1;33m(\u001b[0m\u001b[0mfn\u001b[0m\u001b[1;33m,\u001b[0m \u001b[1;34m'position_of_error'\u001b[0m\u001b[1;33m)\u001b[0m\u001b[1;33m:\u001b[0m\u001b[1;33m\u001b[0m\u001b[1;33m\u001b[0m\u001b[0m\n",
      "\u001b[1;31mValueError\u001b[0m: Input dimension mis-match. (input[1].shape[0] = 1, input[2].shape[0] = 2)\nApply node that caused the error: Elemwise{Composite{(((((i0 - Composite{scalar_sigmoid((i0 + i1))}(i1, i2)) * i3) + (Composite{scalar_sigmoid((i0 + i1))}(i1, i2) * tanh((i4 + (scalar_sigmoid((i5 + i6)) * i7))))) * i8) + (i3 * i9))}}(TensorConstant{(1, 1) of 1.0}, Subtensor{::, int64:int64:}.0, Subtensor{::, int64:int64:}.0, pol-h[t-1], Subtensor{::, int64:int64:}.0, Subtensor{::, int64:int64:}.0, Subtensor{::, int64:int64:}.0, Subtensor{::, int64:int64:}.0, <TensorType(int32, col)>, <TensorType(int32, col)>)\nToposort index: 7\nInputs types: [TensorType(float64, (True, True)), TensorType(float64, matrix), TensorType(float64, matrix), TensorType(float64, matrix), TensorType(float64, matrix), TensorType(float64, matrix), TensorType(float64, matrix), TensorType(float64, matrix), TensorType(int32, col), TensorType(int32, col)]\nInputs shapes: [(1, 1), (1, 50), (2, 50), (1, 50), (2, 50), (1, 50), (2, 50), (1, 50), (2, 1), (2, 1)]\nInputs strides: [(8, 8), (1200, 8), (1200, 8), (400, 8), (1200, 8), (1200, 8), (1200, 8), (1200, 8), (40, 4), (40, 80)]\nInputs values: [array([[1.]]), 'not shown', 'not shown', 'not shown', 'not shown', 'not shown', 'not shown', 'not shown', array([[1],\n       [1]]), array([[0],\n       [0]])]\nOutputs clients: [['output']]\n\nHINT: Re-running with most Theano optimization disabled could give you a back-trace of when this node was created. This can be done with by setting the Theano flag 'optimizer=fast_compile'. If that does not work, Theano optimizations can be disabled with 'optimizer=None'.\nHINT: Use the Theano flag 'exception_verbosity=high' for a debugprint and storage map footprint of this apply node.\nApply node that caused the error: forall_inplace,cpu,scan_fn}(Elemwise{minimum,no_inplace}.0, Elemwise{sub,no_inplace}.0, Subtensor{int64:int64:int8}.0, Subtensor{int64:int64:int8}.0, IncSubtensor{InplaceSet;:int64:}.0, Join.0)\nToposort index: 180\nInputs types: [TensorType(int64, scalar), TensorType(int32, (False, False, True)), TensorType(float64, 3D), TensorType(int32, (False, False, True)), TensorType(float64, 3D), TensorType(float64, matrix)]\nInputs shapes: [(), (10, 2, 1), (10, 2, 150), (10, 2, 1), (11, 1, 50), (50, 150)]\nInputs strides: [(), (4, 40, 80), (2400, 1200, 8), (4, 40, 4), (400, 400, 8), (1200, 8)]\nInputs values: [array(10, dtype=int64), 'not shown', 'not shown', 'not shown', 'not shown', 'not shown']\nOutputs clients: [[Subtensor{int64:int64:int8}(forall_inplace,cpu,scan_fn}.0, ScalarFromTensor.0, ScalarFromTensor.0, Constant{1}), Subtensor{int64:int64:int64}(forall_inplace,cpu,scan_fn}.0, ScalarFromTensor.0, ScalarFromTensor.0, Constant{-1})]]\n\nHINT: Re-running with most Theano optimization disabled could give you a back-trace of when this node was created. This can be done with by setting the Theano flag 'optimizer=fast_compile'. If that does not work, Theano optimizations can be disabled with 'optimizer=None'.\nHINT: Use the Theano flag 'exception_verbosity=high' for a debugprint and storage map footprint of this apply node."
     ]
    }
   ],
   "source": [
    "agent.sl_train_fn(i, t, a, pin)"
   ]
  },
  {
   "cell_type": "code",
   "execution_count": null,
   "metadata": {},
   "outputs": [],
   "source": []
  },
  {
   "cell_type": "code",
   "execution_count": null,
   "metadata": {},
   "outputs": [],
   "source": []
  },
  {
   "cell_type": "code",
   "execution_count": null,
   "metadata": {},
   "outputs": [],
   "source": []
  },
  {
   "cell_type": "code",
   "execution_count": null,
   "metadata": {},
   "outputs": [],
   "source": []
  },
  {
   "cell_type": "code",
   "execution_count": 42,
   "metadata": {},
   "outputs": [
    {
     "data": {
      "text/plain": [
       "['ryan reynolds', '5', 'thriller', 'pg', 'zack snyder', '2000']"
      ]
     },
     "execution_count": 42,
     "metadata": {},
     "output_type": "execute_result"
    }
   ],
   "source": [
    "db_full.tuples[50]"
   ]
  },
  {
   "cell_type": "code",
   "execution_count": 26,
   "metadata": {},
   "outputs": [
    {
     "data": {
      "text/plain": [
       "{'diaact': 'inform',\n",
       " 'turn': 2,\n",
       " 'inform_slots': {'critic_rating': None},\n",
       " 'request_slots': {},\n",
       " 'prev_diaact': 'inform',\n",
       " 'inform_slots_noisy': {'critic_rating': None},\n",
       " 'nl_sentence': 'I am not sure',\n",
       " 'episode_over': False,\n",
       " 'reward': -0.1}"
      ]
     },
     "execution_count": 26,
     "metadata": {},
     "output_type": "execute_result"
    }
   ],
   "source": [
    "ua"
   ]
  },
  {
   "cell_type": "code",
   "execution_count": 27,
   "metadata": {
    "scrolled": true
   },
   "outputs": [
    {
     "name": "stdout",
     "output_type": "stream",
     "text": [
      "Agent updating state:  request critic_rating\n",
      "Removing slot critic_rating from db!\n",
      "Agent DB entropy =  4.0090466\n",
      "Agent slot belief entropies - \n",
      "actor:0.84 critic_rating:0.00 genre:2.83 mpaa_rating:1.12 director:1.78 release_year:2.65\n"
     ]
    },
    {
     "data": {
      "text/plain": [
       "{'database': <deep_dialog.dialog_system.database.Database at 0x1fdc42acc48>,\n",
       " 'prevact': 'request@genre',\n",
       " 'inform_slots': {'actor': array([15.509259  ,  0.49074075], dtype=float32),\n",
       "  'critic_rating': array([0.10798122, 0.07511737, 0.08450704, 0.16431925, 0.11267605,\n",
       "         0.09859155, 0.08920188, 0.09859155, 0.08450704, 0.08450704],\n",
       "        dtype=float32),\n",
       "  'genre': array([0.09345794, 0.08878504, 0.08878504, 0.08411215, 0.07009346,\n",
       "         0.06542056, 0.03738318, 0.07943925, 0.06074766, 0.07009346,\n",
       "         0.06542056, 0.08411215, 0.11214953], dtype=float32),\n",
       "  'mpaa_rating': array([0.34545454, 0.3272727 , 0.3272727 ], dtype=float32),\n",
       "  'director': array([ 0.26339287, 15.263392  ,  0.20089285,  0.27232143], dtype=float32),\n",
       "  'release_year': array([ 0.06086956,  0.07391305,  0.07391305,  0.06956521,  0.06086956,\n",
       "          0.08260869,  0.03478261,  0.04347826,  0.07391305,  0.07826087,\n",
       "          0.04347826,  0.06956521, 20.030436  ,  0.06086956,  0.07826087,\n",
       "          0.06521739], dtype=float32)},\n",
       " 'turn': 3,\n",
       " 'init_entropy': {'actor': 0.9997526100334744,\n",
       "  'critic_rating': 3.2841470133855744,\n",
       "  'genre': 3.660058353210298,\n",
       "  'mpaa_rating': 1.5844883898180346,\n",
       "  'director': 1.9901216765729273,\n",
       "  'release_year': 3.9503124872328668},\n",
       " 'num_requests': {'actor': 0,\n",
       "  'critic_rating': 1000,\n",
       "  'genre': 1,\n",
       "  'mpaa_rating': 0,\n",
       "  'director': 0,\n",
       "  'release_year': 1},\n",
       " 'slot_tracker': {'actor', 'director', 'release_year'},\n",
       " 'dont_care': {'critic_rating'}}"
      ]
     },
     "execution_count": 27,
     "metadata": {},
     "output_type": "execute_result"
    }
   ],
   "source": [
    "nxt = agent.next(ua, verbose=True)\n",
    "agent.state"
   ]
  },
  {
   "cell_type": "code",
   "execution_count": 28,
   "metadata": {},
   "outputs": [],
   "source": [
    "ua, episode_over, reward = user_sim.next(nxt)"
   ]
  },
  {
   "cell_type": "code",
   "execution_count": 30,
   "metadata": {},
   "outputs": [
    {
     "data": {
      "text/plain": [
       "{'diaact': 'inform',\n",
       " 'turn': 3,\n",
       " 'inform_slots': {'genre': None},\n",
       " 'request_slots': {},\n",
       " 'prev_diaact': 'inform',\n",
       " 'inform_slots_noisy': {'genre': None},\n",
       " 'nl_sentence': 'I am not sure',\n",
       " 'episode_over': False,\n",
       " 'reward': -0.1}"
      ]
     },
     "execution_count": 30,
     "metadata": {},
     "output_type": "execute_result"
    }
   ],
   "source": [
    "ua"
   ]
  },
  {
   "cell_type": "code",
   "execution_count": 31,
   "metadata": {},
   "outputs": [
    {
     "name": "stdout",
     "output_type": "stream",
     "text": [
      "Agent updating state:  request genre\n",
      "Removing slot genre from db!\n",
      "Agent DB entropy =  4.0090466\n",
      "Agent slot belief entropies - \n",
      "actor:0.84 critic_rating:0.00 genre:0.00 mpaa_rating:1.12 director:1.78 release_year:2.65\n"
     ]
    },
    {
     "data": {
      "text/plain": [
       "{'database': <deep_dialog.dialog_system.database.Database at 0x1fdc42acc48>,\n",
       " 'prevact': 'request@director',\n",
       " 'inform_slots': {'actor': array([15.509259  ,  0.49074075], dtype=float32),\n",
       "  'critic_rating': array([0.10798122, 0.07511737, 0.08450704, 0.16431925, 0.11267605,\n",
       "         0.09859155, 0.08920188, 0.09859155, 0.08450704, 0.08450704],\n",
       "        dtype=float32),\n",
       "  'genre': array([0.09345794, 0.08878504, 0.08878504, 0.08411215, 0.07009346,\n",
       "         0.06542056, 0.03738318, 0.07943925, 0.06074766, 0.07009346,\n",
       "         0.06542056, 0.08411215, 0.11214953], dtype=float32),\n",
       "  'mpaa_rating': array([0.34545454, 0.3272727 , 0.3272727 ], dtype=float32),\n",
       "  'director': array([ 0.26339287, 15.263392  ,  0.20089285,  0.27232143], dtype=float32),\n",
       "  'release_year': array([ 0.06086956,  0.07391305,  0.07391305,  0.06956521,  0.06086956,\n",
       "          0.08260869,  0.03478261,  0.04347826,  0.07391305,  0.07826087,\n",
       "          0.04347826,  0.06956521, 20.030436  ,  0.06086956,  0.07826087,\n",
       "          0.06521739], dtype=float32)},\n",
       " 'turn': 4,\n",
       " 'init_entropy': {'actor': 0.9997526100334744,\n",
       "  'critic_rating': 3.2841470133855744,\n",
       "  'genre': 3.660058353210298,\n",
       "  'mpaa_rating': 1.5844883898180346,\n",
       "  'director': 1.9901216765729273,\n",
       "  'release_year': 3.9503124872328668},\n",
       " 'num_requests': {'actor': 0,\n",
       "  'critic_rating': 1000,\n",
       "  'genre': 1000,\n",
       "  'mpaa_rating': 0,\n",
       "  'director': 1,\n",
       "  'release_year': 1},\n",
       " 'slot_tracker': {'actor', 'director', 'release_year'},\n",
       " 'dont_care': {'critic_rating', 'genre'}}"
      ]
     },
     "execution_count": 31,
     "metadata": {},
     "output_type": "execute_result"
    }
   ],
   "source": [
    "nxt = agent.next(ua, verbose=True)\n",
    "agent.state"
   ]
  },
  {
   "cell_type": "code",
   "execution_count": 33,
   "metadata": {
    "scrolled": true
   },
   "outputs": [],
   "source": [
    "ua, episode_over, reward = user_sim.next(nxt)"
   ]
  },
  {
   "cell_type": "code",
   "execution_count": 34,
   "metadata": {},
   "outputs": [
    {
     "data": {
      "text/plain": [
       "{'diaact': 'inform',\n",
       " 'turn': 4,\n",
       " 'inform_slots': {'director': 'christopher nolan'},\n",
       " 'request_slots': {},\n",
       " 'prev_diaact': 'inform',\n",
       " 'inform_slots_noisy': {'director': 'christopher nolan'},\n",
       " 'nl_sentence': 'christopher nolan',\n",
       " 'episode_over': False,\n",
       " 'reward': -0.1}"
      ]
     },
     "execution_count": 34,
     "metadata": {},
     "output_type": "execute_result"
    }
   ],
   "source": [
    "ua"
   ]
  },
  {
   "cell_type": "code",
   "execution_count": 35,
   "metadata": {
    "scrolled": true
   },
   "outputs": [
    {
     "name": "stdout",
     "output_type": "stream",
     "text": [
      "Agent updating state:  request director\n",
      "Detected christopher nolan  update =  1.0\n",
      "Agent DB entropy =  3.8786604\n",
      "Agent slot belief entropies - \n",
      "actor:0.86 critic_rating:0.00 genre:0.00 mpaa_rating:1.06 director:1.72 release_year:2.74\n"
     ]
    },
    {
     "data": {
      "text/plain": [
       "{'database': <deep_dialog.dialog_system.database.Database at 0x1fdc42acc48>,\n",
       " 'prevact': 'request@mpaa_rating',\n",
       " 'inform_slots': {'actor': array([15.509259  ,  0.49074075], dtype=float32),\n",
       "  'critic_rating': array([0.10798122, 0.07511737, 0.08450704, 0.16431925, 0.11267605,\n",
       "         0.09859155, 0.08920188, 0.09859155, 0.08450704, 0.08450704],\n",
       "        dtype=float32),\n",
       "  'genre': array([0.09345794, 0.08878504, 0.08878504, 0.08411215, 0.07009346,\n",
       "         0.06542056, 0.03738318, 0.07943925, 0.06074766, 0.07009346,\n",
       "         0.06542056, 0.08411215, 0.11214953], dtype=float32),\n",
       "  'mpaa_rating': array([0.34545454, 0.3272727 , 0.3272727 ], dtype=float32),\n",
       "  'director': array([ 0.26339287, 35.263393  ,  0.20089285,  0.27232143], dtype=float32),\n",
       "  'release_year': array([ 0.06086956,  0.07391305,  0.07391305,  0.06956521,  0.06086956,\n",
       "          0.08260869,  0.03478261,  0.04347826,  0.07391305,  0.07826087,\n",
       "          0.04347826,  0.06956521, 20.030436  ,  0.06086956,  0.07826087,\n",
       "          0.06521739], dtype=float32)},\n",
       " 'turn': 5,\n",
       " 'init_entropy': {'actor': 0.9997526100334744,\n",
       "  'critic_rating': 3.2841470133855744,\n",
       "  'genre': 3.660058353210298,\n",
       "  'mpaa_rating': 1.5844883898180346,\n",
       "  'director': 1.9901216765729273,\n",
       "  'release_year': 3.9503124872328668},\n",
       " 'num_requests': {'actor': 0,\n",
       "  'critic_rating': 1000,\n",
       "  'genre': 1000,\n",
       "  'mpaa_rating': 1,\n",
       "  'director': 1,\n",
       "  'release_year': 1},\n",
       " 'slot_tracker': {'actor', 'director', 'release_year'},\n",
       " 'dont_care': {'critic_rating', 'genre'}}"
      ]
     },
     "execution_count": 35,
     "metadata": {},
     "output_type": "execute_result"
    }
   ],
   "source": [
    "nxt = agent.next(ua, verbose=True)\n",
    "agent.state"
   ]
  },
  {
   "cell_type": "code",
   "execution_count": 36,
   "metadata": {},
   "outputs": [],
   "source": [
    "ua, episode_over, reward = user_sim.next(nxt)"
   ]
  },
  {
   "cell_type": "code",
   "execution_count": 37,
   "metadata": {},
   "outputs": [
    {
     "data": {
      "text/plain": [
       "{'diaact': 'inform',\n",
       " 'turn': 5,\n",
       " 'inform_slots': {'mpaa_rating': None},\n",
       " 'request_slots': {},\n",
       " 'prev_diaact': 'inform',\n",
       " 'inform_slots_noisy': {'mpaa_rating': None},\n",
       " 'nl_sentence': 'I dont know',\n",
       " 'episode_over': False,\n",
       " 'reward': -0.1}"
      ]
     },
     "execution_count": 37,
     "metadata": {},
     "output_type": "execute_result"
    }
   ],
   "source": [
    "ua"
   ]
  },
  {
   "cell_type": "code",
   "execution_count": 40,
   "metadata": {
    "scrolled": true
   },
   "outputs": [
    {
     "name": "stdout",
     "output_type": "stream",
     "text": [
      "Agent updating state:  request mpaa_rating\n",
      "Removing slot mpaa_rating from db!\n",
      "Agent DB entropy =  3.8786607\n",
      "Agent slot belief entropies - \n",
      "actor:0.86 critic_rating:0.00 genre:0.00 mpaa_rating:0.00 director:1.72 release_year:2.74\n",
      "Agent confident about all slots, inform\n"
     ]
    },
    {
     "data": {
      "text/plain": [
       "{'database': <deep_dialog.dialog_system.database.Database at 0x1fdc42acc48>,\n",
       " 'prevact': 'inform@inform',\n",
       " 'inform_slots': {'actor': array([15.509259  ,  0.49074075], dtype=float32),\n",
       "  'critic_rating': array([0.10798122, 0.07511737, 0.08450704, 0.16431925, 0.11267605,\n",
       "         0.09859155, 0.08920188, 0.09859155, 0.08450704, 0.08450704],\n",
       "        dtype=float32),\n",
       "  'genre': array([0.09345794, 0.08878504, 0.08878504, 0.08411215, 0.07009346,\n",
       "         0.06542056, 0.03738318, 0.07943925, 0.06074766, 0.07009346,\n",
       "         0.06542056, 0.08411215, 0.11214953], dtype=float32),\n",
       "  'mpaa_rating': array([0.34545454, 0.3272727 , 0.3272727 ], dtype=float32),\n",
       "  'director': array([ 0.26339287, 35.263393  ,  0.20089285,  0.27232143], dtype=float32),\n",
       "  'release_year': array([ 0.06086956,  0.07391305,  0.07391305,  0.06956521,  0.06086956,\n",
       "          0.08260869,  0.03478261,  0.04347826,  0.07391305,  0.07826087,\n",
       "          0.04347826,  0.06956521, 20.030436  ,  0.06086956,  0.07826087,\n",
       "          0.06521739], dtype=float32)},\n",
       " 'turn': 6,\n",
       " 'init_entropy': {'actor': 0.9997526100334744,\n",
       "  'critic_rating': 3.2841470133855744,\n",
       "  'genre': 3.660058353210298,\n",
       "  'mpaa_rating': 1.5844883898180346,\n",
       "  'director': 1.9901216765729273,\n",
       "  'release_year': 3.9503124872328668},\n",
       " 'num_requests': {'actor': 0,\n",
       "  'critic_rating': 1000,\n",
       "  'genre': 1000,\n",
       "  'mpaa_rating': 1000,\n",
       "  'director': 1,\n",
       "  'release_year': 1},\n",
       " 'slot_tracker': {'actor', 'director', 'release_year'},\n",
       " 'dont_care': {'critic_rating', 'genre', 'mpaa_rating'}}"
      ]
     },
     "execution_count": 40,
     "metadata": {},
     "output_type": "execute_result"
    }
   ],
   "source": [
    "nxt = agent.next(ua, verbose=True)\n",
    "agent.state"
   ]
  },
  {
   "cell_type": "code",
   "execution_count": 36,
   "metadata": {},
   "outputs": [],
   "source": [
    "ua, episode_over, reward = user_sim.next(nxt)"
   ]
  },
  {
   "cell_type": "code",
   "execution_count": 37,
   "metadata": {},
   "outputs": [
    {
     "data": {
      "text/plain": [
       "{'diaact': 'inform',\n",
       " 'turn': 5,\n",
       " 'inform_slots': {'mpaa_rating': None},\n",
       " 'request_slots': {},\n",
       " 'prev_diaact': 'inform',\n",
       " 'inform_slots_noisy': {'mpaa_rating': None},\n",
       " 'nl_sentence': 'I dont know',\n",
       " 'episode_over': False,\n",
       " 'reward': -0.1}"
      ]
     },
     "execution_count": 37,
     "metadata": {},
     "output_type": "execute_result"
    }
   ],
   "source": [
    "ua"
   ]
  },
  {
   "cell_type": "code",
   "execution_count": null,
   "metadata": {},
   "outputs": [],
   "source": []
  },
  {
   "cell_type": "code",
   "execution_count": null,
   "metadata": {},
   "outputs": [],
   "source": []
  },
  {
   "cell_type": "code",
   "execution_count": null,
   "metadata": {},
   "outputs": [],
   "source": []
  },
  {
   "cell_type": "code",
   "execution_count": null,
   "metadata": {},
   "outputs": [],
   "source": []
  },
  {
   "cell_type": "code",
   "execution_count": null,
   "metadata": {},
   "outputs": [],
   "source": []
  },
  {
   "cell_type": "code",
   "execution_count": null,
   "metadata": {},
   "outputs": [],
   "source": []
  },
  {
   "cell_type": "code",
   "execution_count": null,
   "metadata": {},
   "outputs": [],
   "source": []
  },
  {
   "cell_type": "code",
   "execution_count": null,
   "metadata": {},
   "outputs": [],
   "source": []
  },
  {
   "cell_type": "code",
   "execution_count": 52,
   "metadata": {},
   "outputs": [],
   "source": [
    "import numpy as np\n",
    "import time\n",
    "\n",
    "N = 1 # количество симуляций\n",
    "\n",
    "\n",
    "user_sim = RuleSimulator(movie_dict=movie_kb, act_set=act_set, slot_set=slot_set, \n",
    "                         start_set=None, max_turn=max_turn, nlg=nlg, err_prob=err_prob, \n",
    "                         db=db_full, dk_prob=(1.-dk_prob), sub_prob=sub_prob, \n",
    "                         max_first_turn=max_first_turn)\n",
    "\n",
    "agent = AgentActRule(movie_kb, act_set, slot_set, db_inc,\n",
    "            upd=params['upd'], tr=params['tr'], ts=params['ts'], \n",
    "            frac=params['frac'], max_req=params['max_req'])\n",
    "\n",
    "dialog_manager = DialogManager(agent, user_sim, db_full, db_inc, movie_kb, verbose=True)"
   ]
  },
  {
   "cell_type": "code",
   "execution_count": 53,
   "metadata": {},
   "outputs": [
    {
     "name": "stdout",
     "output_type": "stream",
     "text": [
      "У искомой сущности есть слоты (в неполной БД) ['critic_rating', 'genre', 'director']\n",
      "Пользователь уже назвал (?): {'genre': 'action', 'director': 'zack snyder'}\n",
      "User target =  movie:interstellar, actor:tina fey, critic_rating:8%, genre:action, mpaa_rating:r, director:zack snyder, release_year:2001\n",
      "User information =  critic_rating:8%, genre:action, director:zack snyder \n",
      "\n",
      "UTT:  I am looking for a movie with director zack snyder and genre action.\n",
      "Turn 0 user action: request \t inform slots: {'genre': 'action', 'director': 'zack snyder'}\n",
      "Utterance: I am looking for a movie with director zack snyder and genre action. \n",
      "\n",
      "query for lookup [None, None, 'action', None, 'zack snyder', None]\n",
      "Нашло 35 строк\n",
      "в запросе участвовали не все слоты и нашелся не один ответ\n",
      "Энтропии:  {'actor': 1.5525278240272846, 'critic_rating': 3.163740516388646, 'mpaa_rating': 1.919728081444846, 'release_year': 3.5672534608576205}\n",
      "Turn 1 sys action: request, request slots: {'release_year': 'UNK'}\n",
      "\n",
      "I cannot remember\n",
      "Turn 1 user action: inform \t inform slots: {'release_year': None}\n",
      "Utterance: I cannot remember \n",
      "\n",
      "query for lookup [None, None, 'action', None, 'zack snyder', None]\n",
      "Нашло 35 строк\n",
      "в запросе участвовали не все слоты и нашелся не один ответ\n",
      "Энтропии:  {'actor': 1.5525278240272846, 'critic_rating': 3.163740516388646, 'mpaa_rating': 1.919728081444846}\n",
      "Turn 2 sys action: request, request slots: {'critic_rating': 'UNK'}\n",
      "\n",
      "The critic_rating is 8%.\n",
      "Turn 2 user action: inform \t inform slots: {'critic_rating': '8%'}\n",
      "Utterance: The critic_rating is 8%. \n",
      "\n",
      "query for lookup [None, '8%', 'action', None, 'zack snyder', None]\n",
      "Нашло 13 строк\n",
      "в запросе участвовали не все слоты и нашелся не один ответ\n",
      "Энтропии:  {'actor': 1.4195562985716133, 'mpaa_rating': 1.77585894824464}\n",
      "Turn 3 sys action: request, request slots: {'mpaa_rating': 'UNK'}\n",
      "\n",
      "I cannot remember\n",
      "Turn 3 user action: inform \t inform slots: {'mpaa_rating': None}\n",
      "Utterance: I cannot remember \n",
      "\n",
      "query for lookup [None, '8%', 'action', None, 'zack snyder', None]\n",
      "Нашло 13 строк\n",
      "в запросе участвовали не все слоты и нашелся не один ответ\n",
      "Энтропии:  {'actor': 1.4195562985716133}\n",
      "Turn 4 sys action: request, request slots: {'actor': 'UNK'}\n",
      "\n",
      "I cannot remember\n",
      "Turn 4 user action: inform \t inform slots: {'actor': None}\n",
      "Utterance: I cannot remember \n",
      "\n",
      "query for lookup [None, '8%', 'action', None, 'zack snyder', None]\n",
      "Нашло 13 строк\n",
      "если в запросе участвовали все слоты либо нашелся 1 вариант => вернуть ответ\n",
      "Turn 5 sys action: inform, request slots: {}\n",
      "\n",
      "Просил 62, нашли на позиции 2\n",
      "Agent Results:\n",
      "tokyo story\tryan reynolds\tUNK\tUNK\tpg\tUNK\t2009\n",
      "on the waterfront\tUNK\t8%\tUNK\tr\tzack snyder\tUNK\n",
      "interstellar\ttina fey\t8%\taction\tUNK\tzack snyder\tUNK\n",
      "young messiah\tryan reynolds\tUNK\tUNK\tpg\tUNK\t2005\n",
      "hail caesar\tryan reynolds\tUNK\tUNK\tUNK\tUNK\t2009\n",
      "Thank you!\n",
      "Successful Dialog! Total reward = 0.7999999999999999\n"
     ]
    }
   ],
   "source": [
    "all_rewards = np.zeros((N,))\n",
    "all_success = np.zeros((N,))\n",
    "all_turns = np.zeros((N,))\n",
    "tst = time.time()\n",
    "\n",
    "for i in range(N):\n",
    "    current_reward = 0\n",
    "    current_success = False\n",
    "    ua = dialog_manager.initialize_episode()\n",
    "    utt = ua['nl_sentence']\n",
    "    print('UTT: ', utt)\n",
    "    t = 0\n",
    "    while(True):\n",
    "        t += 1\n",
    "        episode_over, reward, ua, sa = dialog_manager.next_turn()\n",
    "        utt = ua['nl_sentence']\n",
    "        print(utt)\n",
    "        current_reward += reward\n",
    "        if episode_over:\n",
    "            if reward > 0:\n",
    "                print (\"Successful Dialog! Total reward = {}\".format(current_reward))\n",
    "                current_success = True\n",
    "            else:\n",
    "                print (\"Failed Dialog! Total reward = {}\".format(current_reward))\n",
    "            break\n",
    "    all_rewards[i] = current_reward\n",
    "    all_success[i] = 1 if current_success else 0\n",
    "    all_turns[i] = t"
   ]
  },
  {
   "cell_type": "code",
   "execution_count": null,
   "metadata": {},
   "outputs": [],
   "source": []
  },
  {
   "cell_type": "code",
   "execution_count": null,
   "metadata": {},
   "outputs": [],
   "source": []
  },
  {
   "cell_type": "code",
   "execution_count": 47,
   "metadata": {},
   "outputs": [
    {
     "name": "stdout",
     "output_type": "stream",
     "text": [
      "Просил 275, нашли на позиции 0\n"
     ]
    }
   ],
   "source": [
    "ua, episode_over, reward = user_sim.next(nxt)"
   ]
  },
  {
   "cell_type": "code",
   "execution_count": 42,
   "metadata": {},
   "outputs": [],
   "source": [
    "dialog_manager = DialogManager(agent, user_sim, db_full, db_inc, movie_kb, verbose=True)"
   ]
  },
  {
   "cell_type": "code",
   "execution_count": 44,
   "metadata": {},
   "outputs": [
    {
     "name": "stdout",
     "output_type": "stream",
     "text": [
      "Пользователь знает ['genre', 'mpaa_rating', 'director']\n",
      "Симулятор знает {'mpaa_rating': 'r', 'director': 'quentin tarantino'}\n",
      "User target =  movie:hachi: a dog's tale, actor:ryan reynolds, critic_rating:4.5/5, genre:sci-fi, mpaa_rating:r, director:quentin tarantino, release_year:2004\n",
      "User information =  genre:sci-fi, mpaa_rating:r, director:quentin tarantino \n",
      "\n"
     ]
    },
    {
     "data": {
      "text/plain": [
       "{'diaact': 'request',\n",
       " 'turn': 0,\n",
       " 'inform_slots': {'mpaa_rating': 'r', 'director': 'quentin tarantino'},\n",
       " 'request_slots': {'movie': 'UNK'},\n",
       " 'prev_diaact': 'UNK',\n",
       " 'inform_slots_noisy': {'mpaa_rating': 'r', 'director': 'christopher'},\n",
       " 'nl_sentence': 'Can you please tell me a movie whose director is christopher and mpaa_rating is r?',\n",
       " 'episode_over': False,\n",
       " 'reward': 0}"
      ]
     },
     "execution_count": 44,
     "metadata": {},
     "output_type": "execute_result"
    }
   ],
   "source": [
    "ua = dialog_manager.initialize_episode()\n",
    "ua"
   ]
  },
  {
   "cell_type": "code",
   "execution_count": null,
   "metadata": {},
   "outputs": [],
   "source": []
  }
 ],
 "metadata": {
  "kernelspec": {
   "display_name": "Python [conda env:torch_kbinfo]",
   "language": "python",
   "name": "conda-env-torch_kbinfo-py"
  },
  "language_info": {
   "codemirror_mode": {
    "name": "ipython",
    "version": 3
   },
   "file_extension": ".py",
   "mimetype": "text/x-python",
   "name": "python",
   "nbconvert_exporter": "python",
   "pygments_lexer": "ipython3",
   "version": "3.7.7"
  }
 },
 "nbformat": 4,
 "nbformat_minor": 2
}
