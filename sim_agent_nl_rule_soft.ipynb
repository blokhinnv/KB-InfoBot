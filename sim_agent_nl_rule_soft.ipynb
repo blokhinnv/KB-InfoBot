{
 "cells": [
  {
   "cell_type": "code",
   "execution_count": 1,
   "metadata": {},
   "outputs": [],
   "source": [
    "%load_ext autoreload\n",
    "%autoreload 2"
   ]
  },
  {
   "cell_type": "code",
   "execution_count": 2,
   "metadata": {},
   "outputs": [
    {
     "name": "stdout",
     "output_type": "stream",
     "text": [
      "F:\\nvb\\KB-InfoBot\n"
     ]
    }
   ],
   "source": [
    "cd F:\\nvb\\KB-InfoBot"
   ]
  },
  {
   "cell_type": "code",
   "execution_count": 3,
   "metadata": {},
   "outputs": [],
   "source": [
    "from deep_dialog.dialog_system import MovieDict, DictReader, Database\n",
    "from deep_dialog.objects import SlotReader\n",
    "from deep_dialog.agents.agent_nl_rule_soft import AgentNLRuleSoft\n",
    "from deep_dialog.usersims import RuleSimulator\n",
    "from deep_dialog.usersims.template_nlg import TemplateNLG\n",
    "from deep_dialog.dialog_system.dialog_manager import DialogManager"
   ]
  },
  {
   "cell_type": "code",
   "execution_count": 4,
   "metadata": {},
   "outputs": [],
   "source": [
    "params = {}\n",
    "params['act_set'] = r'F:\\nvb\\KB-InfoBot\\data\\dia_acts.txt'\n",
    "params['dataset'] = 'imdb_S'\n",
    "params['tr'] = 1.0\n",
    "params['ts'] = 1.0\n",
    "params['max_req'] = 1\n",
    "params['frac'] = 0.5\n",
    "params['upd'] = 10\n",
    "params['template_path'] = r'F:\\nvb\\KB-InfoBot\\data\\templates.j'\n",
    "\n",
    "max_turn = 20\n",
    "err_prob = .5\n",
    "dk_prob = .5\n",
    "sub_prob = .05\n",
    "nlg_temp = 1\n",
    "max_first_turn = 5\n",
    "\n",
    "\n",
    "slot_path = r'F:\\nvb\\KB-InfoBot\\data\\imdb-S\\slot_set.txt'\n",
    "dict_path = r'F:/nvb/KB-InfoBot/data/imdb-S/dicts_.json'\n",
    "db_full_path = r'F:\\nvb\\KB-InfoBot\\data\\imdb-S\\db.txt'\n",
    "db_inc_path = r'F:\\nvb\\KB-InfoBot\\data\\imdb-S\\incomplete_db_0.20.txt'"
   ]
  },
  {
   "cell_type": "code",
   "execution_count": 5,
   "metadata": {},
   "outputs": [],
   "source": [
    "act_set = DictReader()\n",
    "act_set.load_dict_from_file(params['act_set'])"
   ]
  },
  {
   "cell_type": "code",
   "execution_count": 6,
   "metadata": {},
   "outputs": [],
   "source": [
    "slot_set = SlotReader(slot_path)"
   ]
  },
  {
   "cell_type": "code",
   "execution_count": 7,
   "metadata": {},
   "outputs": [],
   "source": [
    "movie_kb = MovieDict(dict_path)"
   ]
  },
  {
   "cell_type": "code",
   "execution_count": 8,
   "metadata": {},
   "outputs": [],
   "source": [
    "db_full = Database(db_full_path, movie_kb, name=params['dataset'])\n",
    "db_inc = Database(db_inc_path, movie_kb, name='incomplete_db_0.20')"
   ]
  },
  {
   "cell_type": "code",
   "execution_count": 9,
   "metadata": {},
   "outputs": [
    {
     "data": {
      "text/plain": [
       "['triple 9',\n",
       " 'finding dory',\n",
       " 'kung fu panda 3',\n",
       " 'creed',\n",
       " 'big short',\n",
       " 'eddie the eagle',\n",
       " 'where to invade next',\n",
       " 'whiskey tango foxtrot',\n",
       " 'deadpool',\n",
       " 'batman vs superman',\n",
       " 'lolo',\n",
       " 'other side of the door',\n",
       " 'forest',\n",
       " 'young messiah',\n",
       " 'brothers grimsby',\n",
       " 'star wars',\n",
       " 'zootopia',\n",
       " 'how to be single',\n",
       " 'risen',\n",
       " '10 cloverfield lane',\n",
       " 'witch',\n",
       " 'london has fallen',\n",
       " 'room',\n",
       " 'gods of egypt',\n",
       " 'hail caesar',\n",
       " 'race',\n",
       " 'danish girl',\n",
       " 'perfect match',\n",
       " 'zoolander 2',\n",
       " 'independce day',\n",
       " 'spotlight',\n",
       " 'the shawshank redemption',\n",
       " 'the godfather',\n",
       " 'the godfather: part ii',\n",
       " 'the dark knight',\n",
       " \"schindler's list\",\n",
       " '12 angry men',\n",
       " 'pulp fiction',\n",
       " 'the lord of the rings: the return of the kin',\n",
       " 'the good, the bad and the ugly',\n",
       " 'fight club',\n",
       " 'the lord of the rings: the fellowship of the ring',\n",
       " 'star wars: episode v - the empire strikes bac',\n",
       " 'forrest gump',\n",
       " 'inception',\n",
       " 'the lord of the rings: the two towers',\n",
       " \"one flew over the cuckoo's nest\",\n",
       " 'goodfellas',\n",
       " 'the matrix',\n",
       " 'seven samurai',\n",
       " 'star wars: episode iv - a new hope',\n",
       " 'city of god',\n",
       " 'se7en',\n",
       " 'the silence of the lambs',\n",
       " \"it's a wonderful life\",\n",
       " 'the usual suspects',\n",
       " 'life is beautiful',\n",
       " 'lйon: the professional',\n",
       " 'once upon a time in the west',\n",
       " 'spirited away',\n",
       " 'saving private ryan',\n",
       " 'american history x',\n",
       " 'interstellar',\n",
       " 'casablanca',\n",
       " 'psycho',\n",
       " 'city lights',\n",
       " 'raiders of the lost ark',\n",
       " 'the intouchables',\n",
       " 'modern times',\n",
       " 'rear window',\n",
       " 'the green mile',\n",
       " 'terminator 2: judgment day',\n",
       " 'the pianist',\n",
       " 'the departed',\n",
       " 'back to the future',\n",
       " 'whiplash',\n",
       " 'gladiator',\n",
       " 'memento',\n",
       " 'apocalypse now',\n",
       " 'the prestige',\n",
       " 'the lion king',\n",
       " 'dr. strangelove or: how i learned to stop worrying and love the bomb',\n",
       " 'sunset boulevard',\n",
       " 'alien',\n",
       " 'the great dictator',\n",
       " 'the lives of others',\n",
       " 'cinema paradiso',\n",
       " 'django unchained',\n",
       " 'paths of glory',\n",
       " 'the shining',\n",
       " 'grave of the fireflies',\n",
       " 'wall·e',\n",
       " 'the dark knight rises',\n",
       " 'american beauty',\n",
       " 'aliens',\n",
       " 'princess mononoke',\n",
       " 'oldboy',\n",
       " 'citizen kane',\n",
       " 'once upon a time in america',\n",
       " 'north by northwest',\n",
       " 'das boot',\n",
       " 'vertigo',\n",
       " 'witness for the prosecution',\n",
       " 'star wars: episode vi - return of the jed',\n",
       " 'm',\n",
       " 'reservoir dogs',\n",
       " 'amйlie',\n",
       " 'braveheart',\n",
       " 'requiem for a dream',\n",
       " 'a clockwork orange',\n",
       " 'taxi driver',\n",
       " 'double indemnity',\n",
       " 'toy story 3',\n",
       " 'lawrence of arabia',\n",
       " 'to kill a mockingbird',\n",
       " 'eternal sunshine of the spotless mind',\n",
       " 'full metal jacket',\n",
       " 'amadeus',\n",
       " 'the sting',\n",
       " '2001: a space odyssey',\n",
       " 'bicycle thieves',\n",
       " \"singin' in the rain\",\n",
       " 'snatch.',\n",
       " 'toy story',\n",
       " 'monty python and the holy grail',\n",
       " 'inglourious basterds',\n",
       " 'the kid',\n",
       " 'l.a. confidential',\n",
       " 'for a few dollars more',\n",
       " 'the apartment',\n",
       " 'rashomon',\n",
       " 'indiana jones and the last crusade',\n",
       " 'scarface',\n",
       " 'a separation',\n",
       " 'metropolis',\n",
       " 'all about eve',\n",
       " 'yojimbo',\n",
       " 'the treasure of the sierra madre',\n",
       " 'the hunt',\n",
       " 'batman begins',\n",
       " '3 idiots',\n",
       " 'some like it hot',\n",
       " 'children of heaven',\n",
       " 'good will hunting',\n",
       " 'unforgiven',\n",
       " 'up',\n",
       " 'the third man',\n",
       " 'raging bull',\n",
       " 'downfall',\n",
       " 'inside out',\n",
       " 'die hard',\n",
       " 'the great escape',\n",
       " 'chinatown',\n",
       " 'heat',\n",
       " \"pan's labyrinth\",\n",
       " 'on the waterfront',\n",
       " 'my neighbor totoro',\n",
       " 'ran',\n",
       " 'ikiru',\n",
       " 'mr. smith goes to washington',\n",
       " 'the bridge on the river kwai',\n",
       " 'the gold rush',\n",
       " 'the secret in their eyes',\n",
       " 'the seventh seal',\n",
       " 'blade runner',\n",
       " 'sunrise',\n",
       " 'star wars: the force awakens',\n",
       " 'lock, stock and two smoking barrels',\n",
       " 'captain america: civil war',\n",
       " \"howl's moving castle\",\n",
       " 'casino',\n",
       " 'the general',\n",
       " 'wild strawberries',\n",
       " 'tokyo story',\n",
       " 'the elephant man',\n",
       " 'warrior',\n",
       " 'the wolf of wall street',\n",
       " 'judgment at nuremberg',\n",
       " 'a beautiful mind',\n",
       " 'the message',\n",
       " 'v for vendetta',\n",
       " 'gran torino',\n",
       " 'the big lebowski',\n",
       " 'incendies',\n",
       " 'the deer hunter',\n",
       " 'rebecca',\n",
       " 'trainspotting',\n",
       " 'fargo',\n",
       " 'gone with the wind',\n",
       " 'dial m for murder',\n",
       " 'cool hand luke',\n",
       " 'how to train your dragon',\n",
       " 'the sixth sense',\n",
       " 'finding nemo',\n",
       " 'the thing',\n",
       " 'no country for old men',\n",
       " 'into the wild',\n",
       " 'mary and max',\n",
       " 'gone girl',\n",
       " 'kill bill: vol. 1',\n",
       " 'it happened one night',\n",
       " 'nights of cabiria',\n",
       " 'rush',\n",
       " 'life of brian',\n",
       " 'there will be blood',\n",
       " 'hotel rwanda',\n",
       " 'platoon',\n",
       " 'the maltese falcon',\n",
       " 'mad max: fury road',\n",
       " 'network',\n",
       " 'the wages of fear',\n",
       " 'butch cassidy and the sundance kid',\n",
       " 'shutter island',\n",
       " 'the 400 blows',\n",
       " 'stand by me',\n",
       " 'in the name of the father',\n",
       " 'persona',\n",
       " '12 years a slave',\n",
       " 'the grand budapest hotel',\n",
       " 'amores perros',\n",
       " 'million dollar baby',\n",
       " 'the princess bride',\n",
       " 'ben-hur',\n",
       " 'wild tales',\n",
       " 'touch of evil',\n",
       " \"hachi: a dog's tale\",\n",
       " 'annie hall',\n",
       " 'the grapes of wrath',\n",
       " 'nausicaд of the valley of the wind',\n",
       " 'jurassic park',\n",
       " 'stalker',\n",
       " 'the revenant',\n",
       " 'gandhi',\n",
       " 'diabolique',\n",
       " 'before sunrise',\n",
       " 'the bourne ultimatum',\n",
       " 'donnie darko',\n",
       " 'the truman show',\n",
       " 'memories of murder',\n",
       " '8Ѕ',\n",
       " 'rocky',\n",
       " 'the wizard of oz',\n",
       " 'the terminator',\n",
       " 'monsters, inc.',\n",
       " 'harry potter and the deathly hallows: part ',\n",
       " 'the best years of our lives',\n",
       " 'twelve monkeys',\n",
       " 'kind hearts and coronets',\n",
       " 'groundhog day',\n",
       " 'sin city',\n",
       " 'strangers on a train',\n",
       " 'infernal affairs',\n",
       " 'jaws',\n",
       " 'la haine',\n",
       " 'barry lyndon',\n",
       " 'prisoners',\n",
       " 'the battle of algiers',\n",
       " 'dog day afternoon',\n",
       " 'the martian',\n",
       " 'ip man',\n",
       " 'catch me if you can',\n",
       " 'the imitation game',\n",
       " 'pirates of the caribbean: the curse of the black pearl',\n",
       " 'fanny and alexander',\n",
       " 'the avengers',\n",
       " 'guardians of the galaxy',\n",
       " 'the help',\n",
       " 'a fistful of dollars',\n",
       " \"the king's speech\",\n",
       " 'castle in the sky',\n",
       " 'roman holiday',\n",
       " 'throne of blood',\n",
       " 'high noon',\n",
       " 'beauty and the beast',\n",
       " 'in the mood for love',\n",
       " 'lagaan: once upon a time in india',\n",
       " 'pk']"
      ]
     },
     "execution_count": 9,
     "metadata": {},
     "output_type": "execute_result"
    }
   ],
   "source": [
    "db_inc.labels"
   ]
  },
  {
   "cell_type": "code",
   "execution_count": 10,
   "metadata": {},
   "outputs": [
    {
     "data": {
      "text/plain": [
       "['r', 'pg-13', 'pg-13', 'pg', 'pg-13']"
      ]
     },
     "execution_count": 10,
     "metadata": {},
     "output_type": "execute_result"
    }
   ],
   "source": [
    "db_matches = [m[3] for m in db_full.tuples]\n",
    "db_matches[:5]"
   ]
  },
  {
   "cell_type": "code",
   "execution_count": 11,
   "metadata": {},
   "outputs": [
    {
     "data": {
      "text/plain": [
       "array([  9,  10,  17,  19,  20,  28,  44,  51,  54,  57,  63,  67,  83,\n",
       "        84,  86,  87,  88,  89,  90,  95,  98, 102, 114, 115, 119, 126,\n",
       "       128, 138, 150, 153, 155, 160, 165, 166, 175, 186, 187, 189, 191,\n",
       "       194, 196, 199, 202, 206, 210, 211, 215, 219, 220, 225, 233, 239,\n",
       "       241, 244, 256, 259, 269, 270, 272, 273, 274], dtype=int64)"
      ]
     },
     "execution_count": 11,
     "metadata": {},
     "output_type": "execute_result"
    }
   ],
   "source": [
    "db_inc.unks['actor']"
   ]
  },
  {
   "cell_type": "code",
   "execution_count": 12,
   "metadata": {
    "scrolled": true
   },
   "outputs": [
    {
     "data": {
      "text/plain": [
       "(2, 277)"
      ]
     },
     "execution_count": 12,
     "metadata": {},
     "output_type": "execute_result"
    }
   ],
   "source": [
    "db_inc.ids['actor'].shape"
   ]
  },
  {
   "cell_type": "code",
   "execution_count": 13,
   "metadata": {},
   "outputs": [],
   "source": [
    "nlg = TemplateNLG(params['template_path'])"
   ]
  },
  {
   "cell_type": "code",
   "execution_count": 14,
   "metadata": {},
   "outputs": [],
   "source": [
    "user_sim = RuleSimulator(movie_dict=movie_kb, act_set=act_set, slot_set=slot_set, \n",
    "                         start_set=None, max_turn=max_turn, nlg=nlg, err_prob=err_prob, \n",
    "                         db=db_full, dk_prob=(1.-dk_prob), sub_prob=sub_prob, \n",
    "                         max_first_turn=max_first_turn)"
   ]
  },
  {
   "cell_type": "code",
   "execution_count": 15,
   "metadata": {},
   "outputs": [],
   "source": [
    "agent = AgentNLRuleSoft(movie_kb, act_set, slot_set, db_inc,\n",
    "            upd=params['upd'], tr=params['tr'], ts=params['ts'], \n",
    "            frac=params['frac'], max_req=params['max_req'])"
   ]
  },
  {
   "cell_type": "code",
   "execution_count": 30,
   "metadata": {},
   "outputs": [
    {
     "data": {
      "text/plain": [
       "{'database': <deep_dialog.dialog_system.database.Database at 0x205133656c8>,\n",
       " 'prevact': 'begin@begin',\n",
       " 'inform_slots': {'actor': array([0.5092593 , 0.49074075], dtype=float32),\n",
       "  'critic_rating': array([0.10798122, 0.07511737, 0.08450704, 0.16431925, 0.11267605,\n",
       "         0.09859155, 0.08920188, 0.09859155, 0.08450704, 0.08450704],\n",
       "        dtype=float32),\n",
       "  'genre': array([0.09345794, 0.08878504, 0.08878504, 0.08411215, 0.07009346,\n",
       "         0.06542056, 0.03738318, 0.07943925, 0.06074766, 0.07009346,\n",
       "         0.06542056, 0.08411215, 0.11214953], dtype=float32),\n",
       "  'mpaa_rating': array([0.34545454, 0.3272727 , 0.3272727 ], dtype=float32),\n",
       "  'director': array([0.26339287, 0.26339287, 0.20089285, 0.27232143], dtype=float32),\n",
       "  'release_year': array([0.06086956, 0.07391305, 0.07391305, 0.06956521, 0.06086956,\n",
       "         0.08260869, 0.03478261, 0.04347826, 0.07391305, 0.07826087,\n",
       "         0.04347826, 0.06956521, 0.03043478, 0.06086956, 0.07826087,\n",
       "         0.06521739], dtype=float32)},\n",
       " 'turn': 0,\n",
       " 'init_entropy': {'actor': 0.9997526100334744,\n",
       "  'critic_rating': 3.2841470133855744,\n",
       "  'genre': 3.660058353210298,\n",
       "  'mpaa_rating': 1.5844883898180346,\n",
       "  'director': 1.9901216765729273,\n",
       "  'release_year': 3.9503124872328668},\n",
       " 'num_requests': {'actor': 0,\n",
       "  'critic_rating': 0,\n",
       "  'genre': 0,\n",
       "  'mpaa_rating': 0,\n",
       "  'director': 0,\n",
       "  'release_year': 0},\n",
       " 'slot_tracker': set(),\n",
       " 'dont_care': set()}"
      ]
     },
     "execution_count": 30,
     "metadata": {},
     "output_type": "execute_result"
    }
   ],
   "source": [
    "agent.initialize_episode()\n",
    "agent.state"
   ]
  },
  {
   "cell_type": "code",
   "execution_count": 31,
   "metadata": {},
   "outputs": [
    {
     "name": "stdout",
     "output_type": "stream",
     "text": [
      "У искомой сущности есть слоты (в неполной БД) ['mpaa_rating', 'director', 'release_year']\n",
      "Пользователь уже назвал (?): {'mpaa_rating': 'r'}\n"
     ]
    },
    {
     "data": {
      "text/plain": [
       "{'diaact': 'request',\n",
       " 'turn': 0,\n",
       " 'inform_slots': {'mpaa_rating': 'r'},\n",
       " 'request_slots': {'movie': 'UNK'},\n",
       " 'prev_diaact': 'UNK',\n",
       " 'inform_slots_noisy': {'mpaa_rating': 'r'},\n",
       " 'nl_sentence': 'Search for the movie which had r as mpaa_rating.',\n",
       " 'episode_over': False,\n",
       " 'reward': 0}"
      ]
     },
     "execution_count": 31,
     "metadata": {},
     "output_type": "execute_result"
    }
   ],
   "source": [
    "ua = user_sim.initialize_episode()\n",
    "ua "
   ]
  },
  {
   "cell_type": "code",
   "execution_count": 32,
   "metadata": {
    "scrolled": true
   },
   "outputs": [
    {
     "name": "stdout",
     "output_type": "stream",
     "text": [
      "Agent updating state:  begin begin\n",
      "Detected r  update =  1.0\n",
      "Agent DB entropy =  7.077697\n",
      "Agent slot belief entropies - \n",
      "actor:1.00 critic_rating:3.24 genre:3.65 mpaa_rating:0.79 director:1.99 release_year:3.93\n"
     ]
    },
    {
     "data": {
      "text/plain": [
       "{'database': <deep_dialog.dialog_system.database.Database at 0x205133656c8>,\n",
       " 'prevact': 'request@release_year',\n",
       " 'inform_slots': {'actor': array([0.5092593 , 0.49074075], dtype=float32),\n",
       "  'critic_rating': array([0.10798122, 0.07511737, 0.08450704, 0.16431925, 0.11267605,\n",
       "         0.09859155, 0.08920188, 0.09859155, 0.08450704, 0.08450704],\n",
       "        dtype=float32),\n",
       "  'genre': array([0.09345794, 0.08878504, 0.08878504, 0.08411215, 0.07009346,\n",
       "         0.06542056, 0.03738318, 0.07943925, 0.06074766, 0.07009346,\n",
       "         0.06542056, 0.08411215, 0.11214953], dtype=float32),\n",
       "  'mpaa_rating': array([20.345455 ,  0.3272727,  0.3272727], dtype=float32),\n",
       "  'director': array([0.26339287, 0.26339287, 0.20089285, 0.27232143], dtype=float32),\n",
       "  'release_year': array([0.06086956, 0.07391305, 0.07391305, 0.06956521, 0.06086956,\n",
       "         0.08260869, 0.03478261, 0.04347826, 0.07391305, 0.07826087,\n",
       "         0.04347826, 0.06956521, 0.03043478, 0.06086956, 0.07826087,\n",
       "         0.06521739], dtype=float32)},\n",
       " 'turn': 1,\n",
       " 'init_entropy': {'actor': 0.9997526100334744,\n",
       "  'critic_rating': 3.2841470133855744,\n",
       "  'genre': 3.660058353210298,\n",
       "  'mpaa_rating': 1.5844883898180346,\n",
       "  'director': 1.9901216765729273,\n",
       "  'release_year': 3.9503124872328668},\n",
       " 'num_requests': {'actor': 0,\n",
       "  'critic_rating': 0,\n",
       "  'genre': 0,\n",
       "  'mpaa_rating': 0,\n",
       "  'director': 0,\n",
       "  'release_year': 1},\n",
       " 'slot_tracker': {'mpaa_rating'},\n",
       " 'dont_care': set()}"
      ]
     },
     "execution_count": 32,
     "metadata": {},
     "output_type": "execute_result"
    }
   ],
   "source": [
    "nxt = agent.next(ua, verbose=True)\n",
    "agent.state"
   ]
  },
  {
   "cell_type": "code",
   "execution_count": 33,
   "metadata": {
    "scrolled": true
   },
   "outputs": [
    {
     "data": {
      "text/plain": [
       "{'diaact': 'request',\n",
       " 'request_slots': {'release_year': 'UNK'},\n",
       " 'target': [],\n",
       " 'probs': [array([0.50925928, 0.49074075, 0.22021661]),\n",
       "  array([0.10798122, 0.07511737, 0.08450704, 0.16431925, 0.11267605,\n",
       "         0.09859155, 0.08920188, 0.09859155, 0.08450704, 0.08450704,\n",
       "         0.23104693]),\n",
       "  array([0.09345794, 0.08878504, 0.08878504, 0.08411215, 0.07009346,\n",
       "         0.06542056, 0.03738318, 0.07943925, 0.06074766, 0.07009346,\n",
       "         0.06542056, 0.08411215, 0.11214953, 0.22743682]),\n",
       "  array([0.96883118, 0.01558441, 0.01558441, 0.20577617]),\n",
       "  array([0.26339287, 0.26339287, 0.20089285, 0.27232143, 0.19133574]),\n",
       "  array([0.06086956, 0.07391305, 0.07391305, 0.06956521, 0.06086956,\n",
       "         0.08260869, 0.03478261, 0.04347826, 0.07391305, 0.07826087,\n",
       "         0.04347826, 0.06956521, 0.03043478, 0.06086956, 0.07826087,\n",
       "         0.06521739, 0.16967509])],\n",
       " 'phis': [0.0, 0.0, 0.0, 0.0, 0.0, 0.0],\n",
       " 'posterior': array([0.0036101 , 0.00017191, 0.00017191, 0.00017191, 0.00017191,\n",
       "        0.0036101 , 0.00017191, 0.00017191, 0.0036101 , 0.00017191,\n",
       "        0.00017191, 0.01012459, 0.00017191, 0.00017191, 0.00017191,\n",
       "        0.00017191, 0.00017191, 0.00017191, 0.01012459, 0.00017191,\n",
       "        0.00017191, 0.0036101 , 0.00017191, 0.01012459, 0.0036101 ,\n",
       "        0.0036101 , 0.01012459, 0.00017191, 0.01012459, 0.0036101 ,\n",
       "        0.0036101 , 0.00017191, 0.00017191, 0.01012459, 0.0036101 ,\n",
       "        0.00017191, 0.01012459, 0.00017191, 0.01012459, 0.0036101 ,\n",
       "        0.00017191, 0.0036101 , 0.00017191, 0.01012459, 0.0036101 ,\n",
       "        0.00017191, 0.00017191, 0.00017191, 0.0036101 , 0.00017191,\n",
       "        0.0036101 , 0.00017191, 0.0036101 , 0.01012459, 0.00017191,\n",
       "        0.00017191, 0.00017191, 0.00017191, 0.01012459, 0.01012459,\n",
       "        0.00017191, 0.0036101 , 0.0036101 , 0.0036101 , 0.00017191,\n",
       "        0.01012459, 0.0036101 , 0.0036101 , 0.00017191, 0.00017191,\n",
       "        0.01012459, 0.0036101 , 0.00017191, 0.01012459, 0.01012459,\n",
       "        0.00017191, 0.00017191, 0.00017191, 0.01012459, 0.00017191,\n",
       "        0.00017191, 0.00017191, 0.00017191, 0.01012459, 0.00017191,\n",
       "        0.00017191, 0.01012459, 0.0036101 , 0.0036101 , 0.00017191,\n",
       "        0.00017191, 0.00017191, 0.00017191, 0.01012459, 0.0036101 ,\n",
       "        0.00017191, 0.00017191, 0.00017191, 0.01012459, 0.01012459,\n",
       "        0.0036101 , 0.01012459, 0.00017191, 0.00017191, 0.01012459,\n",
       "        0.0036101 , 0.0036101 , 0.01012459, 0.00017191, 0.01012459,\n",
       "        0.01012459, 0.0036101 , 0.00017191, 0.00017191, 0.00017191,\n",
       "        0.01012459, 0.01012459, 0.00017191, 0.01012459, 0.00017191,\n",
       "        0.01012459, 0.00017191, 0.0036101 , 0.0036101 , 0.00017191,\n",
       "        0.01012459, 0.00017191, 0.0036101 , 0.01012459, 0.00017191,\n",
       "        0.01012459, 0.00017191, 0.00017191, 0.01012459, 0.00017191,\n",
       "        0.01012459, 0.00017191, 0.01012459, 0.00017191, 0.00017191,\n",
       "        0.00017191, 0.00017191, 0.00017191, 0.00017191, 0.01012459,\n",
       "        0.01012459, 0.00017191, 0.0036101 , 0.01012459, 0.00017191,\n",
       "        0.00017191, 0.00017191, 0.00017191, 0.00017191, 0.00017191,\n",
       "        0.01012459, 0.00017191, 0.00017191, 0.00017191, 0.01012459,\n",
       "        0.01012459, 0.0036101 , 0.01012459, 0.01012459, 0.00017191,\n",
       "        0.00017191, 0.01012459, 0.00017191, 0.00017191, 0.00017191,\n",
       "        0.00017191, 0.00017191, 0.00017191, 0.00017191, 0.00017191,\n",
       "        0.01012459, 0.01012459, 0.01012459, 0.00017191, 0.00017191,\n",
       "        0.01012459, 0.01012459, 0.00017191, 0.0036101 , 0.0036101 ,\n",
       "        0.00017191, 0.01012459, 0.01012459, 0.00017191, 0.00017191,\n",
       "        0.0036101 , 0.01012459, 0.00017191, 0.00017191, 0.00017191,\n",
       "        0.00017191, 0.00017191, 0.01012459, 0.00017191, 0.0036101 ,\n",
       "        0.00017191, 0.0036101 , 0.0036101 , 0.0036101 , 0.00017191,\n",
       "        0.00017191, 0.0036101 , 0.01012459, 0.00017191, 0.01012459,\n",
       "        0.0036101 , 0.01012459, 0.0036101 , 0.00017191, 0.00017191,\n",
       "        0.00017191, 0.0036101 , 0.00017191, 0.0036101 , 0.00017191,\n",
       "        0.00017191, 0.00017191, 0.01012459, 0.0036101 , 0.0036101 ,\n",
       "        0.01012459, 0.01012459, 0.00017191, 0.01012459, 0.0036101 ,\n",
       "        0.00017191, 0.01012459, 0.01012459, 0.00017191, 0.0036101 ,\n",
       "        0.01012459, 0.01012459, 0.00017191, 0.0036101 , 0.0036101 ,\n",
       "        0.01012459, 0.00017191, 0.00017191, 0.00017191, 0.00017191,\n",
       "        0.00017191, 0.00017191, 0.0036101 , 0.01012459, 0.01012459,\n",
       "        0.00017191, 0.01012459, 0.01012459, 0.00017191, 0.00017191,\n",
       "        0.01012459, 0.00017191, 0.00017191, 0.00017191, 0.00017191,\n",
       "        0.00017191, 0.0036101 , 0.01012459, 0.0036101 , 0.01012459,\n",
       "        0.00017191, 0.01012459, 0.0036101 , 0.01012459, 0.00017191,\n",
       "        0.00017191, 0.00017191, 0.00017191, 0.0036101 , 0.0036101 ,\n",
       "        0.00017191, 0.00017191], dtype=float32)}"
      ]
     },
     "execution_count": 33,
     "metadata": {},
     "output_type": "execute_result"
    }
   ],
   "source": [
    "nxt"
   ]
  },
  {
   "cell_type": "code",
   "execution_count": 34,
   "metadata": {},
   "outputs": [],
   "source": [
    "ua, episode_over, reward = user_sim.next(nxt)"
   ]
  },
  {
   "cell_type": "code",
   "execution_count": 35,
   "metadata": {},
   "outputs": [
    {
     "data": {
      "text/plain": [
       "{'diaact': 'inform',\n",
       " 'turn': 1,\n",
       " 'inform_slots': {'release_year': '2013'},\n",
       " 'request_slots': {},\n",
       " 'prev_diaact': 'request',\n",
       " 'inform_slots_noisy': {'release_year': '2011'},\n",
       " 'nl_sentence': 'It is 2011.',\n",
       " 'episode_over': False,\n",
       " 'reward': -0.1}"
      ]
     },
     "execution_count": 35,
     "metadata": {},
     "output_type": "execute_result"
    }
   ],
   "source": [
    "ua"
   ]
  },
  {
   "cell_type": "code",
   "execution_count": 36,
   "metadata": {
    "scrolled": true
   },
   "outputs": [
    {
     "name": "stdout",
     "output_type": "stream",
     "text": [
      "Agent updating state:  request release_year\n",
      "Detected 2011  update =  1.0\n",
      "Agent DB entropy =  4.264997\n",
      "Agent slot belief entropies - \n",
      "actor:0.97 critic_rating:3.00 genre:3.48 mpaa_rating:0.71 director:1.89 release_year:1.72\n"
     ]
    },
    {
     "data": {
      "text/plain": [
       "{'database': <deep_dialog.dialog_system.database.Database at 0x205133656c8>,\n",
       " 'prevact': 'request@genre',\n",
       " 'inform_slots': {'actor': array([0.5092593 , 0.49074075], dtype=float32),\n",
       "  'critic_rating': array([0.10798122, 0.07511737, 0.08450704, 0.16431925, 0.11267605,\n",
       "         0.09859155, 0.08920188, 0.09859155, 0.08450704, 0.08450704],\n",
       "        dtype=float32),\n",
       "  'genre': array([0.09345794, 0.08878504, 0.08878504, 0.08411215, 0.07009346,\n",
       "         0.06542056, 0.03738318, 0.07943925, 0.06074766, 0.07009346,\n",
       "         0.06542056, 0.08411215, 0.11214953], dtype=float32),\n",
       "  'mpaa_rating': array([20.345455 ,  0.3272727,  0.3272727], dtype=float32),\n",
       "  'director': array([0.26339287, 0.26339287, 0.20089285, 0.27232143], dtype=float32),\n",
       "  'release_year': array([ 0.06086956,  0.07391305,  0.07391305,  0.06956521,  0.06086956,\n",
       "          0.08260869,  0.03478261,  0.04347826,  0.07391305,  0.07826087,\n",
       "          0.04347826, 20.069565  ,  0.03043478,  0.06086956,  0.07826087,\n",
       "          0.06521739], dtype=float32)},\n",
       " 'turn': 2,\n",
       " 'init_entropy': {'actor': 0.9997526100334744,\n",
       "  'critic_rating': 3.2841470133855744,\n",
       "  'genre': 3.660058353210298,\n",
       "  'mpaa_rating': 1.5844883898180346,\n",
       "  'director': 1.9901216765729273,\n",
       "  'release_year': 3.9503124872328668},\n",
       " 'num_requests': {'actor': 0,\n",
       "  'critic_rating': 0,\n",
       "  'genre': 1,\n",
       "  'mpaa_rating': 0,\n",
       "  'director': 0,\n",
       "  'release_year': 1},\n",
       " 'slot_tracker': {'mpaa_rating', 'release_year'},\n",
       " 'dont_care': set()}"
      ]
     },
     "execution_count": 36,
     "metadata": {},
     "output_type": "execute_result"
    }
   ],
   "source": [
    "nxt = agent.next(ua, verbose=True)\n",
    "agent.state"
   ]
  },
  {
   "cell_type": "code",
   "execution_count": 37,
   "metadata": {
    "scrolled": true
   },
   "outputs": [
    {
     "data": {
      "text/plain": [
       "{'diaact': 'request',\n",
       " 'request_slots': {'genre': 'UNK'},\n",
       " 'target': [],\n",
       " 'probs': [array([0.50925928, 0.49074075, 0.22021661]),\n",
       "  array([0.10798122, 0.07511737, 0.08450704, 0.16431925, 0.11267605,\n",
       "         0.09859155, 0.08920188, 0.09859155, 0.08450704, 0.08450704,\n",
       "         0.23104693]),\n",
       "  array([0.09345794, 0.08878504, 0.08878504, 0.08411215, 0.07009346,\n",
       "         0.06542056, 0.03738318, 0.07943925, 0.06074766, 0.07009346,\n",
       "         0.06542056, 0.08411215, 0.11214953, 0.22743682]),\n",
       "  array([0.96883118, 0.01558441, 0.01558441, 0.20577617]),\n",
       "  array([0.26339287, 0.26339287, 0.20089285, 0.27232143, 0.19133574]),\n",
       "  array([0.00289855, 0.00351967, 0.00351967, 0.00331263, 0.00289855,\n",
       "         0.00393375, 0.00165631, 0.00207039, 0.00351967, 0.00372671,\n",
       "         0.00207039, 0.95569354, 0.00144928, 0.00289855, 0.00372671,\n",
       "         0.00310559, 0.16967509])],\n",
       " 'phis': [0.0, 0.0, 0.0, 0.0, 0.0, 0.0],\n",
       " 'posterior': array([1.8884170e-04, 8.9924724e-06, 8.9924724e-06, 8.9924724e-06,\n",
       "        8.9924724e-06, 1.8884170e-04, 8.9924724e-06, 8.9924724e-06,\n",
       "        1.8884170e-04, 2.5943299e-03, 8.9924724e-06, 5.2960753e-04,\n",
       "        8.9924724e-06, 8.9924724e-06, 8.9924724e-06, 8.9924724e-06,\n",
       "        8.9924724e-06, 8.9924724e-06, 5.2960753e-04, 8.9924724e-06,\n",
       "        8.9924724e-06, 1.8884170e-04, 8.9924724e-06, 5.2960753e-04,\n",
       "        1.8884170e-04, 1.8884170e-04, 5.2960753e-04, 2.5943299e-03,\n",
       "        5.2960753e-04, 3.9656716e-03, 1.8884170e-04, 8.9924724e-06,\n",
       "        8.9924724e-06, 1.1121789e-02, 1.8884170e-04, 8.9924724e-06,\n",
       "        5.2960753e-04, 8.9924724e-06, 5.2960753e-04, 1.8884170e-04,\n",
       "        1.8884170e-04, 5.4480765e-02, 8.9924724e-06, 5.2960753e-04,\n",
       "        1.8884170e-04, 8.9924724e-06, 8.9924724e-06, 8.9924724e-06,\n",
       "        3.9656716e-03, 1.8884170e-04, 1.8884170e-04, 8.9924724e-06,\n",
       "        1.8884170e-04, 1.1121789e-02, 8.9924724e-06, 8.9924724e-06,\n",
       "        8.9924724e-06, 1.8884170e-04, 1.1121789e-02, 1.1121789e-02,\n",
       "        8.9924724e-06, 3.9656716e-03, 3.9656716e-03, 1.8884170e-04,\n",
       "        8.9924724e-06, 5.2960753e-04, 3.9656716e-03, 1.8884170e-04,\n",
       "        2.5943299e-03, 8.9924724e-06, 5.2960753e-04, 1.8884170e-04,\n",
       "        8.9924724e-06, 5.2960753e-04, 5.2960753e-04, 8.9924724e-06,\n",
       "        8.9924724e-06, 8.9924724e-06, 5.2960753e-04, 8.9924724e-06,\n",
       "        8.9924724e-06, 8.9924724e-06, 8.9924724e-06, 1.1121789e-02,\n",
       "        8.9924724e-06, 8.9924724e-06, 5.2960753e-04, 1.8884170e-04,\n",
       "        1.8884170e-04, 8.9924724e-06, 1.8884170e-04, 8.9924724e-06,\n",
       "        2.5943299e-03, 5.2960753e-04, 1.8884170e-04, 8.9924724e-06,\n",
       "        8.9924724e-06, 8.9924724e-06, 1.5279187e-01, 1.1121789e-02,\n",
       "        1.8884170e-04, 5.2960753e-04, 1.8884170e-04, 8.9924724e-06,\n",
       "        5.2960753e-04, 3.9656716e-03, 1.8884170e-04, 5.2960753e-04,\n",
       "        8.9924724e-06, 5.2960753e-04, 5.2960753e-04, 1.8884170e-04,\n",
       "        8.9924724e-06, 8.9924724e-06, 8.9924724e-06, 5.2960753e-04,\n",
       "        5.2960753e-04, 8.9924724e-06, 5.2960753e-04, 8.9924724e-06,\n",
       "        5.2960753e-04, 8.9924724e-06, 1.8884170e-04, 1.8884170e-04,\n",
       "        8.9924724e-06, 5.2960753e-04, 1.8884170e-04, 1.8884170e-04,\n",
       "        5.2960753e-04, 1.8884170e-04, 5.2960753e-04, 1.8884170e-04,\n",
       "        8.9924724e-06, 5.2960753e-04, 1.8884170e-04, 1.1121789e-02,\n",
       "        8.9924724e-06, 5.2960753e-04, 1.8884170e-04, 8.9924724e-06,\n",
       "        8.9924724e-06, 8.9924724e-06, 8.9924724e-06, 8.9924724e-06,\n",
       "        5.2960753e-04, 5.2960753e-04, 8.9924724e-06, 1.8884170e-04,\n",
       "        1.1121789e-02, 8.9924724e-06, 1.8884170e-04, 8.9924724e-06,\n",
       "        8.9924724e-06, 8.9924724e-06, 1.8884170e-04, 1.1121789e-02,\n",
       "        8.9924724e-06, 8.9924724e-06, 8.9924724e-06, 5.2960753e-04,\n",
       "        5.2960753e-04, 1.8884170e-04, 5.2960753e-04, 1.5279187e-01,\n",
       "        8.9924724e-06, 8.9924724e-06, 5.2960753e-04, 8.9924724e-06,\n",
       "        2.5943299e-03, 2.5943299e-03, 8.9924724e-06, 8.9924724e-06,\n",
       "        2.5943299e-03, 8.9924724e-06, 8.9924724e-06, 5.2960753e-04,\n",
       "        5.2960753e-04, 5.2960753e-04, 8.9924724e-06, 8.9924724e-06,\n",
       "        5.2960753e-04, 5.2960753e-04, 8.9924724e-06, 3.9656716e-03,\n",
       "        1.8884170e-04, 8.9924724e-06, 1.5279187e-01, 5.2960753e-04,\n",
       "        1.8884170e-04, 8.9924724e-06, 3.9656716e-03, 1.1121789e-02,\n",
       "        8.9924724e-06, 1.8884170e-04, 8.9924724e-06, 8.9924724e-06,\n",
       "        2.5943299e-03, 5.2960753e-04, 8.9924724e-06, 1.8884170e-04,\n",
       "        8.9924724e-06, 3.9656716e-03, 1.8884170e-04, 1.8884170e-04,\n",
       "        8.9924724e-06, 8.9924724e-06, 1.8884170e-04, 5.2960753e-04,\n",
       "        1.8884170e-04, 5.2960753e-04, 1.8884170e-04, 5.2960753e-04,\n",
       "        1.8884170e-04, 1.8884170e-04, 8.9924724e-06, 8.9924724e-06,\n",
       "        3.9656716e-03, 8.9924724e-06, 1.8884170e-04, 8.9924724e-06,\n",
       "        8.9924724e-06, 8.9924724e-06, 5.2960753e-04, 1.8884170e-04,\n",
       "        1.8884170e-04, 5.2960753e-04, 5.2960753e-04, 8.9924724e-06,\n",
       "        5.2960753e-04, 1.8884170e-04, 8.9924724e-06, 1.1121789e-02,\n",
       "        1.1121789e-02, 8.9924724e-06, 3.9656716e-03, 5.2960753e-04,\n",
       "        5.2960753e-04, 2.5943299e-03, 1.8884170e-04, 1.8884170e-04,\n",
       "        5.2960753e-04, 2.5943299e-03, 8.9924724e-06, 8.9924724e-06,\n",
       "        8.9924724e-06, 8.9924724e-06, 8.9924724e-06, 1.8884170e-04,\n",
       "        5.2960753e-04, 5.2960753e-04, 1.8884170e-04, 1.1121789e-02,\n",
       "        1.5279187e-01, 1.8884170e-04, 8.9924724e-06, 1.1121789e-02,\n",
       "        8.9924724e-06, 1.8884170e-04, 8.9924724e-06, 8.9924724e-06,\n",
       "        8.9924724e-06, 1.8884170e-04, 5.2960753e-04, 1.8884170e-04,\n",
       "        1.1121789e-02, 8.9924724e-06, 5.2960753e-04, 1.8884170e-04,\n",
       "        5.2960753e-04, 1.8884170e-04, 8.9924724e-06, 8.9924724e-06,\n",
       "        8.9924724e-06, 5.4480765e-02, 1.8884170e-04, 8.9924724e-06,\n",
       "        1.8884170e-04], dtype=float32)}"
      ]
     },
     "execution_count": 37,
     "metadata": {},
     "output_type": "execute_result"
    }
   ],
   "source": [
    "nxt"
   ]
  },
  {
   "cell_type": "code",
   "execution_count": 38,
   "metadata": {},
   "outputs": [],
   "source": [
    "ua, episode_over, reward = user_sim.next(nxt)"
   ]
  },
  {
   "cell_type": "code",
   "execution_count": 39,
   "metadata": {},
   "outputs": [
    {
     "data": {
      "text/plain": [
       "{'diaact': 'inform',\n",
       " 'turn': 2,\n",
       " 'inform_slots': {'genre': None},\n",
       " 'request_slots': {},\n",
       " 'prev_diaact': 'inform',\n",
       " 'inform_slots_noisy': {'genre': None},\n",
       " 'nl_sentence': 'I dont know',\n",
       " 'episode_over': False,\n",
       " 'reward': -0.1}"
      ]
     },
     "execution_count": 39,
     "metadata": {},
     "output_type": "execute_result"
    }
   ],
   "source": [
    "ua"
   ]
  },
  {
   "cell_type": "code",
   "execution_count": 26,
   "metadata": {
    "scrolled": true
   },
   "outputs": [
    {
     "name": "stdout",
     "output_type": "stream",
     "text": [
      "Agent updating state:  request genre\n",
      "Removing slot genre from db!\n",
      "Agent DB entropy =  4.6841717\n",
      "Agent slot belief entropies - \n",
      "actor:1.00 critic_rating:2.34 genre:0.00 mpaa_rating:0.94 director:1.35 release_year:0.00\n"
     ]
    },
    {
     "data": {
      "text/plain": [
       "{'database': <deep_dialog.dialog_system.database.Database at 0x20513352c08>,\n",
       " 'prevact': 'request@critic_rating',\n",
       " 'inform_slots': {'actor': array([0.5092593 , 0.49074075], dtype=float32),\n",
       "  'critic_rating': array([ 0.10798122,  0.07511737,  0.08450704, 20.16432   ,  0.11267605,\n",
       "         15.098592  ,  0.08920188,  0.09859155,  0.08450704,  0.08450704],\n",
       "        dtype=float32),\n",
       "  'genre': array([0.09345794, 0.08878504, 0.08878504, 0.08411215, 0.07009346,\n",
       "         0.06542056, 0.03738318, 0.07943925, 0.06074766, 0.07009346,\n",
       "         0.06542056, 0.08411215, 0.11214953], dtype=float32),\n",
       "  'mpaa_rating': array([ 0.34545454,  0.3272727 , 20.327272  ], dtype=float32),\n",
       "  'director': array([15.263392  ,  0.26339287,  0.20089285,  0.27232143], dtype=float32),\n",
       "  'release_year': array([0.06086956, 0.07391305, 0.07391305, 0.06956521, 0.06086956,\n",
       "         0.08260869, 0.03478261, 0.04347826, 0.07391305, 0.07826087,\n",
       "         0.04347826, 0.06956521, 0.03043478, 0.06086956, 0.07826087,\n",
       "         0.06521739], dtype=float32)},\n",
       " 'turn': 3,\n",
       " 'init_entropy': {'actor': 0.9997526100334744,\n",
       "  'critic_rating': 3.2841470133855744,\n",
       "  'genre': 3.660058353210298,\n",
       "  'mpaa_rating': 1.5844883898180346,\n",
       "  'director': 1.9901216765729273,\n",
       "  'release_year': 3.9503124872328668},\n",
       " 'num_requests': {'actor': 0,\n",
       "  'critic_rating': 1,\n",
       "  'genre': 1000,\n",
       "  'mpaa_rating': 0,\n",
       "  'director': 0,\n",
       "  'release_year': 1000},\n",
       " 'slot_tracker': {'critic_rating', 'director', 'mpaa_rating'},\n",
       " 'dont_care': {'genre', 'release_year'}}"
      ]
     },
     "execution_count": 26,
     "metadata": {},
     "output_type": "execute_result"
    }
   ],
   "source": [
    "nxt = agent.next(ua, verbose=True)\n",
    "agent.state"
   ]
  },
  {
   "cell_type": "code",
   "execution_count": 27,
   "metadata": {},
   "outputs": [],
   "source": [
    "ua, episode_over, reward = user_sim.next(nxt)"
   ]
  },
  {
   "cell_type": "code",
   "execution_count": 28,
   "metadata": {},
   "outputs": [
    {
     "data": {
      "text/plain": [
       "{'diaact': 'inform',\n",
       " 'turn': 3,\n",
       " 'inform_slots': {'critic_rating': 'top'},\n",
       " 'request_slots': {},\n",
       " 'prev_diaact': 'inform',\n",
       " 'inform_slots_noisy': {'critic_rating': 'top'},\n",
       " 'nl_sentence': 'top critic_rating',\n",
       " 'episode_over': False,\n",
       " 'reward': -0.1}"
      ]
     },
     "execution_count": 28,
     "metadata": {},
     "output_type": "execute_result"
    }
   ],
   "source": [
    "ua"
   ]
  },
  {
   "cell_type": "code",
   "execution_count": 29,
   "metadata": {},
   "outputs": [
    {
     "name": "stdout",
     "output_type": "stream",
     "text": [
      "Agent updating state:  request critic_rating\n",
      "Detected top  update =  1.0\n",
      "Detected top rated  update =  0.5\n",
      "Agent DB entropy =  4.578177\n",
      "Agent slot belief entropies - \n",
      "actor:1.00 critic_rating:2.29 genre:0.00 mpaa_rating:0.94 director:1.35 release_year:0.00\n"
     ]
    },
    {
     "data": {
      "text/plain": [
       "{'database': <deep_dialog.dialog_system.database.Database at 0x20513352c08>,\n",
       " 'prevact': 'request@director',\n",
       " 'inform_slots': {'actor': array([0.5092593 , 0.49074075], dtype=float32),\n",
       "  'critic_rating': array([ 0.10798122,  0.07511737,  0.08450704, 50.16432   ,  0.11267605,\n",
       "         40.09859   ,  0.08920188,  0.09859155,  0.08450704,  0.08450704],\n",
       "        dtype=float32),\n",
       "  'genre': array([0.09345794, 0.08878504, 0.08878504, 0.08411215, 0.07009346,\n",
       "         0.06542056, 0.03738318, 0.07943925, 0.06074766, 0.07009346,\n",
       "         0.06542056, 0.08411215, 0.11214953], dtype=float32),\n",
       "  'mpaa_rating': array([ 0.34545454,  0.3272727 , 20.327272  ], dtype=float32),\n",
       "  'director': array([15.263392  ,  0.26339287,  0.20089285,  0.27232143], dtype=float32),\n",
       "  'release_year': array([0.06086956, 0.07391305, 0.07391305, 0.06956521, 0.06086956,\n",
       "         0.08260869, 0.03478261, 0.04347826, 0.07391305, 0.07826087,\n",
       "         0.04347826, 0.06956521, 0.03043478, 0.06086956, 0.07826087,\n",
       "         0.06521739], dtype=float32)},\n",
       " 'turn': 4,\n",
       " 'init_entropy': {'actor': 0.9997526100334744,\n",
       "  'critic_rating': 3.2841470133855744,\n",
       "  'genre': 3.660058353210298,\n",
       "  'mpaa_rating': 1.5844883898180346,\n",
       "  'director': 1.9901216765729273,\n",
       "  'release_year': 3.9503124872328668},\n",
       " 'num_requests': {'actor': 0,\n",
       "  'critic_rating': 1,\n",
       "  'genre': 1000,\n",
       "  'mpaa_rating': 0,\n",
       "  'director': 1,\n",
       "  'release_year': 1000},\n",
       " 'slot_tracker': {'critic_rating', 'director', 'mpaa_rating'},\n",
       " 'dont_care': {'genre', 'release_year'}}"
      ]
     },
     "execution_count": 29,
     "metadata": {},
     "output_type": "execute_result"
    }
   ],
   "source": [
    "nxt = agent.next(ua, verbose=True)\n",
    "agent.state"
   ]
  },
  {
   "cell_type": "code",
   "execution_count": 33,
   "metadata": {
    "scrolled": true
   },
   "outputs": [],
   "source": [
    "ua, episode_over, reward = user_sim.next(nxt)"
   ]
  },
  {
   "cell_type": "code",
   "execution_count": 34,
   "metadata": {},
   "outputs": [
    {
     "data": {
      "text/plain": [
       "{'diaact': 'inform',\n",
       " 'turn': 4,\n",
       " 'inform_slots': {'director': 'christopher nolan'},\n",
       " 'request_slots': {},\n",
       " 'prev_diaact': 'inform',\n",
       " 'inform_slots_noisy': {'director': 'christopher nolan'},\n",
       " 'nl_sentence': 'christopher nolan',\n",
       " 'episode_over': False,\n",
       " 'reward': -0.1}"
      ]
     },
     "execution_count": 34,
     "metadata": {},
     "output_type": "execute_result"
    }
   ],
   "source": [
    "ua"
   ]
  },
  {
   "cell_type": "code",
   "execution_count": 35,
   "metadata": {
    "scrolled": true
   },
   "outputs": [
    {
     "name": "stdout",
     "output_type": "stream",
     "text": [
      "Agent updating state:  request director\n",
      "Detected christopher nolan  update =  1.0\n",
      "Agent DB entropy =  3.8786604\n",
      "Agent slot belief entropies - \n",
      "actor:0.86 critic_rating:0.00 genre:0.00 mpaa_rating:1.06 director:1.72 release_year:2.74\n"
     ]
    },
    {
     "data": {
      "text/plain": [
       "{'database': <deep_dialog.dialog_system.database.Database at 0x1fdc42acc48>,\n",
       " 'prevact': 'request@mpaa_rating',\n",
       " 'inform_slots': {'actor': array([15.509259  ,  0.49074075], dtype=float32),\n",
       "  'critic_rating': array([0.10798122, 0.07511737, 0.08450704, 0.16431925, 0.11267605,\n",
       "         0.09859155, 0.08920188, 0.09859155, 0.08450704, 0.08450704],\n",
       "        dtype=float32),\n",
       "  'genre': array([0.09345794, 0.08878504, 0.08878504, 0.08411215, 0.07009346,\n",
       "         0.06542056, 0.03738318, 0.07943925, 0.06074766, 0.07009346,\n",
       "         0.06542056, 0.08411215, 0.11214953], dtype=float32),\n",
       "  'mpaa_rating': array([0.34545454, 0.3272727 , 0.3272727 ], dtype=float32),\n",
       "  'director': array([ 0.26339287, 35.263393  ,  0.20089285,  0.27232143], dtype=float32),\n",
       "  'release_year': array([ 0.06086956,  0.07391305,  0.07391305,  0.06956521,  0.06086956,\n",
       "          0.08260869,  0.03478261,  0.04347826,  0.07391305,  0.07826087,\n",
       "          0.04347826,  0.06956521, 20.030436  ,  0.06086956,  0.07826087,\n",
       "          0.06521739], dtype=float32)},\n",
       " 'turn': 5,\n",
       " 'init_entropy': {'actor': 0.9997526100334744,\n",
       "  'critic_rating': 3.2841470133855744,\n",
       "  'genre': 3.660058353210298,\n",
       "  'mpaa_rating': 1.5844883898180346,\n",
       "  'director': 1.9901216765729273,\n",
       "  'release_year': 3.9503124872328668},\n",
       " 'num_requests': {'actor': 0,\n",
       "  'critic_rating': 1000,\n",
       "  'genre': 1000,\n",
       "  'mpaa_rating': 1,\n",
       "  'director': 1,\n",
       "  'release_year': 1},\n",
       " 'slot_tracker': {'actor', 'director', 'release_year'},\n",
       " 'dont_care': {'critic_rating', 'genre'}}"
      ]
     },
     "execution_count": 35,
     "metadata": {},
     "output_type": "execute_result"
    }
   ],
   "source": [
    "nxt = agent.next(ua, verbose=True)\n",
    "agent.state"
   ]
  },
  {
   "cell_type": "code",
   "execution_count": 36,
   "metadata": {},
   "outputs": [],
   "source": [
    "ua, episode_over, reward = user_sim.next(nxt)"
   ]
  },
  {
   "cell_type": "code",
   "execution_count": 37,
   "metadata": {},
   "outputs": [
    {
     "data": {
      "text/plain": [
       "{'diaact': 'inform',\n",
       " 'turn': 5,\n",
       " 'inform_slots': {'mpaa_rating': None},\n",
       " 'request_slots': {},\n",
       " 'prev_diaact': 'inform',\n",
       " 'inform_slots_noisy': {'mpaa_rating': None},\n",
       " 'nl_sentence': 'I dont know',\n",
       " 'episode_over': False,\n",
       " 'reward': -0.1}"
      ]
     },
     "execution_count": 37,
     "metadata": {},
     "output_type": "execute_result"
    }
   ],
   "source": [
    "ua"
   ]
  },
  {
   "cell_type": "code",
   "execution_count": 40,
   "metadata": {
    "scrolled": true
   },
   "outputs": [
    {
     "name": "stdout",
     "output_type": "stream",
     "text": [
      "Agent updating state:  request mpaa_rating\n",
      "Removing slot mpaa_rating from db!\n",
      "Agent DB entropy =  3.8786607\n",
      "Agent slot belief entropies - \n",
      "actor:0.86 critic_rating:0.00 genre:0.00 mpaa_rating:0.00 director:1.72 release_year:2.74\n",
      "Agent confident about all slots, inform\n"
     ]
    },
    {
     "data": {
      "text/plain": [
       "{'database': <deep_dialog.dialog_system.database.Database at 0x1fdc42acc48>,\n",
       " 'prevact': 'inform@inform',\n",
       " 'inform_slots': {'actor': array([15.509259  ,  0.49074075], dtype=float32),\n",
       "  'critic_rating': array([0.10798122, 0.07511737, 0.08450704, 0.16431925, 0.11267605,\n",
       "         0.09859155, 0.08920188, 0.09859155, 0.08450704, 0.08450704],\n",
       "        dtype=float32),\n",
       "  'genre': array([0.09345794, 0.08878504, 0.08878504, 0.08411215, 0.07009346,\n",
       "         0.06542056, 0.03738318, 0.07943925, 0.06074766, 0.07009346,\n",
       "         0.06542056, 0.08411215, 0.11214953], dtype=float32),\n",
       "  'mpaa_rating': array([0.34545454, 0.3272727 , 0.3272727 ], dtype=float32),\n",
       "  'director': array([ 0.26339287, 35.263393  ,  0.20089285,  0.27232143], dtype=float32),\n",
       "  'release_year': array([ 0.06086956,  0.07391305,  0.07391305,  0.06956521,  0.06086956,\n",
       "          0.08260869,  0.03478261,  0.04347826,  0.07391305,  0.07826087,\n",
       "          0.04347826,  0.06956521, 20.030436  ,  0.06086956,  0.07826087,\n",
       "          0.06521739], dtype=float32)},\n",
       " 'turn': 6,\n",
       " 'init_entropy': {'actor': 0.9997526100334744,\n",
       "  'critic_rating': 3.2841470133855744,\n",
       "  'genre': 3.660058353210298,\n",
       "  'mpaa_rating': 1.5844883898180346,\n",
       "  'director': 1.9901216765729273,\n",
       "  'release_year': 3.9503124872328668},\n",
       " 'num_requests': {'actor': 0,\n",
       "  'critic_rating': 1000,\n",
       "  'genre': 1000,\n",
       "  'mpaa_rating': 1000,\n",
       "  'director': 1,\n",
       "  'release_year': 1},\n",
       " 'slot_tracker': {'actor', 'director', 'release_year'},\n",
       " 'dont_care': {'critic_rating', 'genre', 'mpaa_rating'}}"
      ]
     },
     "execution_count": 40,
     "metadata": {},
     "output_type": "execute_result"
    }
   ],
   "source": [
    "nxt = agent.next(ua, verbose=True)\n",
    "agent.state"
   ]
  },
  {
   "cell_type": "code",
   "execution_count": 36,
   "metadata": {},
   "outputs": [],
   "source": [
    "ua, episode_over, reward = user_sim.next(nxt)"
   ]
  },
  {
   "cell_type": "code",
   "execution_count": 37,
   "metadata": {},
   "outputs": [
    {
     "data": {
      "text/plain": [
       "{'diaact': 'inform',\n",
       " 'turn': 5,\n",
       " 'inform_slots': {'mpaa_rating': None},\n",
       " 'request_slots': {},\n",
       " 'prev_diaact': 'inform',\n",
       " 'inform_slots_noisy': {'mpaa_rating': None},\n",
       " 'nl_sentence': 'I dont know',\n",
       " 'episode_over': False,\n",
       " 'reward': -0.1}"
      ]
     },
     "execution_count": 37,
     "metadata": {},
     "output_type": "execute_result"
    }
   ],
   "source": [
    "ua"
   ]
  },
  {
   "cell_type": "code",
   "execution_count": null,
   "metadata": {},
   "outputs": [],
   "source": []
  },
  {
   "cell_type": "code",
   "execution_count": null,
   "metadata": {},
   "outputs": [],
   "source": []
  },
  {
   "cell_type": "code",
   "execution_count": null,
   "metadata": {},
   "outputs": [],
   "source": []
  },
  {
   "cell_type": "code",
   "execution_count": null,
   "metadata": {},
   "outputs": [],
   "source": []
  },
  {
   "cell_type": "code",
   "execution_count": null,
   "metadata": {},
   "outputs": [],
   "source": []
  },
  {
   "cell_type": "code",
   "execution_count": null,
   "metadata": {},
   "outputs": [],
   "source": []
  },
  {
   "cell_type": "code",
   "execution_count": null,
   "metadata": {},
   "outputs": [],
   "source": []
  },
  {
   "cell_type": "code",
   "execution_count": null,
   "metadata": {},
   "outputs": [],
   "source": []
  },
  {
   "cell_type": "code",
   "execution_count": 52,
   "metadata": {},
   "outputs": [],
   "source": [
    "import numpy as np\n",
    "import time\n",
    "\n",
    "N = 1 # количество симуляций\n",
    "\n",
    "\n",
    "user_sim = RuleSimulator(movie_dict=movie_kb, act_set=act_set, slot_set=slot_set, \n",
    "                         start_set=None, max_turn=max_turn, nlg=nlg, err_prob=err_prob, \n",
    "                         db=db_full, dk_prob=(1.-dk_prob), sub_prob=sub_prob, \n",
    "                         max_first_turn=max_first_turn)\n",
    "\n",
    "agent = AgentActRule(movie_kb, act_set, slot_set, db_inc,\n",
    "            upd=params['upd'], tr=params['tr'], ts=params['ts'], \n",
    "            frac=params['frac'], max_req=params['max_req'])\n",
    "\n",
    "dialog_manager = DialogManager(agent, user_sim, db_full, db_inc, movie_kb, verbose=True)"
   ]
  },
  {
   "cell_type": "code",
   "execution_count": 53,
   "metadata": {},
   "outputs": [
    {
     "name": "stdout",
     "output_type": "stream",
     "text": [
      "У искомой сущности есть слоты (в неполной БД) ['critic_rating', 'genre', 'director']\n",
      "Пользователь уже назвал (?): {'genre': 'action', 'director': 'zack snyder'}\n",
      "User target =  movie:interstellar, actor:tina fey, critic_rating:8%, genre:action, mpaa_rating:r, director:zack snyder, release_year:2001\n",
      "User information =  critic_rating:8%, genre:action, director:zack snyder \n",
      "\n",
      "UTT:  I am looking for a movie with director zack snyder and genre action.\n",
      "Turn 0 user action: request \t inform slots: {'genre': 'action', 'director': 'zack snyder'}\n",
      "Utterance: I am looking for a movie with director zack snyder and genre action. \n",
      "\n",
      "query for lookup [None, None, 'action', None, 'zack snyder', None]\n",
      "Нашло 35 строк\n",
      "в запросе участвовали не все слоты и нашелся не один ответ\n",
      "Энтропии:  {'actor': 1.5525278240272846, 'critic_rating': 3.163740516388646, 'mpaa_rating': 1.919728081444846, 'release_year': 3.5672534608576205}\n",
      "Turn 1 sys action: request, request slots: {'release_year': 'UNK'}\n",
      "\n",
      "I cannot remember\n",
      "Turn 1 user action: inform \t inform slots: {'release_year': None}\n",
      "Utterance: I cannot remember \n",
      "\n",
      "query for lookup [None, None, 'action', None, 'zack snyder', None]\n",
      "Нашло 35 строк\n",
      "в запросе участвовали не все слоты и нашелся не один ответ\n",
      "Энтропии:  {'actor': 1.5525278240272846, 'critic_rating': 3.163740516388646, 'mpaa_rating': 1.919728081444846}\n",
      "Turn 2 sys action: request, request slots: {'critic_rating': 'UNK'}\n",
      "\n",
      "The critic_rating is 8%.\n",
      "Turn 2 user action: inform \t inform slots: {'critic_rating': '8%'}\n",
      "Utterance: The critic_rating is 8%. \n",
      "\n",
      "query for lookup [None, '8%', 'action', None, 'zack snyder', None]\n",
      "Нашло 13 строк\n",
      "в запросе участвовали не все слоты и нашелся не один ответ\n",
      "Энтропии:  {'actor': 1.4195562985716133, 'mpaa_rating': 1.77585894824464}\n",
      "Turn 3 sys action: request, request slots: {'mpaa_rating': 'UNK'}\n",
      "\n",
      "I cannot remember\n",
      "Turn 3 user action: inform \t inform slots: {'mpaa_rating': None}\n",
      "Utterance: I cannot remember \n",
      "\n",
      "query for lookup [None, '8%', 'action', None, 'zack snyder', None]\n",
      "Нашло 13 строк\n",
      "в запросе участвовали не все слоты и нашелся не один ответ\n",
      "Энтропии:  {'actor': 1.4195562985716133}\n",
      "Turn 4 sys action: request, request slots: {'actor': 'UNK'}\n",
      "\n",
      "I cannot remember\n",
      "Turn 4 user action: inform \t inform slots: {'actor': None}\n",
      "Utterance: I cannot remember \n",
      "\n",
      "query for lookup [None, '8%', 'action', None, 'zack snyder', None]\n",
      "Нашло 13 строк\n",
      "если в запросе участвовали все слоты либо нашелся 1 вариант => вернуть ответ\n",
      "Turn 5 sys action: inform, request slots: {}\n",
      "\n",
      "Просил 62, нашли на позиции 2\n",
      "Agent Results:\n",
      "tokyo story\tryan reynolds\tUNK\tUNK\tpg\tUNK\t2009\n",
      "on the waterfront\tUNK\t8%\tUNK\tr\tzack snyder\tUNK\n",
      "interstellar\ttina fey\t8%\taction\tUNK\tzack snyder\tUNK\n",
      "young messiah\tryan reynolds\tUNK\tUNK\tpg\tUNK\t2005\n",
      "hail caesar\tryan reynolds\tUNK\tUNK\tUNK\tUNK\t2009\n",
      "Thank you!\n",
      "Successful Dialog! Total reward = 0.7999999999999999\n"
     ]
    }
   ],
   "source": [
    "all_rewards = np.zeros((N,))\n",
    "all_success = np.zeros((N,))\n",
    "all_turns = np.zeros((N,))\n",
    "tst = time.time()\n",
    "\n",
    "for i in range(N):\n",
    "    current_reward = 0\n",
    "    current_success = False\n",
    "    ua = dialog_manager.initialize_episode()\n",
    "    utt = ua['nl_sentence']\n",
    "    print('UTT: ', utt)\n",
    "    t = 0\n",
    "    while(True):\n",
    "        t += 1\n",
    "        episode_over, reward, ua, sa = dialog_manager.next_turn()\n",
    "        utt = ua['nl_sentence']\n",
    "        print(utt)\n",
    "        current_reward += reward\n",
    "        if episode_over:\n",
    "            if reward > 0:\n",
    "                print (\"Successful Dialog! Total reward = {}\".format(current_reward))\n",
    "                current_success = True\n",
    "            else:\n",
    "                print (\"Failed Dialog! Total reward = {}\".format(current_reward))\n",
    "            break\n",
    "    all_rewards[i] = current_reward\n",
    "    all_success[i] = 1 if current_success else 0\n",
    "    all_turns[i] = t"
   ]
  },
  {
   "cell_type": "code",
   "execution_count": null,
   "metadata": {},
   "outputs": [],
   "source": []
  },
  {
   "cell_type": "code",
   "execution_count": null,
   "metadata": {},
   "outputs": [],
   "source": []
  },
  {
   "cell_type": "code",
   "execution_count": 47,
   "metadata": {},
   "outputs": [
    {
     "name": "stdout",
     "output_type": "stream",
     "text": [
      "Просил 275, нашли на позиции 0\n"
     ]
    }
   ],
   "source": [
    "ua, episode_over, reward = user_sim.next(nxt)"
   ]
  },
  {
   "cell_type": "code",
   "execution_count": 42,
   "metadata": {},
   "outputs": [],
   "source": [
    "dialog_manager = DialogManager(agent, user_sim, db_full, db_inc, movie_kb, verbose=True)"
   ]
  },
  {
   "cell_type": "code",
   "execution_count": 44,
   "metadata": {},
   "outputs": [
    {
     "name": "stdout",
     "output_type": "stream",
     "text": [
      "Пользователь знает ['genre', 'mpaa_rating', 'director']\n",
      "Симулятор знает {'mpaa_rating': 'r', 'director': 'quentin tarantino'}\n",
      "User target =  movie:hachi: a dog's tale, actor:ryan reynolds, critic_rating:4.5/5, genre:sci-fi, mpaa_rating:r, director:quentin tarantino, release_year:2004\n",
      "User information =  genre:sci-fi, mpaa_rating:r, director:quentin tarantino \n",
      "\n"
     ]
    },
    {
     "data": {
      "text/plain": [
       "{'diaact': 'request',\n",
       " 'turn': 0,\n",
       " 'inform_slots': {'mpaa_rating': 'r', 'director': 'quentin tarantino'},\n",
       " 'request_slots': {'movie': 'UNK'},\n",
       " 'prev_diaact': 'UNK',\n",
       " 'inform_slots_noisy': {'mpaa_rating': 'r', 'director': 'christopher'},\n",
       " 'nl_sentence': 'Can you please tell me a movie whose director is christopher and mpaa_rating is r?',\n",
       " 'episode_over': False,\n",
       " 'reward': 0}"
      ]
     },
     "execution_count": 44,
     "metadata": {},
     "output_type": "execute_result"
    }
   ],
   "source": [
    "ua = dialog_manager.initialize_episode()\n",
    "ua"
   ]
  },
  {
   "cell_type": "code",
   "execution_count": null,
   "metadata": {},
   "outputs": [],
   "source": []
  }
 ],
 "metadata": {
  "kernelspec": {
   "display_name": "Python [conda env:torch_kbinfo]",
   "language": "python",
   "name": "conda-env-torch_kbinfo-py"
  },
  "language_info": {
   "codemirror_mode": {
    "name": "ipython",
    "version": 3
   },
   "file_extension": ".py",
   "mimetype": "text/x-python",
   "name": "python",
   "nbconvert_exporter": "python",
   "pygments_lexer": "ipython3",
   "version": "3.7.7"
  }
 },
 "nbformat": 4,
 "nbformat_minor": 2
}
