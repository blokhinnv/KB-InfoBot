{
 "cells": [
  {
   "cell_type": "code",
   "execution_count": 1,
   "metadata": {},
   "outputs": [],
   "source": [
    "import lasagne\n",
    "import theano\n",
    "import lasagne.layers as L\n",
    "import theano.tensor as T"
   ]
  },
  {
   "cell_type": "code",
   "execution_count": 22,
   "metadata": {},
   "outputs": [],
   "source": [
    "# self._init_model(in_size, out_size, n_hid=n_hid, learning_rate_sl=lr, batch_size=batch, \\\n",
    "#                 ment=ment)\n",
    "in_size = 24\n",
    "out_size = 7\n",
    "n_hid = 23\n",
    "lr = .01\n",
    "batch = 128\n",
    "ment = 0"
   ]
  },
  {
   "cell_type": "code",
   "execution_count": 95,
   "metadata": {},
   "outputs": [],
   "source": [
    "input_var, turn_mask, act_mask, reward_var = T.dtensor3('in'), T.imatrix('tm'), T.itensor3('am'), T.dvector('r')\n",
    "pol_in = T.dmatrix('pol-h')\n",
    "\n",
    "'''shape:tuple of int or None elements\n",
    "The shape of the input. Any element can be None to indicate that the size of that dimension is not fixed at compile time.\n",
    "\n",
    "input_var:Theano symbolic variable or None (default: None)\n",
    "A variable representing a network input. If it is not provided, a variable will be created.'''\n",
    "\n",
    "l_mask_in = L.InputLayer(shape=(None,None), input_var=turn_mask)\n",
    "\n",
    "l_in = L.InputLayer(shape=(None, None, in_size), input_var=input_var)\n",
    "\n",
    "\n",
    "l_pol_rnn = L.GRULayer(l_in, \n",
    "                       n_hid, \n",
    "                       hid_init=pol_in, \n",
    "                       mask_input=l_mask_in) # B x H x D\n",
    "\n",
    "pol_out = L.get_output(l_pol_rnn)[:,-1,:]\n",
    "l_den_in = L.ReshapeLayer(l_pol_rnn, (turn_mask.shape[0] * turn_mask.shape[1], n_hid)) # BH x D\n",
    "l_out = L.DenseLayer(l_den_in, out_size, nonlinearity=lasagne.nonlinearities.softmax)\n",
    "\n",
    "network = pol_out\n",
    "probs = L.get_output(l_out) # BH x A\n",
    "out_probs = T.reshape(probs, (input_var.shape[0], input_var.shape[1], out_size)) # B x H x A\n",
    "\n",
    "\n",
    "log_probs = T.log(out_probs)\n",
    "\n",
    "act_probs = (log_probs * act_mask).sum(axis=2) # B x H\n",
    "ep_probs = (act_probs * turn_mask).sum(axis=1) # B\n",
    "H_probs = -T.sum(T.sum(out_probs * log_probs, axis=2), axis=1) # B\n",
    "loss = 0. - T.mean(ep_probs * reward_var + ment * H_probs)"
   ]
  },
  {
   "cell_type": "code",
   "execution_count": 100,
   "metadata": {
    "scrolled": false
   },
   "outputs": [
    {
     "name": "stderr",
     "output_type": "stream",
     "text": [
      "F:\\Anaconda3\\envs\\torch_kbinfo\\lib\\site-packages\\theano\\scan_module\\scan_perform_ext.py:76: UserWarning: The file scan_perform.c is not available. This donot happen normally. You are probably in a strangesetup. This mean Theano can not use the cython code for scan. If youwant to remove this warning, use the Theano flag'cxx=' (set to an empty string) to disable all ccode generation.\n",
      "  \"The file scan_perform.c is not available. This do\"\n"
     ]
    }
   ],
   "source": [
    "act_fn = theano.function([input_var, turn_mask, pol_in], [out_probs, log_probs])"
   ]
  },
  {
   "cell_type": "code",
   "execution_count": 70,
   "metadata": {},
   "outputs": [],
   "source": [
    "import numpy as np"
   ]
  },
  {
   "cell_type": "code",
   "execution_count": 71,
   "metadata": {},
   "outputs": [],
   "source": [
    "i = np.random.random((2, 10, 24))\n",
    "t = np.array([[1, 1, 0, 0, 0, 0, 0, 0, 0, 0],\n",
    "       [1, 1, 0, 0, 0, 0, 0, 0, 0, 0]])\n",
    "a = np.array([[[0, 1, 0, 0, 0, 0, 0],\n",
    "        [0, 0, 0, 0, 0, 0, 1],\n",
    "        [0, 0, 0, 0, 0, 0, 0],\n",
    "        [0, 0, 0, 0, 0, 0, 0],\n",
    "        [0, 0, 0, 0, 0, 0, 0],\n",
    "        [0, 0, 0, 0, 0, 0, 0],\n",
    "        [0, 0, 0, 0, 0, 0, 0],\n",
    "        [0, 0, 0, 0, 0, 0, 0],\n",
    "        [0, 0, 0, 0, 0, 0, 0],\n",
    "        [0, 0, 0, 0, 0, 0, 0]],\n",
    "\n",
    "       [[0, 1, 0, 0, 0, 0, 0],\n",
    "        [0, 0, 0, 0, 0, 0, 1],\n",
    "        [0, 0, 0, 0, 0, 0, 0],\n",
    "        [0, 0, 0, 0, 0, 0, 0],\n",
    "        [0, 0, 0, 0, 0, 0, 0],\n",
    "        [0, 0, 0, 0, 0, 0, 0],\n",
    "        [0, 0, 0, 0, 0, 0, 0],\n",
    "        [0, 0, 0, 0, 0, 0, 0],\n",
    "        [0, 0, 0, 0, 0, 0, 0],\n",
    "        [0, 0, 0, 0, 0, 0, 0]]])\n",
    "\n",
    "r = np.array([-1.09, -1.09])\n",
    "\n",
    "pi = np.zeros((2, n_hid)).astype('float32')"
   ]
  },
  {
   "cell_type": "code",
   "execution_count": 124,
   "metadata": {},
   "outputs": [
    {
     "data": {
      "text/plain": [
       "array([0, 0, 1, 1, 2, 2, 3, 3, 4, 4])"
      ]
     },
     "execution_count": 124,
     "metadata": {},
     "output_type": "execute_result"
    }
   ],
   "source": [
    "np.repeat(np.arange(5), 2, axis=0)"
   ]
  },
  {
   "cell_type": "code",
   "execution_count": 137,
   "metadata": {},
   "outputs": [
    {
     "data": {
      "text/plain": [
       "array([[0, 1, 2, 3, 4],\n",
       "       [0, 1, 2, 3, 4]])"
      ]
     },
     "execution_count": 137,
     "metadata": {},
     "output_type": "execute_result"
    }
   ],
   "source": [
    "z = np.arange(5)\n",
    "np.repeat(z[np.newaxis,:], 2, axis=0)"
   ]
  },
  {
   "cell_type": "code",
   "execution_count": null,
   "metadata": {},
   "outputs": [],
   "source": [
    "np.zeros()"
   ]
  },
  {
   "cell_type": "code",
   "execution_count": 134,
   "metadata": {},
   "outputs": [
    {
     "data": {
      "text/plain": [
       "array([[0, 1, 2, 3, 4]])"
      ]
     },
     "execution_count": 134,
     "metadata": {},
     "output_type": "execute_result"
    }
   ],
   "source": [
    "z[np.newaxis,:]"
   ]
  },
  {
   "cell_type": "code",
   "execution_count": 72,
   "metadata": {},
   "outputs": [
    {
     "data": {
      "text/plain": [
       "(2, 10)"
      ]
     },
     "execution_count": 72,
     "metadata": {},
     "output_type": "execute_result"
    }
   ],
   "source": [
    "t.shape"
   ]
  },
  {
   "cell_type": "code",
   "execution_count": 101,
   "metadata": {},
   "outputs": [],
   "source": [
    "p, lp = act_fn(i, t, pi)"
   ]
  },
  {
   "cell_type": "code",
   "execution_count": 103,
   "metadata": {
    "scrolled": true
   },
   "outputs": [
    {
     "data": {
      "text/plain": [
       "((2, 10, 7), (2, 10, 7))"
      ]
     },
     "execution_count": 103,
     "metadata": {},
     "output_type": "execute_result"
    }
   ],
   "source": [
    "p.shape, lp.shape"
   ]
  },
  {
   "cell_type": "code",
   "execution_count": 104,
   "metadata": {},
   "outputs": [
    {
     "data": {
      "text/plain": [
       "(2, 10, 7)"
      ]
     },
     "execution_count": 104,
     "metadata": {},
     "output_type": "execute_result"
    }
   ],
   "source": [
    "a.shape"
   ]
  },
  {
   "cell_type": "code",
   "execution_count": 119,
   "metadata": {},
   "outputs": [
    {
     "data": {
      "text/plain": [
       "array([19.29326408, 19.32539854])"
      ]
     },
     "execution_count": 119,
     "metadata": {},
     "output_type": "execute_result"
    }
   ],
   "source": [
    "-((p * lp).sum(axis=2)).sum(axis=1)"
   ]
  },
  {
   "cell_type": "code",
   "execution_count": 106,
   "metadata": {
    "scrolled": true
   },
   "outputs": [
    {
     "data": {
      "text/plain": [
       "array([[[0, 1, 0, 0, 0, 0, 0],\n",
       "        [0, 0, 0, 0, 0, 0, 1],\n",
       "        [0, 0, 0, 0, 0, 0, 0],\n",
       "        [0, 0, 0, 0, 0, 0, 0],\n",
       "        [0, 0, 0, 0, 0, 0, 0],\n",
       "        [0, 0, 0, 0, 0, 0, 0],\n",
       "        [0, 0, 0, 0, 0, 0, 0],\n",
       "        [0, 0, 0, 0, 0, 0, 0],\n",
       "        [0, 0, 0, 0, 0, 0, 0],\n",
       "        [0, 0, 0, 0, 0, 0, 0]],\n",
       "\n",
       "       [[0, 1, 0, 0, 0, 0, 0],\n",
       "        [0, 0, 0, 0, 0, 0, 1],\n",
       "        [0, 0, 0, 0, 0, 0, 0],\n",
       "        [0, 0, 0, 0, 0, 0, 0],\n",
       "        [0, 0, 0, 0, 0, 0, 0],\n",
       "        [0, 0, 0, 0, 0, 0, 0],\n",
       "        [0, 0, 0, 0, 0, 0, 0],\n",
       "        [0, 0, 0, 0, 0, 0, 0],\n",
       "        [0, 0, 0, 0, 0, 0, 0],\n",
       "        [0, 0, 0, 0, 0, 0, 0]]])"
      ]
     },
     "execution_count": 106,
     "metadata": {},
     "output_type": "execute_result"
    }
   ],
   "source": [
    "a"
   ]
  },
  {
   "cell_type": "code",
   "execution_count": 141,
   "metadata": {
    "scrolled": true
   },
   "outputs": [
    {
     "data": {
      "text/plain": [
       "(2, 10)"
      ]
     },
     "execution_count": 141,
     "metadata": {},
     "output_type": "execute_result"
    }
   ],
   "source": [
    "t.shape"
   ]
  },
  {
   "cell_type": "code",
   "execution_count": 140,
   "metadata": {},
   "outputs": [
    {
     "data": {
      "text/plain": [
       "(2, 10, 7)"
      ]
     },
     "execution_count": 140,
     "metadata": {},
     "output_type": "execute_result"
    }
   ],
   "source": [
    "a.shape"
   ]
  },
  {
   "cell_type": "code",
   "execution_count": 139,
   "metadata": {},
   "outputs": [
    {
     "data": {
      "text/plain": [
       "(2, 10)"
      ]
     },
     "execution_count": 139,
     "metadata": {},
     "output_type": "execute_result"
    }
   ],
   "source": [
    "(lp * a).sum(axis=2).shape"
   ]
  },
  {
   "cell_type": "code",
   "execution_count": null,
   "metadata": {},
   "outputs": [],
   "source": [
    "пу"
   ]
  },
  {
   "cell_type": "code",
   "execution_count": 121,
   "metadata": {},
   "outputs": [
    {
     "data": {
      "text/plain": [
       "array([-3.99131469, -3.87455499])"
      ]
     },
     "execution_count": 121,
     "metadata": {},
     "output_type": "execute_result"
    }
   ],
   "source": [
    "act_probs = (lp * a).sum(axis=2)\n",
    "((act_probs * t).sum(axis=1))"
   ]
  },
  {
   "cell_type": "code",
   "execution_count": 112,
   "metadata": {},
   "outputs": [
    {
     "data": {
      "text/plain": [
       "array([[1, 1, 0, 0, 0, 0, 0, 0, 0, 0],\n",
       "       [1, 1, 0, 0, 0, 0, 0, 0, 0, 0]])"
      ]
     },
     "execution_count": 112,
     "metadata": {},
     "output_type": "execute_result"
    }
   ],
   "source": [
    "t"
   ]
  },
  {
   "cell_type": "code",
   "execution_count": 99,
   "metadata": {
    "scrolled": true
   },
   "outputs": [
    {
     "data": {
      "text/plain": [
       "array([[[-1.89332186, -2.10473527, -2.0193182 , -1.81631342,\n",
       "         -1.9813618 , -1.96364102, -1.87110583],\n",
       "        [-2.05852003, -2.18022749, -2.25274145, -1.87813225,\n",
       "         -1.82148052, -1.67142021, -1.88657941],\n",
       "        [-2.05852003, -2.18022749, -2.25274145, -1.87813225,\n",
       "         -1.82148052, -1.67142021, -1.88657941],\n",
       "        [-2.05852003, -2.18022749, -2.25274145, -1.87813225,\n",
       "         -1.82148052, -1.67142021, -1.88657941],\n",
       "        [-2.05852003, -2.18022749, -2.25274145, -1.87813225,\n",
       "         -1.82148052, -1.67142021, -1.88657941],\n",
       "        [-2.05852003, -2.18022749, -2.25274145, -1.87813225,\n",
       "         -1.82148052, -1.67142021, -1.88657941],\n",
       "        [-2.05852003, -2.18022749, -2.25274145, -1.87813225,\n",
       "         -1.82148052, -1.67142021, -1.88657941],\n",
       "        [-2.05852003, -2.18022749, -2.25274145, -1.87813225,\n",
       "         -1.82148052, -1.67142021, -1.88657941],\n",
       "        [-2.05852003, -2.18022749, -2.25274145, -1.87813225,\n",
       "         -1.82148052, -1.67142021, -1.88657941],\n",
       "        [-2.05852003, -2.18022749, -2.25274145, -1.87813225,\n",
       "         -1.82148052, -1.67142021, -1.88657941]],\n",
       "\n",
       "       [[-1.87115488, -2.12929949, -2.03500349, -1.81146936,\n",
       "         -2.02827037, -1.86885318, -1.91612346],\n",
       "        [-1.9735921 , -2.16134717, -2.18753353, -1.92451467,\n",
       "         -2.00733433, -1.72156051, -1.74525551],\n",
       "        [-1.9735921 , -2.16134717, -2.18753353, -1.92451467,\n",
       "         -2.00733433, -1.72156051, -1.74525551],\n",
       "        [-1.9735921 , -2.16134717, -2.18753353, -1.92451467,\n",
       "         -2.00733433, -1.72156051, -1.74525551],\n",
       "        [-1.9735921 , -2.16134717, -2.18753353, -1.92451467,\n",
       "         -2.00733433, -1.72156051, -1.74525551],\n",
       "        [-1.9735921 , -2.16134717, -2.18753353, -1.92451467,\n",
       "         -2.00733433, -1.72156051, -1.74525551],\n",
       "        [-1.9735921 , -2.16134717, -2.18753353, -1.92451467,\n",
       "         -2.00733433, -1.72156051, -1.74525551],\n",
       "        [-1.9735921 , -2.16134717, -2.18753353, -1.92451467,\n",
       "         -2.00733433, -1.72156051, -1.74525551],\n",
       "        [-1.9735921 , -2.16134717, -2.18753353, -1.92451467,\n",
       "         -2.00733433, -1.72156051, -1.74525551],\n",
       "        [-1.9735921 , -2.16134717, -2.18753353, -1.92451467,\n",
       "         -2.00733433, -1.72156051, -1.74525551]]])"
      ]
     },
     "execution_count": 99,
     "metadata": {},
     "output_type": "execute_result"
    }
   ],
   "source": [
    "lp"
   ]
  },
  {
   "cell_type": "code",
   "execution_count": 86,
   "metadata": {
    "scrolled": true
   },
   "outputs": [
    {
     "data": {
      "text/plain": [
       "array([[-0.06375682,  0.08783907,  0.11329573,  0.07477202,  0.02013782,\n",
       "        -0.00679636,  0.07680428,  0.12398521, -0.09848753, -0.01654078,\n",
       "         0.02089729,  0.08538025,  0.27566153, -0.10790463,  0.07739172,\n",
       "         0.04850656,  0.18752919, -0.09548239, -0.07806815, -0.02427692,\n",
       "        -0.16886144,  0.01422618,  0.11407929],\n",
       "       [-0.20334518,  0.11476226,  0.14196033, -0.0555009 ,  0.20653439,\n",
       "        -0.01830684,  0.03638172,  0.26492145, -0.0553292 , -0.17479163,\n",
       "         0.03462211,  0.26032273,  0.34562005, -0.27044844,  0.13741814,\n",
       "        -0.07877142,  0.30980053, -0.11555158, -0.082664  , -0.00367976,\n",
       "        -0.32400075,  0.01854942,  0.05127486],\n",
       "       [-0.20334518,  0.11476226,  0.14196033, -0.0555009 ,  0.20653439,\n",
       "        -0.01830684,  0.03638172,  0.26492145, -0.0553292 , -0.17479163,\n",
       "         0.03462211,  0.26032273,  0.34562005, -0.27044844,  0.13741814,\n",
       "        -0.07877142,  0.30980053, -0.11555158, -0.082664  , -0.00367976,\n",
       "        -0.32400075,  0.01854942,  0.05127486],\n",
       "       [-0.20334518,  0.11476226,  0.14196033, -0.0555009 ,  0.20653439,\n",
       "        -0.01830684,  0.03638172,  0.26492145, -0.0553292 , -0.17479163,\n",
       "         0.03462211,  0.26032273,  0.34562005, -0.27044844,  0.13741814,\n",
       "        -0.07877142,  0.30980053, -0.11555158, -0.082664  , -0.00367976,\n",
       "        -0.32400075,  0.01854942,  0.05127486],\n",
       "       [-0.20334518,  0.11476226,  0.14196033, -0.0555009 ,  0.20653439,\n",
       "        -0.01830684,  0.03638172,  0.26492145, -0.0553292 , -0.17479163,\n",
       "         0.03462211,  0.26032273,  0.34562005, -0.27044844,  0.13741814,\n",
       "        -0.07877142,  0.30980053, -0.11555158, -0.082664  , -0.00367976,\n",
       "        -0.32400075,  0.01854942,  0.05127486],\n",
       "       [-0.20334518,  0.11476226,  0.14196033, -0.0555009 ,  0.20653439,\n",
       "        -0.01830684,  0.03638172,  0.26492145, -0.0553292 , -0.17479163,\n",
       "         0.03462211,  0.26032273,  0.34562005, -0.27044844,  0.13741814,\n",
       "        -0.07877142,  0.30980053, -0.11555158, -0.082664  , -0.00367976,\n",
       "        -0.32400075,  0.01854942,  0.05127486],\n",
       "       [-0.20334518,  0.11476226,  0.14196033, -0.0555009 ,  0.20653439,\n",
       "        -0.01830684,  0.03638172,  0.26492145, -0.0553292 , -0.17479163,\n",
       "         0.03462211,  0.26032273,  0.34562005, -0.27044844,  0.13741814,\n",
       "        -0.07877142,  0.30980053, -0.11555158, -0.082664  , -0.00367976,\n",
       "        -0.32400075,  0.01854942,  0.05127486],\n",
       "       [-0.20334518,  0.11476226,  0.14196033, -0.0555009 ,  0.20653439,\n",
       "        -0.01830684,  0.03638172,  0.26492145, -0.0553292 , -0.17479163,\n",
       "         0.03462211,  0.26032273,  0.34562005, -0.27044844,  0.13741814,\n",
       "        -0.07877142,  0.30980053, -0.11555158, -0.082664  , -0.00367976,\n",
       "        -0.32400075,  0.01854942,  0.05127486],\n",
       "       [-0.20334518,  0.11476226,  0.14196033, -0.0555009 ,  0.20653439,\n",
       "        -0.01830684,  0.03638172,  0.26492145, -0.0553292 , -0.17479163,\n",
       "         0.03462211,  0.26032273,  0.34562005, -0.27044844,  0.13741814,\n",
       "        -0.07877142,  0.30980053, -0.11555158, -0.082664  , -0.00367976,\n",
       "        -0.32400075,  0.01854942,  0.05127486],\n",
       "       [-0.20334518,  0.11476226,  0.14196033, -0.0555009 ,  0.20653439,\n",
       "        -0.01830684,  0.03638172,  0.26492145, -0.0553292 , -0.17479163,\n",
       "         0.03462211,  0.26032273,  0.34562005, -0.27044844,  0.13741814,\n",
       "        -0.07877142,  0.30980053, -0.11555158, -0.082664  , -0.00367976,\n",
       "        -0.32400075,  0.01854942,  0.05127486],\n",
       "       [-0.1089943 ,  0.07044828,  0.18512   , -0.00897217,  0.02917866,\n",
       "        -0.01395289,  0.18645316, -0.0083523 ,  0.02506454, -0.15071909,\n",
       "         0.09041995,  0.0951724 ,  0.33419581, -0.16096941, -0.0061027 ,\n",
       "        -0.10569612,  0.16711188, -0.14105094, -0.1026375 , -0.00413444,\n",
       "        -0.21396451,  0.12265363,  0.06733875],\n",
       "       [-0.24636496,  0.12755871,  0.30739739,  0.08572237,  0.07217484,\n",
       "        -0.14288743,  0.18573969,  0.09728677,  0.00052258, -0.23739197,\n",
       "         0.02602459,  0.1565704 ,  0.46767508, -0.21732606,  0.0843613 ,\n",
       "        -0.07232251,  0.18145769, -0.12321359, -0.05898853,  0.08890054,\n",
       "        -0.30059858,  0.06819876,  0.0754432 ],\n",
       "       [-0.24636496,  0.12755871,  0.30739739,  0.08572237,  0.07217484,\n",
       "        -0.14288743,  0.18573969,  0.09728677,  0.00052258, -0.23739197,\n",
       "         0.02602459,  0.1565704 ,  0.46767508, -0.21732606,  0.0843613 ,\n",
       "        -0.07232251,  0.18145769, -0.12321359, -0.05898853,  0.08890054,\n",
       "        -0.30059858,  0.06819876,  0.0754432 ],\n",
       "       [-0.24636496,  0.12755871,  0.30739739,  0.08572237,  0.07217484,\n",
       "        -0.14288743,  0.18573969,  0.09728677,  0.00052258, -0.23739197,\n",
       "         0.02602459,  0.1565704 ,  0.46767508, -0.21732606,  0.0843613 ,\n",
       "        -0.07232251,  0.18145769, -0.12321359, -0.05898853,  0.08890054,\n",
       "        -0.30059858,  0.06819876,  0.0754432 ],\n",
       "       [-0.24636496,  0.12755871,  0.30739739,  0.08572237,  0.07217484,\n",
       "        -0.14288743,  0.18573969,  0.09728677,  0.00052258, -0.23739197,\n",
       "         0.02602459,  0.1565704 ,  0.46767508, -0.21732606,  0.0843613 ,\n",
       "        -0.07232251,  0.18145769, -0.12321359, -0.05898853,  0.08890054,\n",
       "        -0.30059858,  0.06819876,  0.0754432 ],\n",
       "       [-0.24636496,  0.12755871,  0.30739739,  0.08572237,  0.07217484,\n",
       "        -0.14288743,  0.18573969,  0.09728677,  0.00052258, -0.23739197,\n",
       "         0.02602459,  0.1565704 ,  0.46767508, -0.21732606,  0.0843613 ,\n",
       "        -0.07232251,  0.18145769, -0.12321359, -0.05898853,  0.08890054,\n",
       "        -0.30059858,  0.06819876,  0.0754432 ],\n",
       "       [-0.24636496,  0.12755871,  0.30739739,  0.08572237,  0.07217484,\n",
       "        -0.14288743,  0.18573969,  0.09728677,  0.00052258, -0.23739197,\n",
       "         0.02602459,  0.1565704 ,  0.46767508, -0.21732606,  0.0843613 ,\n",
       "        -0.07232251,  0.18145769, -0.12321359, -0.05898853,  0.08890054,\n",
       "        -0.30059858,  0.06819876,  0.0754432 ],\n",
       "       [-0.24636496,  0.12755871,  0.30739739,  0.08572237,  0.07217484,\n",
       "        -0.14288743,  0.18573969,  0.09728677,  0.00052258, -0.23739197,\n",
       "         0.02602459,  0.1565704 ,  0.46767508, -0.21732606,  0.0843613 ,\n",
       "        -0.07232251,  0.18145769, -0.12321359, -0.05898853,  0.08890054,\n",
       "        -0.30059858,  0.06819876,  0.0754432 ],\n",
       "       [-0.24636496,  0.12755871,  0.30739739,  0.08572237,  0.07217484,\n",
       "        -0.14288743,  0.18573969,  0.09728677,  0.00052258, -0.23739197,\n",
       "         0.02602459,  0.1565704 ,  0.46767508, -0.21732606,  0.0843613 ,\n",
       "        -0.07232251,  0.18145769, -0.12321359, -0.05898853,  0.08890054,\n",
       "        -0.30059858,  0.06819876,  0.0754432 ],\n",
       "       [-0.24636496,  0.12755871,  0.30739739,  0.08572237,  0.07217484,\n",
       "        -0.14288743,  0.18573969,  0.09728677,  0.00052258, -0.23739197,\n",
       "         0.02602459,  0.1565704 ,  0.46767508, -0.21732606,  0.0843613 ,\n",
       "        -0.07232251,  0.18145769, -0.12321359, -0.05898853,  0.08890054,\n",
       "        -0.30059858,  0.06819876,  0.0754432 ]])"
      ]
     },
     "execution_count": 86,
     "metadata": {},
     "output_type": "execute_result"
    }
   ],
   "source": [
    "gru[0].reshape(20, 23)"
   ]
  },
  {
   "cell_type": "code",
   "execution_count": 56,
   "metadata": {},
   "outputs": [
    {
     "data": {
      "text/plain": [
       "(2, 10, 23)"
      ]
     },
     "execution_count": 56,
     "metadata": {},
     "output_type": "execute_result"
    }
   ],
   "source": [
    "gru[0].shape"
   ]
  },
  {
   "cell_type": "code",
   "execution_count": null,
   "metadata": {},
   "outputs": [],
   "source": []
  },
  {
   "cell_type": "code",
   "execution_count": null,
   "metadata": {},
   "outputs": [],
   "source": []
  },
  {
   "cell_type": "code",
   "execution_count": 46,
   "metadata": {},
   "outputs": [],
   "source": [
    "inp_d = np.array(np.arange(in_size)).reshape(1, 1, in_size)\n",
    "tur_d = np.ones((inp_d.shape[0], inp_d.shape[1])).astype('int8')\n",
    "pol_d = np.zeros((1, n_hid))"
   ]
  },
  {
   "cell_type": "code",
   "execution_count": 47,
   "metadata": {},
   "outputs": [],
   "source": [
    "act_p, p_out = act_fn(inp_d, tur_d, pol_d)"
   ]
  },
  {
   "cell_type": "code",
   "execution_count": 52,
   "metadata": {},
   "outputs": [
    {
     "data": {
      "text/plain": [
       "(1, 1, 7)"
      ]
     },
     "execution_count": 52,
     "metadata": {},
     "output_type": "execute_result"
    }
   ],
   "source": [
    "act_p.shape"
   ]
  }
 ],
 "metadata": {
  "kernelspec": {
   "display_name": "Python [conda env:torch_kbinfo]",
   "language": "python",
   "name": "conda-env-torch_kbinfo-py"
  },
  "language_info": {
   "codemirror_mode": {
    "name": "ipython",
    "version": 3
   },
   "file_extension": ".py",
   "mimetype": "text/x-python",
   "name": "python",
   "nbconvert_exporter": "python",
   "pygments_lexer": "ipython3",
   "version": "3.7.7"
  }
 },
 "nbformat": 4,
 "nbformat_minor": 2
}
