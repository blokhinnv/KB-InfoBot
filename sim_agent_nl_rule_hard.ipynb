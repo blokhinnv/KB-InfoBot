{
 "cells": [
  {
   "cell_type": "code",
   "execution_count": 1,
   "metadata": {},
   "outputs": [],
   "source": [
    "%load_ext autoreload\n",
    "%autoreload 2\n"
   ]
  },
  {
   "cell_type": "code",
   "execution_count": 2,
   "metadata": {},
   "outputs": [
    {
     "name": "stdout",
     "output_type": "stream",
     "text": [
      "F:\\nvb\\KB-InfoBot\n"
     ]
    }
   ],
   "source": [
    "cd F:\\nvb\\KB-InfoBot"
   ]
  },
  {
   "cell_type": "code",
   "execution_count": 3,
   "metadata": {},
   "outputs": [],
   "source": [
    "from deep_dialog.dialog_system import MovieDict, DictReader, Database\n",
    "from deep_dialog.objects import SlotReader\n",
    "from deep_dialog.agents.agent_nl_rule_hard import AgentNLRuleHard\n",
    "from deep_dialog.usersims import RuleSimulator\n",
    "from deep_dialog.usersims.template_nlg import TemplateNLG\n",
    "from deep_dialog.dialog_system.dialog_manager import DialogManager"
   ]
  },
  {
   "cell_type": "code",
   "execution_count": 4,
   "metadata": {},
   "outputs": [],
   "source": [
    "params = {}\n",
    "params['act_set'] = r'F:\\nvb\\KB-InfoBot\\data\\dia_acts.txt'\n",
    "params['dataset'] = 'imdb_S'\n",
    "params['tr'] = 1.0\n",
    "params['ts'] = 1.0\n",
    "params['max_req'] = 1\n",
    "params['frac'] = 0.5\n",
    "params['upd'] = 10\n",
    "params['template_path'] = r'F:\\nvb\\KB-InfoBot\\data\\templates.j'\n",
    "\n",
    "max_turn = 20\n",
    "err_prob = .5\n",
    "dk_prob = .5\n",
    "sub_prob = .05\n",
    "nlg_temp = 1\n",
    "max_first_turn = 5\n",
    "\n",
    "\n",
    "slot_path = r'F:\\nvb\\KB-InfoBot\\data\\imdb-S\\slot_set.txt'\n",
    "dict_path = r'F:/nvb/KB-InfoBot/data/imdb-S/dicts_.json'\n",
    "db_full_path = r'F:\\nvb\\KB-InfoBot\\data\\imdb-S\\db.txt'\n",
    "db_inc_path = r'F:\\nvb\\KB-InfoBot\\data\\imdb-S\\incomplete_db_0.20.txt'"
   ]
  },
  {
   "cell_type": "code",
   "execution_count": 5,
   "metadata": {},
   "outputs": [],
   "source": [
    "act_set = DictReader()\n",
    "act_set.load_dict_from_file(params['act_set'])"
   ]
  },
  {
   "cell_type": "code",
   "execution_count": 6,
   "metadata": {},
   "outputs": [],
   "source": [
    "slot_set = SlotReader(slot_path)"
   ]
  },
  {
   "cell_type": "code",
   "execution_count": 7,
   "metadata": {},
   "outputs": [],
   "source": [
    "movie_kb = MovieDict(dict_path)"
   ]
  },
  {
   "cell_type": "code",
   "execution_count": 8,
   "metadata": {},
   "outputs": [],
   "source": [
    "db_full = Database(db_full_path, movie_kb, name=params['dataset'])\n",
    "db_inc = Database(db_inc_path, movie_kb, name='incomplete_db_0.20')"
   ]
  },
  {
   "cell_type": "code",
   "execution_count": 9,
   "metadata": {},
   "outputs": [
    {
     "data": {
      "text/plain": [
       "['r', 'pg-13', 'pg-13', 'pg', 'pg-13']"
      ]
     },
     "execution_count": 9,
     "metadata": {},
     "output_type": "execute_result"
    }
   ],
   "source": [
    "db_matches = [m[3] for m in db_full.tuples]\n",
    "db_matches[:5]"
   ]
  },
  {
   "cell_type": "code",
   "execution_count": 10,
   "metadata": {},
   "outputs": [
    {
     "data": {
      "text/plain": [
       "array([  9,  10,  17,  19,  20,  28,  44,  51,  54,  57,  63,  67,  83,\n",
       "        84,  86,  87,  88,  89,  90,  95,  98, 102, 114, 115, 119, 126,\n",
       "       128, 138, 150, 153, 155, 160, 165, 166, 175, 186, 187, 189, 191,\n",
       "       194, 196, 199, 202, 206, 210, 211, 215, 219, 220, 225, 233, 239,\n",
       "       241, 244, 256, 259, 269, 270, 272, 273, 274], dtype=int64)"
      ]
     },
     "execution_count": 10,
     "metadata": {},
     "output_type": "execute_result"
    }
   ],
   "source": [
    "db_inc.unks['actor']"
   ]
  },
  {
   "cell_type": "code",
   "execution_count": 11,
   "metadata": {},
   "outputs": [
    {
     "data": {
      "text/plain": [
       "(2, 277)"
      ]
     },
     "execution_count": 11,
     "metadata": {},
     "output_type": "execute_result"
    }
   ],
   "source": [
    "db_inc.ids['actor'].shape"
   ]
  },
  {
   "cell_type": "code",
   "execution_count": 12,
   "metadata": {},
   "outputs": [],
   "source": [
    "nlg = TemplateNLG(params['template_path'])"
   ]
  },
  {
   "cell_type": "code",
   "execution_count": 54,
   "metadata": {},
   "outputs": [],
   "source": [
    "user_sim = RuleSimulator(movie_dict=movie_kb, act_set=act_set, slot_set=slot_set, \n",
    "                         start_set=None, max_turn=max_turn, nlg=nlg, err_prob=err_prob, \n",
    "                         db=db_full, dk_prob=(1.-dk_prob), sub_prob=sub_prob, \n",
    "                         max_first_turn=max_first_turn)"
   ]
  },
  {
   "cell_type": "code",
   "execution_count": 55,
   "metadata": {},
   "outputs": [],
   "source": [
    "agent = AgentNLRuleHard(movie_kb, act_set, slot_set, db_inc,\n",
    "            upd=params['upd'], tr=params['tr'], ts=params['ts'], \n",
    "            frac=params['frac'], max_req=params['max_req'])"
   ]
  },
  {
   "cell_type": "code",
   "execution_count": 56,
   "metadata": {},
   "outputs": [
    {
     "data": {
      "text/plain": [
       "{'database': <deep_dialog.dialog_system.database.Database at 0x2486c2fde88>,\n",
       " 'prevact': 'begin@begin',\n",
       " 'inform_slots': {'actor': array([0.5092593 , 0.49074075], dtype=float32),\n",
       "  'critic_rating': array([0.10798122, 0.07511737, 0.08450704, 0.16431925, 0.11267605,\n",
       "         0.09859155, 0.08920188, 0.09859155, 0.08450704, 0.08450704],\n",
       "        dtype=float32),\n",
       "  'genre': array([0.09345794, 0.08878504, 0.08878504, 0.08411215, 0.07009346,\n",
       "         0.06542056, 0.03738318, 0.07943925, 0.06074766, 0.07009346,\n",
       "         0.06542056, 0.08411215, 0.11214953], dtype=float32),\n",
       "  'mpaa_rating': array([0.34545454, 0.3272727 , 0.3272727 ], dtype=float32),\n",
       "  'director': array([0.26339287, 0.26339287, 0.20089285, 0.27232143], dtype=float32),\n",
       "  'release_year': array([0.06086956, 0.07391305, 0.07391305, 0.06956521, 0.06086956,\n",
       "         0.08260869, 0.03478261, 0.04347826, 0.07391305, 0.07826087,\n",
       "         0.04347826, 0.06956521, 0.03043478, 0.06086956, 0.07826087,\n",
       "         0.06521739], dtype=float32)},\n",
       " 'turn': 0,\n",
       " 'init_entropy': {'actor': 0.9997526100334744,\n",
       "  'critic_rating': 3.2841470133855744,\n",
       "  'genre': 3.660058353210298,\n",
       "  'mpaa_rating': 1.5844883898180346,\n",
       "  'director': 1.9901216765729273,\n",
       "  'release_year': 3.9503124872328668},\n",
       " 'num_requests': {'actor': 0,\n",
       "  'critic_rating': 0,\n",
       "  'genre': 0,\n",
       "  'mpaa_rating': 0,\n",
       "  'director': 0,\n",
       "  'release_year': 0},\n",
       " 'slot_tracker': set(),\n",
       " 'dont_care': set()}"
      ]
     },
     "execution_count": 56,
     "metadata": {},
     "output_type": "execute_result"
    }
   ],
   "source": [
    "agent.initialize_episode()\n",
    "agent.state"
   ]
  },
  {
   "cell_type": "code",
   "execution_count": 57,
   "metadata": {},
   "outputs": [
    {
     "name": "stdout",
     "output_type": "stream",
     "text": [
      "У искомой сущности есть слоты (в неполной БД) ['genre', 'mpaa_rating', 'release_year']\n",
      "Пользователь уже назвал (?): {'release_year': '2014'}\n"
     ]
    },
    {
     "data": {
      "text/plain": [
       "{'diaact': 'request',\n",
       " 'turn': 0,\n",
       " 'inform_slots': {'release_year': '2014'},\n",
       " 'request_slots': {'movie': 'UNK'},\n",
       " 'prev_diaact': 'UNK',\n",
       " 'inform_slots_noisy': {'release_year': '2014'},\n",
       " 'nl_sentence': 'I would like to know the movie whose release_year is 2014.',\n",
       " 'episode_over': False,\n",
       " 'reward': 0}"
      ]
     },
     "execution_count": 57,
     "metadata": {},
     "output_type": "execute_result"
    }
   ],
   "source": [
    "ua = user_sim.initialize_episode()\n",
    "ua "
   ]
  },
  {
   "cell_type": "code",
   "execution_count": 58,
   "metadata": {
    "scrolled": true
   },
   "outputs": [
    {
     "name": "stdout",
     "output_type": "stream",
     "text": [
      "Agent updating state:  begin begin\n",
      "Detected 2014  update =  1.0\n",
      "Agent slot belief entropies - \n",
      "actor:1.00 critic_rating:3.28 genre:3.66 mpaa_rating:1.58 director:1.99 release_year:0.43\n"
     ]
    },
    {
     "data": {
      "text/plain": [
       "{'database': <deep_dialog.dialog_system.database.Database at 0x2486c2fde88>,\n",
       " 'prevact': 'request@genre',\n",
       " 'inform_slots': {'actor': array([0.5092593 , 0.49074075], dtype=float32),\n",
       "  'critic_rating': array([0.10798122, 0.07511737, 0.08450704, 0.16431925, 0.11267605,\n",
       "         0.09859155, 0.08920188, 0.09859155, 0.08450704, 0.08450704],\n",
       "        dtype=float32),\n",
       "  'genre': array([0.09345794, 0.08878504, 0.08878504, 0.08411215, 0.07009346,\n",
       "         0.06542056, 0.03738318, 0.07943925, 0.06074766, 0.07009346,\n",
       "         0.06542056, 0.08411215, 0.11214953], dtype=float32),\n",
       "  'mpaa_rating': array([0.34545454, 0.3272727 , 0.3272727 ], dtype=float32),\n",
       "  'director': array([0.26339287, 0.26339287, 0.20089285, 0.27232143], dtype=float32),\n",
       "  'release_year': array([ 0.06086956,  0.07391305,  0.07391305,  0.06956521,  0.06086956,\n",
       "          0.08260869,  0.03478261,  0.04347826,  0.07391305,  0.07826087,\n",
       "          0.04347826,  0.06956521,  0.03043478,  0.06086956, 20.07826   ,\n",
       "          0.06521739], dtype=float32)},\n",
       " 'turn': 1,\n",
       " 'init_entropy': {'actor': 0.9997526100334744,\n",
       "  'critic_rating': 3.2841470133855744,\n",
       "  'genre': 3.660058353210298,\n",
       "  'mpaa_rating': 1.5844883898180346,\n",
       "  'director': 1.9901216765729273,\n",
       "  'release_year': 3.9503124872328668},\n",
       " 'num_requests': {'actor': 0,\n",
       "  'critic_rating': 0,\n",
       "  'genre': 1,\n",
       "  'mpaa_rating': 0,\n",
       "  'director': 0,\n",
       "  'release_year': 0},\n",
       " 'slot_tracker': {'release_year'},\n",
       " 'dont_care': set()}"
      ]
     },
     "execution_count": 58,
     "metadata": {},
     "output_type": "execute_result"
    }
   ],
   "source": [
    "nxt = agent.next(ua, verbose=True)\n",
    "agent.state"
   ]
  },
  {
   "cell_type": "code",
   "execution_count": 59,
   "metadata": {
    "scrolled": true
   },
   "outputs": [
    {
     "data": {
      "text/plain": [
       "{'diaact': 'request',\n",
       " 'request_slots': {'genre': 'UNK'},\n",
       " 'target': [],\n",
       " 'posterior': array([0.        , 0.        , 0.        , 0.        , 0.        ,\n",
       "        0.        , 0.        , 0.01538462, 0.        , 0.        ,\n",
       "        0.        , 0.01538462, 0.        , 0.        , 0.        ,\n",
       "        0.        , 0.        , 0.        , 0.        , 0.        ,\n",
       "        0.        , 0.        , 0.        , 0.01538462, 0.        ,\n",
       "        0.        , 0.        , 0.        , 0.        , 0.01538462,\n",
       "        0.        , 0.        , 0.        , 0.01538462, 0.        ,\n",
       "        0.        , 0.        , 0.01538462, 0.        , 0.        ,\n",
       "        0.01538462, 0.        , 0.        , 0.01538462, 0.        ,\n",
       "        0.01538462, 0.        , 0.        , 0.01538462, 0.01538462,\n",
       "        0.        , 0.        , 0.        , 0.01538462, 0.        ,\n",
       "        0.        , 0.        , 0.01538462, 0.01538462, 0.01538462,\n",
       "        0.        , 0.01538462, 0.01538462, 0.        , 0.        ,\n",
       "        0.        , 0.01538462, 0.        , 0.        , 0.01538462,\n",
       "        0.        , 0.        , 0.        , 0.01538462, 0.        ,\n",
       "        0.        , 0.        , 0.01538462, 0.        , 0.        ,\n",
       "        0.        , 0.        , 0.        , 0.01538462, 0.01538462,\n",
       "        0.        , 0.        , 0.        , 0.        , 0.        ,\n",
       "        0.01538462, 0.        , 0.        , 0.        , 0.        ,\n",
       "        0.        , 0.        , 0.        , 0.        , 0.01538462,\n",
       "        0.        , 0.        , 0.01538462, 0.        , 0.        ,\n",
       "        0.01538462, 0.        , 0.        , 0.        , 0.        ,\n",
       "        0.        , 0.        , 0.        , 0.        , 0.        ,\n",
       "        0.        , 0.        , 0.        , 0.        , 0.        ,\n",
       "        0.        , 0.        , 0.        , 0.        , 0.        ,\n",
       "        0.        , 0.01538462, 0.        , 0.        , 0.01538462,\n",
       "        0.        , 0.01538462, 0.        , 0.01538462, 0.01538462,\n",
       "        0.01538462, 0.        , 0.        , 0.01538462, 0.        ,\n",
       "        0.        , 0.        , 0.        , 0.        , 0.        ,\n",
       "        0.        , 0.        , 0.        , 0.01538462, 0.        ,\n",
       "        0.01538462, 0.        , 0.        , 0.        , 0.01538462,\n",
       "        0.01538462, 0.        , 0.        , 0.        , 0.        ,\n",
       "        0.        , 0.        , 0.        , 0.        , 0.        ,\n",
       "        0.01538462, 0.        , 0.01538462, 0.        , 0.        ,\n",
       "        0.        , 0.        , 0.        , 0.        , 0.        ,\n",
       "        0.        , 0.01538462, 0.        , 0.        , 0.        ,\n",
       "        0.        , 0.        , 0.        , 0.01538462, 0.01538462,\n",
       "        0.        , 0.        , 0.        , 0.01538462, 0.        ,\n",
       "        0.01538462, 0.01538462, 0.        , 0.01538462, 0.        ,\n",
       "        0.        , 0.        , 0.        , 0.        , 0.        ,\n",
       "        0.        , 0.01538462, 0.        , 0.        , 0.        ,\n",
       "        0.        , 0.        , 0.        , 0.01538462, 0.        ,\n",
       "        0.        , 0.        , 0.        , 0.01538462, 0.        ,\n",
       "        0.        , 0.01538462, 0.        , 0.        , 0.        ,\n",
       "        0.        , 0.        , 0.        , 0.01538462, 0.        ,\n",
       "        0.        , 0.        , 0.        , 0.        , 0.        ,\n",
       "        0.        , 0.01538462, 0.01538462, 0.01538462, 0.01538462,\n",
       "        0.        , 0.        , 0.        , 0.        , 0.        ,\n",
       "        0.        , 0.        , 0.        , 0.        , 0.        ,\n",
       "        0.        , 0.        , 0.        , 0.        , 0.        ,\n",
       "        0.01538462, 0.01538462, 0.        , 0.01538462, 0.        ,\n",
       "        0.01538462, 0.        , 0.01538462, 0.        , 0.        ,\n",
       "        0.        , 0.        , 0.        , 0.        , 0.01538462,\n",
       "        0.        , 0.        , 0.        , 0.        , 0.01538462,\n",
       "        0.        , 0.        , 0.        , 0.        , 0.        ,\n",
       "        0.01538462, 0.01538462])}"
      ]
     },
     "execution_count": 59,
     "metadata": {},
     "output_type": "execute_result"
    }
   ],
   "source": [
    "nxt"
   ]
  },
  {
   "cell_type": "code",
   "execution_count": 60,
   "metadata": {},
   "outputs": [],
   "source": [
    "ua, episode_over, reward = user_sim.next(nxt)"
   ]
  },
  {
   "cell_type": "code",
   "execution_count": 61,
   "metadata": {},
   "outputs": [
    {
     "data": {
      "text/plain": [
       "{'diaact': 'inform',\n",
       " 'turn': 1,\n",
       " 'inform_slots': {'genre': 'comedy'},\n",
       " 'request_slots': {},\n",
       " 'prev_diaact': 'request',\n",
       " 'inform_slots_noisy': {'genre': 'comedy'},\n",
       " 'nl_sentence': 'It is comedy.',\n",
       " 'episode_over': False,\n",
       " 'reward': -0.1}"
      ]
     },
     "execution_count": 61,
     "metadata": {},
     "output_type": "execute_result"
    }
   ],
   "source": [
    "ua"
   ]
  },
  {
   "cell_type": "code",
   "execution_count": 62,
   "metadata": {
    "scrolled": true
   },
   "outputs": [
    {
     "name": "stdout",
     "output_type": "stream",
     "text": [
      "Agent updating state:  request genre\n",
      "Detected adult comedy  update =  0.5\n",
      "Detected romantic comedy  update =  0.5\n",
      "Detected comedy  update =  1.0\n",
      "Agent slot belief entropies - \n",
      "actor:1.00 critic_rating:3.28 genre:1.71 mpaa_rating:1.58 director:1.99 release_year:0.43\n"
     ]
    },
    {
     "data": {
      "text/plain": [
       "{'database': <deep_dialog.dialog_system.database.Database at 0x2486c2fde88>,\n",
       " 'prevact': 'request@critic_rating',\n",
       " 'inform_slots': {'actor': array([0.5092593 , 0.49074075], dtype=float32),\n",
       "  'critic_rating': array([0.10798122, 0.07511737, 0.08450704, 0.16431925, 0.11267605,\n",
       "         0.09859155, 0.08920188, 0.09859155, 0.08450704, 0.08450704],\n",
       "        dtype=float32),\n",
       "  'genre': array([ 0.09345794,  0.08878504,  0.08878504, 15.084112  , 15.070093  ,\n",
       "          0.06542056,  0.03738318,  0.07943925,  0.06074766,  0.07009346,\n",
       "          0.06542056, 20.084112  ,  0.11214953], dtype=float32),\n",
       "  'mpaa_rating': array([0.34545454, 0.3272727 , 0.3272727 ], dtype=float32),\n",
       "  'director': array([0.26339287, 0.26339287, 0.20089285, 0.27232143], dtype=float32),\n",
       "  'release_year': array([ 0.06086956,  0.07391305,  0.07391305,  0.06956521,  0.06086956,\n",
       "          0.08260869,  0.03478261,  0.04347826,  0.07391305,  0.07826087,\n",
       "          0.04347826,  0.06956521,  0.03043478,  0.06086956, 20.07826   ,\n",
       "          0.06521739], dtype=float32)},\n",
       " 'turn': 2,\n",
       " 'init_entropy': {'actor': 0.9997526100334744,\n",
       "  'critic_rating': 3.2841470133855744,\n",
       "  'genre': 3.660058353210298,\n",
       "  'mpaa_rating': 1.5844883898180346,\n",
       "  'director': 1.9901216765729273,\n",
       "  'release_year': 3.9503124872328668},\n",
       " 'num_requests': {'actor': 0,\n",
       "  'critic_rating': 1,\n",
       "  'genre': 1,\n",
       "  'mpaa_rating': 0,\n",
       "  'director': 0,\n",
       "  'release_year': 0},\n",
       " 'slot_tracker': {'genre', 'release_year'},\n",
       " 'dont_care': set()}"
      ]
     },
     "execution_count": 62,
     "metadata": {},
     "output_type": "execute_result"
    }
   ],
   "source": [
    "nxt = agent.next(ua, verbose=True)\n",
    "agent.state"
   ]
  },
  {
   "cell_type": "code",
   "execution_count": 63,
   "metadata": {
    "scrolled": true
   },
   "outputs": [
    {
     "data": {
      "text/plain": [
       "{'diaact': 'request',\n",
       " 'request_slots': {'critic_rating': 'UNK'},\n",
       " 'target': [],\n",
       " 'posterior': array([0.        , 0.        , 0.        , 0.        , 0.        ,\n",
       "        0.        , 0.        , 0.        , 0.        , 0.        ,\n",
       "        0.        , 0.        , 0.        , 0.        , 0.        ,\n",
       "        0.        , 0.        , 0.        , 0.        , 0.        ,\n",
       "        0.        , 0.        , 0.        , 0.        , 0.        ,\n",
       "        0.        , 0.        , 0.        , 0.        , 0.        ,\n",
       "        0.        , 0.        , 0.        , 0.04545455, 0.        ,\n",
       "        0.        , 0.        , 0.04545455, 0.        , 0.        ,\n",
       "        0.        , 0.        , 0.        , 0.04545455, 0.        ,\n",
       "        0.        , 0.        , 0.        , 0.        , 0.04545455,\n",
       "        0.        , 0.        , 0.        , 0.        , 0.        ,\n",
       "        0.        , 0.        , 0.04545455, 0.04545455, 0.        ,\n",
       "        0.        , 0.        , 0.        , 0.        , 0.        ,\n",
       "        0.        , 0.        , 0.        , 0.        , 0.        ,\n",
       "        0.        , 0.        , 0.        , 0.04545455, 0.        ,\n",
       "        0.        , 0.        , 0.04545455, 0.        , 0.        ,\n",
       "        0.        , 0.        , 0.        , 0.        , 0.        ,\n",
       "        0.        , 0.        , 0.        , 0.        , 0.        ,\n",
       "        0.        , 0.        , 0.        , 0.        , 0.        ,\n",
       "        0.        , 0.        , 0.        , 0.        , 0.04545455,\n",
       "        0.        , 0.        , 0.        , 0.        , 0.        ,\n",
       "        0.        , 0.        , 0.        , 0.        , 0.        ,\n",
       "        0.        , 0.        , 0.        , 0.        , 0.        ,\n",
       "        0.        , 0.        , 0.        , 0.        , 0.        ,\n",
       "        0.        , 0.        , 0.        , 0.        , 0.        ,\n",
       "        0.        , 0.        , 0.        , 0.        , 0.        ,\n",
       "        0.        , 0.        , 0.        , 0.        , 0.        ,\n",
       "        0.        , 0.        , 0.        , 0.        , 0.        ,\n",
       "        0.        , 0.        , 0.        , 0.        , 0.        ,\n",
       "        0.        , 0.        , 0.        , 0.        , 0.        ,\n",
       "        0.04545455, 0.        , 0.        , 0.        , 0.        ,\n",
       "        0.04545455, 0.        , 0.        , 0.        , 0.        ,\n",
       "        0.        , 0.        , 0.        , 0.        , 0.        ,\n",
       "        0.        , 0.        , 0.        , 0.        , 0.        ,\n",
       "        0.        , 0.        , 0.        , 0.        , 0.        ,\n",
       "        0.        , 0.04545455, 0.        , 0.        , 0.        ,\n",
       "        0.        , 0.        , 0.        , 0.        , 0.        ,\n",
       "        0.        , 0.        , 0.        , 0.04545455, 0.        ,\n",
       "        0.        , 0.04545455, 0.        , 0.        , 0.        ,\n",
       "        0.        , 0.        , 0.        , 0.        , 0.        ,\n",
       "        0.        , 0.04545455, 0.        , 0.        , 0.        ,\n",
       "        0.        , 0.        , 0.        , 0.        , 0.        ,\n",
       "        0.        , 0.        , 0.        , 0.        , 0.        ,\n",
       "        0.        , 0.04545455, 0.        , 0.        , 0.        ,\n",
       "        0.        , 0.        , 0.        , 0.04545455, 0.        ,\n",
       "        0.        , 0.        , 0.        , 0.        , 0.        ,\n",
       "        0.        , 0.        , 0.        , 0.        , 0.        ,\n",
       "        0.        , 0.        , 0.        , 0.        , 0.        ,\n",
       "        0.        , 0.        , 0.        , 0.        , 0.        ,\n",
       "        0.        , 0.        , 0.        , 0.        , 0.        ,\n",
       "        0.04545455, 0.        , 0.        , 0.        , 0.        ,\n",
       "        0.        , 0.        , 0.04545455, 0.        , 0.        ,\n",
       "        0.        , 0.        , 0.        , 0.        , 0.04545455,\n",
       "        0.        , 0.        , 0.        , 0.        , 0.04545455,\n",
       "        0.        , 0.        , 0.        , 0.        , 0.        ,\n",
       "        0.        , 0.04545455])}"
      ]
     },
     "execution_count": 63,
     "metadata": {},
     "output_type": "execute_result"
    }
   ],
   "source": [
    "nxt"
   ]
  },
  {
   "cell_type": "code",
   "execution_count": 64,
   "metadata": {},
   "outputs": [],
   "source": [
    "ua, episode_over, reward = user_sim.next(nxt)"
   ]
  },
  {
   "cell_type": "code",
   "execution_count": 65,
   "metadata": {},
   "outputs": [
    {
     "data": {
      "text/plain": [
       "{'diaact': 'inform',\n",
       " 'turn': 2,\n",
       " 'inform_slots': {'critic_rating': None},\n",
       " 'request_slots': {},\n",
       " 'prev_diaact': 'inform',\n",
       " 'inform_slots_noisy': {'critic_rating': None},\n",
       " 'nl_sentence': 'I dont know',\n",
       " 'episode_over': False,\n",
       " 'reward': -0.1}"
      ]
     },
     "execution_count": 65,
     "metadata": {},
     "output_type": "execute_result"
    }
   ],
   "source": [
    "ua"
   ]
  },
  {
   "cell_type": "code",
   "execution_count": 66,
   "metadata": {
    "scrolled": true
   },
   "outputs": [
    {
     "name": "stdout",
     "output_type": "stream",
     "text": [
      "Agent updating state:  request critic_rating\n",
      "Agent slot belief entropies - \n",
      "actor:1.00 critic_rating:3.28 genre:1.71 mpaa_rating:1.58 director:1.99 release_year:0.43\n"
     ]
    },
    {
     "data": {
      "text/plain": [
       "{'database': <deep_dialog.dialog_system.database.Database at 0x2486c2fde88>,\n",
       " 'prevact': 'request@director',\n",
       " 'inform_slots': {'actor': array([0.5092593 , 0.49074075], dtype=float32),\n",
       "  'critic_rating': array([0.10798122, 0.07511737, 0.08450704, 0.16431925, 0.11267605,\n",
       "         0.09859155, 0.08920188, 0.09859155, 0.08450704, 0.08450704],\n",
       "        dtype=float32),\n",
       "  'genre': array([ 0.09345794,  0.08878504,  0.08878504, 15.084112  , 15.070093  ,\n",
       "          0.06542056,  0.03738318,  0.07943925,  0.06074766,  0.07009346,\n",
       "          0.06542056, 20.084112  ,  0.11214953], dtype=float32),\n",
       "  'mpaa_rating': array([0.34545454, 0.3272727 , 0.3272727 ], dtype=float32),\n",
       "  'director': array([0.26339287, 0.26339287, 0.20089285, 0.27232143], dtype=float32),\n",
       "  'release_year': array([ 0.06086956,  0.07391305,  0.07391305,  0.06956521,  0.06086956,\n",
       "          0.08260869,  0.03478261,  0.04347826,  0.07391305,  0.07826087,\n",
       "          0.04347826,  0.06956521,  0.03043478,  0.06086956, 20.07826   ,\n",
       "          0.06521739], dtype=float32)},\n",
       " 'turn': 3,\n",
       " 'init_entropy': {'actor': 0.9997526100334744,\n",
       "  'critic_rating': 3.2841470133855744,\n",
       "  'genre': 3.660058353210298,\n",
       "  'mpaa_rating': 1.5844883898180346,\n",
       "  'director': 1.9901216765729273,\n",
       "  'release_year': 3.9503124872328668},\n",
       " 'num_requests': {'actor': 0,\n",
       "  'critic_rating': 1000,\n",
       "  'genre': 1,\n",
       "  'mpaa_rating': 0,\n",
       "  'director': 1,\n",
       "  'release_year': 0},\n",
       " 'slot_tracker': {'genre', 'release_year'},\n",
       " 'dont_care': {'critic_rating'}}"
      ]
     },
     "execution_count": 66,
     "metadata": {},
     "output_type": "execute_result"
    }
   ],
   "source": [
    "nxt = agent.next(ua, verbose=True)\n",
    "agent.state"
   ]
  },
  {
   "cell_type": "code",
   "execution_count": 67,
   "metadata": {},
   "outputs": [],
   "source": [
    "ua, episode_over, reward = user_sim.next(nxt)"
   ]
  },
  {
   "cell_type": "code",
   "execution_count": 68,
   "metadata": {},
   "outputs": [
    {
     "data": {
      "text/plain": [
       "{'diaact': 'inform',\n",
       " 'turn': 3,\n",
       " 'inform_slots': {'director': None},\n",
       " 'request_slots': {},\n",
       " 'prev_diaact': 'inform',\n",
       " 'inform_slots_noisy': {'director': None},\n",
       " 'nl_sentence': 'I cannot remember',\n",
       " 'episode_over': False,\n",
       " 'reward': -0.1}"
      ]
     },
     "execution_count": 68,
     "metadata": {},
     "output_type": "execute_result"
    }
   ],
   "source": [
    "ua"
   ]
  },
  {
   "cell_type": "code",
   "execution_count": 69,
   "metadata": {},
   "outputs": [
    {
     "name": "stdout",
     "output_type": "stream",
     "text": [
      "Agent updating state:  request director\n",
      "Removing slot director from db!\n",
      "Agent slot belief entropies - \n",
      "actor:1.00 critic_rating:3.28 genre:1.71 mpaa_rating:1.58 director:1.99 release_year:0.43\n"
     ]
    },
    {
     "data": {
      "text/plain": [
       "{'database': <deep_dialog.dialog_system.database.Database at 0x2486c2fde88>,\n",
       " 'prevact': 'request@mpaa_rating',\n",
       " 'inform_slots': {'actor': array([0.5092593 , 0.49074075], dtype=float32),\n",
       "  'critic_rating': array([0.10798122, 0.07511737, 0.08450704, 0.16431925, 0.11267605,\n",
       "         0.09859155, 0.08920188, 0.09859155, 0.08450704, 0.08450704],\n",
       "        dtype=float32),\n",
       "  'genre': array([ 0.09345794,  0.08878504,  0.08878504, 15.084112  , 15.070093  ,\n",
       "          0.06542056,  0.03738318,  0.07943925,  0.06074766,  0.07009346,\n",
       "          0.06542056, 20.084112  ,  0.11214953], dtype=float32),\n",
       "  'mpaa_rating': array([0.34545454, 0.3272727 , 0.3272727 ], dtype=float32),\n",
       "  'director': array([0.26339287, 0.26339287, 0.20089285, 0.27232143], dtype=float32),\n",
       "  'release_year': array([ 0.06086956,  0.07391305,  0.07391305,  0.06956521,  0.06086956,\n",
       "          0.08260869,  0.03478261,  0.04347826,  0.07391305,  0.07826087,\n",
       "          0.04347826,  0.06956521,  0.03043478,  0.06086956, 20.07826   ,\n",
       "          0.06521739], dtype=float32)},\n",
       " 'turn': 4,\n",
       " 'init_entropy': {'actor': 0.9997526100334744,\n",
       "  'critic_rating': 3.2841470133855744,\n",
       "  'genre': 3.660058353210298,\n",
       "  'mpaa_rating': 1.5844883898180346,\n",
       "  'director': 1.9901216765729273,\n",
       "  'release_year': 3.9503124872328668},\n",
       " 'num_requests': {'actor': 0,\n",
       "  'critic_rating': 1000,\n",
       "  'genre': 1,\n",
       "  'mpaa_rating': 1,\n",
       "  'director': 1000,\n",
       "  'release_year': 0},\n",
       " 'slot_tracker': {'genre', 'release_year'},\n",
       " 'dont_care': {'critic_rating', 'director'}}"
      ]
     },
     "execution_count": 69,
     "metadata": {},
     "output_type": "execute_result"
    }
   ],
   "source": [
    "nxt = agent.next(ua, verbose=True)\n",
    "agent.state"
   ]
  },
  {
   "cell_type": "code",
   "execution_count": 70,
   "metadata": {
    "scrolled": true
   },
   "outputs": [],
   "source": [
    "ua, episode_over, reward = user_sim.next(nxt)"
   ]
  },
  {
   "cell_type": "code",
   "execution_count": 71,
   "metadata": {},
   "outputs": [
    {
     "data": {
      "text/plain": [
       "{'diaact': 'inform',\n",
       " 'turn': 4,\n",
       " 'inform_slots': {'mpaa_rating': 'r'},\n",
       " 'request_slots': {},\n",
       " 'prev_diaact': 'inform',\n",
       " 'inform_slots_noisy': {'mpaa_rating': 'r'},\n",
       " 'nl_sentence': 'r mpaa_rating',\n",
       " 'episode_over': False,\n",
       " 'reward': -0.1}"
      ]
     },
     "execution_count": 71,
     "metadata": {},
     "output_type": "execute_result"
    }
   ],
   "source": [
    "ua"
   ]
  },
  {
   "cell_type": "code",
   "execution_count": 72,
   "metadata": {
    "scrolled": true
   },
   "outputs": [
    {
     "name": "stdout",
     "output_type": "stream",
     "text": [
      "Agent updating state:  request mpaa_rating\n",
      "Detected r  update =  1.0\n",
      "Agent slot belief entropies - \n",
      "actor:1.00 critic_rating:3.28 genre:1.71 mpaa_rating:0.17 director:1.99 release_year:0.43\n"
     ]
    },
    {
     "data": {
      "text/plain": [
       "{'database': <deep_dialog.dialog_system.database.Database at 0x2486c2fde88>,\n",
       " 'prevact': 'inform@inform',\n",
       " 'inform_slots': {'actor': array([0.5092593 , 0.49074075], dtype=float32),\n",
       "  'critic_rating': array([0.10798122, 0.07511737, 0.08450704, 0.16431925, 0.11267605,\n",
       "         0.09859155, 0.08920188, 0.09859155, 0.08450704, 0.08450704],\n",
       "        dtype=float32),\n",
       "  'genre': array([ 0.09345794,  0.08878504,  0.08878504, 15.084112  , 15.070093  ,\n",
       "          0.06542056,  0.03738318,  0.07943925,  0.06074766,  0.07009346,\n",
       "          0.06542056, 20.084112  ,  0.11214953], dtype=float32),\n",
       "  'mpaa_rating': array([30.345455 ,  0.3272727,  0.3272727], dtype=float32),\n",
       "  'director': array([0.26339287, 0.26339287, 0.20089285, 0.27232143], dtype=float32),\n",
       "  'release_year': array([ 0.06086956,  0.07391305,  0.07391305,  0.06956521,  0.06086956,\n",
       "          0.08260869,  0.03478261,  0.04347826,  0.07391305,  0.07826087,\n",
       "          0.04347826,  0.06956521,  0.03043478,  0.06086956, 20.07826   ,\n",
       "          0.06521739], dtype=float32)},\n",
       " 'turn': 5,\n",
       " 'init_entropy': {'actor': 0.9997526100334744,\n",
       "  'critic_rating': 3.2841470133855744,\n",
       "  'genre': 3.660058353210298,\n",
       "  'mpaa_rating': 1.5844883898180346,\n",
       "  'director': 1.9901216765729273,\n",
       "  'release_year': 3.9503124872328668},\n",
       " 'num_requests': {'actor': 0,\n",
       "  'critic_rating': 1000,\n",
       "  'genre': 1,\n",
       "  'mpaa_rating': 1,\n",
       "  'director': 1000,\n",
       "  'release_year': 0},\n",
       " 'slot_tracker': {'genre', 'mpaa_rating', 'release_year'},\n",
       " 'dont_care': {'critic_rating', 'director'}}"
      ]
     },
     "execution_count": 72,
     "metadata": {},
     "output_type": "execute_result"
    }
   ],
   "source": [
    "nxt = agent.next(ua, verbose=True)\n",
    "agent.state"
   ]
  },
  {
   "cell_type": "code",
   "execution_count": 73,
   "metadata": {},
   "outputs": [
    {
     "name": "stdout",
     "output_type": "stream",
     "text": [
      "Просил 176, нашли на позиции 3\n"
     ]
    }
   ],
   "source": [
    "ua, episode_over, reward = user_sim.next(nxt)"
   ]
  },
  {
   "cell_type": "code",
   "execution_count": 74,
   "metadata": {},
   "outputs": [
    {
     "data": {
      "text/plain": [
       "{'diaact': 'thanks',\n",
       " 'turn': 5,\n",
       " 'inform_slots': {},\n",
       " 'request_slots': {},\n",
       " 'prev_diaact': 'inform',\n",
       " 'inform_slots_noisy': {},\n",
       " 'nl_sentence': 'Thank you!',\n",
       " 'episode_over': True,\n",
       " 'reward': 0.8}"
      ]
     },
     "execution_count": 74,
     "metadata": {},
     "output_type": "execute_result"
    }
   ],
   "source": [
    "ua"
   ]
  },
  {
   "cell_type": "code",
   "execution_count": null,
   "metadata": {},
   "outputs": [],
   "source": []
  },
  {
   "cell_type": "code",
   "execution_count": null,
   "metadata": {},
   "outputs": [],
   "source": []
  },
  {
   "cell_type": "code",
   "execution_count": null,
   "metadata": {},
   "outputs": [],
   "source": []
  },
  {
   "cell_type": "code",
   "execution_count": null,
   "metadata": {},
   "outputs": [],
   "source": []
  },
  {
   "cell_type": "code",
   "execution_count": null,
   "metadata": {},
   "outputs": [],
   "source": []
  },
  {
   "cell_type": "code",
   "execution_count": null,
   "metadata": {},
   "outputs": [],
   "source": []
  },
  {
   "cell_type": "code",
   "execution_count": null,
   "metadata": {},
   "outputs": [],
   "source": []
  },
  {
   "cell_type": "code",
   "execution_count": null,
   "metadata": {},
   "outputs": [],
   "source": []
  },
  {
   "cell_type": "code",
   "execution_count": 13,
   "metadata": {},
   "outputs": [
    {
     "ename": "NameError",
     "evalue": "name 'AgentActRule' is not defined",
     "output_type": "error",
     "traceback": [
      "\u001b[1;31m---------------------------------------------------------------------------\u001b[0m",
      "\u001b[1;31mNameError\u001b[0m                                 Traceback (most recent call last)",
      "\u001b[1;32m<ipython-input-13-b3969d305e1a>\u001b[0m in \u001b[0;36m<module>\u001b[1;34m\u001b[0m\n\u001b[0;32m     10\u001b[0m                          max_first_turn=max_first_turn)\n\u001b[0;32m     11\u001b[0m \u001b[1;33m\u001b[0m\u001b[0m\n\u001b[1;32m---> 12\u001b[1;33m agent = AgentActRule(movie_kb, act_set, slot_set, db_inc,\n\u001b[0m\u001b[0;32m     13\u001b[0m             \u001b[0mupd\u001b[0m\u001b[1;33m=\u001b[0m\u001b[0mparams\u001b[0m\u001b[1;33m[\u001b[0m\u001b[1;34m'upd'\u001b[0m\u001b[1;33m]\u001b[0m\u001b[1;33m,\u001b[0m \u001b[0mtr\u001b[0m\u001b[1;33m=\u001b[0m\u001b[0mparams\u001b[0m\u001b[1;33m[\u001b[0m\u001b[1;34m'tr'\u001b[0m\u001b[1;33m]\u001b[0m\u001b[1;33m,\u001b[0m \u001b[0mts\u001b[0m\u001b[1;33m=\u001b[0m\u001b[0mparams\u001b[0m\u001b[1;33m[\u001b[0m\u001b[1;34m'ts'\u001b[0m\u001b[1;33m]\u001b[0m\u001b[1;33m,\u001b[0m\u001b[1;33m\u001b[0m\u001b[1;33m\u001b[0m\u001b[0m\n\u001b[0;32m     14\u001b[0m             frac=params['frac'], max_req=params['max_req'])\n",
      "\u001b[1;31mNameError\u001b[0m: name 'AgentActRule' is not defined"
     ]
    }
   ],
   "source": [
    "import numpy as np\n",
    "import time\n",
    "\n",
    "N = 1 # количество симуляций\n",
    "\n",
    "\n",
    "user_sim = RuleSimulator(movie_dict=movie_kb, act_set=act_set, slot_set=slot_set, \n",
    "                         start_set=None, max_turn=max_turn, nlg=nlg, err_prob=err_prob, \n",
    "                         db=db_full, dk_prob=(1.-dk_prob), sub_prob=sub_prob, \n",
    "                         max_first_turn=max_first_turn)\n",
    "\n",
    "agent = AgentActRule(movie_kb, act_set, slot_set, db_inc,\n",
    "            upd=params['upd'], tr=params['tr'], ts=params['ts'], \n",
    "            frac=params['frac'], max_req=params['max_req'])\n",
    "\n",
    "dialog_manager = DialogManager(agent, user_sim, db_full, db_inc, movie_kb, verbose=True)"
   ]
  },
  {
   "cell_type": "code",
   "execution_count": 53,
   "metadata": {},
   "outputs": [
    {
     "name": "stdout",
     "output_type": "stream",
     "text": [
      "У искомой сущности есть слоты (в неполной БД) ['critic_rating', 'genre', 'director']\n",
      "Пользователь уже назвал (?): {'genre': 'action', 'director': 'zack snyder'}\n",
      "User target =  movie:interstellar, actor:tina fey, critic_rating:8%, genre:action, mpaa_rating:r, director:zack snyder, release_year:2001\n",
      "User information =  critic_rating:8%, genre:action, director:zack snyder \n",
      "\n",
      "UTT:  I am looking for a movie with director zack snyder and genre action.\n",
      "Turn 0 user action: request \t inform slots: {'genre': 'action', 'director': 'zack snyder'}\n",
      "Utterance: I am looking for a movie with director zack snyder and genre action. \n",
      "\n",
      "query for lookup [None, None, 'action', None, 'zack snyder', None]\n",
      "Нашло 35 строк\n",
      "в запросе участвовали не все слоты и нашелся не один ответ\n",
      "Энтропии:  {'actor': 1.5525278240272846, 'critic_rating': 3.163740516388646, 'mpaa_rating': 1.919728081444846, 'release_year': 3.5672534608576205}\n",
      "Turn 1 sys action: request, request slots: {'release_year': 'UNK'}\n",
      "\n",
      "I cannot remember\n",
      "Turn 1 user action: inform \t inform slots: {'release_year': None}\n",
      "Utterance: I cannot remember \n",
      "\n",
      "query for lookup [None, None, 'action', None, 'zack snyder', None]\n",
      "Нашло 35 строк\n",
      "в запросе участвовали не все слоты и нашелся не один ответ\n",
      "Энтропии:  {'actor': 1.5525278240272846, 'critic_rating': 3.163740516388646, 'mpaa_rating': 1.919728081444846}\n",
      "Turn 2 sys action: request, request slots: {'critic_rating': 'UNK'}\n",
      "\n",
      "The critic_rating is 8%.\n",
      "Turn 2 user action: inform \t inform slots: {'critic_rating': '8%'}\n",
      "Utterance: The critic_rating is 8%. \n",
      "\n",
      "query for lookup [None, '8%', 'action', None, 'zack snyder', None]\n",
      "Нашло 13 строк\n",
      "в запросе участвовали не все слоты и нашелся не один ответ\n",
      "Энтропии:  {'actor': 1.4195562985716133, 'mpaa_rating': 1.77585894824464}\n",
      "Turn 3 sys action: request, request slots: {'mpaa_rating': 'UNK'}\n",
      "\n",
      "I cannot remember\n",
      "Turn 3 user action: inform \t inform slots: {'mpaa_rating': None}\n",
      "Utterance: I cannot remember \n",
      "\n",
      "query for lookup [None, '8%', 'action', None, 'zack snyder', None]\n",
      "Нашло 13 строк\n",
      "в запросе участвовали не все слоты и нашелся не один ответ\n",
      "Энтропии:  {'actor': 1.4195562985716133}\n",
      "Turn 4 sys action: request, request slots: {'actor': 'UNK'}\n",
      "\n",
      "I cannot remember\n",
      "Turn 4 user action: inform \t inform slots: {'actor': None}\n",
      "Utterance: I cannot remember \n",
      "\n",
      "query for lookup [None, '8%', 'action', None, 'zack snyder', None]\n",
      "Нашло 13 строк\n",
      "если в запросе участвовали все слоты либо нашелся 1 вариант => вернуть ответ\n",
      "Turn 5 sys action: inform, request slots: {}\n",
      "\n",
      "Просил 62, нашли на позиции 2\n",
      "Agent Results:\n",
      "tokyo story\tryan reynolds\tUNK\tUNK\tpg\tUNK\t2009\n",
      "on the waterfront\tUNK\t8%\tUNK\tr\tzack snyder\tUNK\n",
      "interstellar\ttina fey\t8%\taction\tUNK\tzack snyder\tUNK\n",
      "young messiah\tryan reynolds\tUNK\tUNK\tpg\tUNK\t2005\n",
      "hail caesar\tryan reynolds\tUNK\tUNK\tUNK\tUNK\t2009\n",
      "Thank you!\n",
      "Successful Dialog! Total reward = 0.7999999999999999\n"
     ]
    }
   ],
   "source": [
    "all_rewards = np.zeros((N,))\n",
    "all_success = np.zeros((N,))\n",
    "all_turns = np.zeros((N,))\n",
    "tst = time.time()\n",
    "\n",
    "for i in range(N):\n",
    "    current_reward = 0\n",
    "    current_success = False\n",
    "    ua = dialog_manager.initialize_episode()\n",
    "    utt = ua['nl_sentence']\n",
    "    print('UTT: ', utt)\n",
    "    t = 0\n",
    "    while(True):\n",
    "        t += 1\n",
    "        episode_over, reward, ua, sa = dialog_manager.next_turn()\n",
    "        utt = ua['nl_sentence']\n",
    "        print(utt)\n",
    "        current_reward += reward\n",
    "        if episode_over:\n",
    "            if reward > 0:\n",
    "                print (\"Successful Dialog! Total reward = {}\".format(current_reward))\n",
    "                current_success = True\n",
    "            else:\n",
    "                print (\"Failed Dialog! Total reward = {}\".format(current_reward))\n",
    "            break\n",
    "    all_rewards[i] = current_reward\n",
    "    all_success[i] = 1 if current_success else 0\n",
    "    all_turns[i] = t"
   ]
  },
  {
   "cell_type": "code",
   "execution_count": null,
   "metadata": {},
   "outputs": [],
   "source": []
  },
  {
   "cell_type": "code",
   "execution_count": null,
   "metadata": {},
   "outputs": [],
   "source": []
  },
  {
   "cell_type": "code",
   "execution_count": 47,
   "metadata": {},
   "outputs": [
    {
     "name": "stdout",
     "output_type": "stream",
     "text": [
      "Просил 275, нашли на позиции 0\n"
     ]
    }
   ],
   "source": [
    "ua, episode_over, reward = user_sim.next(nxt)"
   ]
  },
  {
   "cell_type": "code",
   "execution_count": 42,
   "metadata": {},
   "outputs": [],
   "source": [
    "dialog_manager = DialogManager(agent, user_sim, db_full, db_inc, movie_kb, verbose=True)"
   ]
  },
  {
   "cell_type": "code",
   "execution_count": 44,
   "metadata": {},
   "outputs": [
    {
     "name": "stdout",
     "output_type": "stream",
     "text": [
      "Пользователь знает ['genre', 'mpaa_rating', 'director']\n",
      "Симулятор знает {'mpaa_rating': 'r', 'director': 'quentin tarantino'}\n",
      "User target =  movie:hachi: a dog's tale, actor:ryan reynolds, critic_rating:4.5/5, genre:sci-fi, mpaa_rating:r, director:quentin tarantino, release_year:2004\n",
      "User information =  genre:sci-fi, mpaa_rating:r, director:quentin tarantino \n",
      "\n"
     ]
    },
    {
     "data": {
      "text/plain": [
       "{'diaact': 'request',\n",
       " 'turn': 0,\n",
       " 'inform_slots': {'mpaa_rating': 'r', 'director': 'quentin tarantino'},\n",
       " 'request_slots': {'movie': 'UNK'},\n",
       " 'prev_diaact': 'UNK',\n",
       " 'inform_slots_noisy': {'mpaa_rating': 'r', 'director': 'christopher'},\n",
       " 'nl_sentence': 'Can you please tell me a movie whose director is christopher and mpaa_rating is r?',\n",
       " 'episode_over': False,\n",
       " 'reward': 0}"
      ]
     },
     "execution_count": 44,
     "metadata": {},
     "output_type": "execute_result"
    }
   ],
   "source": [
    "ua = dialog_manager.initialize_episode()\n",
    "ua"
   ]
  },
  {
   "cell_type": "code",
   "execution_count": null,
   "metadata": {},
   "outputs": [],
   "source": []
  }
 ],
 "metadata": {
  "kernelspec": {
   "display_name": "Python [conda env:torch_kbinfo]",
   "language": "python",
   "name": "conda-env-torch_kbinfo-py"
  },
  "language_info": {
   "codemirror_mode": {
    "name": "ipython",
    "version": 3
   },
   "file_extension": ".py",
   "mimetype": "text/x-python",
   "name": "python",
   "nbconvert_exporter": "python",
   "pygments_lexer": "ipython3",
   "version": "3.7.7"
  }
 },
 "nbformat": 4,
 "nbformat_minor": 2
}
